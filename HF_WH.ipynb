{
 "cells": [
  {
   "cell_type": "markdown",
   "metadata": {
    "slideshow": {
     "slide_type": "slide"
    }
   },
   "source": [
    "### How Human Freedom affects World Happiness?"
   ]
  },
  {
   "cell_type": "markdown",
   "metadata": {
    "slideshow": {
     "slide_type": "slide"
    },
    "tags": [
     "hide_cell"
    ]
   },
   "source": [
    "Ruut Veenhoven studied the relationship between freedoms and happiness in 46 nations in the early 1990's and showed in his research that freedom does not always breed happiness, and suggested that economic freedom deserves priority \n",
    "(link to a paper: https://personal.eur.nl/veenhoven/Pub2000s/2000a-full.pdf)\n",
    "This project aims to utalize the available data in recent years and explore the relationship between world happiness and human freedom using Machine Learning and Vizualisation\n",
    "\n",
    "Datasets are : \n",
    "    1- Human Freedom Dataset\n",
    "    2- World Happiness Dataset\n",
    "The project is divided into sections:\n",
    "\n",
    "    1- EDA (Exploratory Data Analysis)\n",
    "        1.a: Human Freedom Dataset\n",
    "            1.a.1 Data Exploratory\n",
    "                1.a.1.1 box plot of dataset distribution\n",
    "            1.a.2 Preprocssing\n",
    "            1.a.3 Target Feature Extraction\n",
    "        1.b World Happiness Dataset\n",
    "            1.b.1 Data Exploratory\n",
    "                1.b.1.1 box plot of dataset distribution\n",
    "            1.b.2 Preprocssing\n",
    "            1.b.3 Target Feature Extraction\n",
    "        \n",
    "     2- Data Vizualization\n",
    "        2.a Scatter plot:How Generosity affects World Happiness Score?\n",
    "        2.b bubble plot:Does Health threaten Happiness?\n",
    "        2.c Radar plot: How different scores of freedoms affects world happiness?\n",
    "        2.d Heatmap: How world happiness factors and human freedom factors correlate?"
   ]
  },
  {
   "cell_type": "code",
   "execution_count": 1,
   "metadata": {
    "scrolled": false,
    "slideshow": {
     "slide_type": "skip"
    }
   },
   "outputs": [
    {
     "data": {
      "text/html": [
       "<script src=https://d3js.org/d3.v4.min.js></script>"
      ],
      "text/plain": [
       "<IPython.core.display.HTML object>"
      ]
     },
     "execution_count": 1,
     "metadata": {},
     "output_type": "execute_result"
    }
   ],
   "source": [
    "#import packages and scripts\n",
    "from IPython.core.display import HTML\n",
    "from string import Template\n",
    "import pandas as pd\n",
    "import os\n",
    "import json, random\n",
    "import matplotlib.pyplot as plt\n",
    "%matplotlib inline\n",
    "plt.style.use('bmh')\n",
    "#get the d3 host remotely\n",
    "HTML('<script src=https://d3js.org/d3.v4.min.js></script>')\n"
   ]
  },
  {
   "cell_type": "code",
   "execution_count": 2,
   "metadata": {
    "slideshow": {
     "slide_type": "skip"
    }
   },
   "outputs": [
    {
     "data": {
      "text/html": [
       "<h1>Data Viz</h1>"
      ],
      "text/plain": [
       "<IPython.core.display.HTML object>"
      ]
     },
     "execution_count": 2,
     "metadata": {},
     "output_type": "execute_result"
    }
   ],
   "source": [
    "HTML('''<h1>Data Viz</h1>''')"
   ]
  },
  {
   "cell_type": "code",
   "execution_count": 3,
   "metadata": {
    "slideshow": {
     "slide_type": "skip"
    }
   },
   "outputs": [
    {
     "data": {
      "text/plain": [
       "'/Users/skydiver/Desktop/viz'"
      ]
     },
     "execution_count": 3,
     "metadata": {},
     "output_type": "execute_result"
    }
   ],
   "source": [
    "os.getcwd()\n"
   ]
  },
  {
   "cell_type": "markdown",
   "metadata": {
    "slideshow": {
     "slide_type": "slide"
    }
   },
   "source": [
    "### Data Exploratory"
   ]
  },
  {
   "cell_type": "markdown",
   "metadata": {
    "slideshow": {
     "slide_type": "slide"
    }
   },
   "source": [
    "#### Human Freedom Dataset"
   ]
  },
  {
   "cell_type": "markdown",
   "metadata": {
    "slideshow": {
     "slide_type": "skip"
    }
   },
   "source": [
    "The Human Freedom Index measures economic freedoms such as the freedom to trade or to use sound money, and it captures the degree to which people are free to enjoy the major freedoms often referred to as civil liberties—freedom of speech, religion, association, and assembly— in the countries in the survey. In addition, it includes indicators on rule of law, crime and violence, freedom of movement, and legal discrimination against same-sex relationships. We also include nine variables pertaining to women-specific freedoms that are found in various categories of the index.[1]\n",
    "[1]: Ian Vásquez and Tanja Porčnik, The Human Freedom Index 2018: A Global Measurement of Personal, Civil, and Economic Freedom (Washington: Cato Institute, Fraser Institute, and the Friedrich Naumann Foundation for Freedom, 2018)."
   ]
  },
  {
   "cell_type": "code",
   "execution_count": 4,
   "metadata": {
    "slideshow": {
     "slide_type": "skip"
    }
   },
   "outputs": [],
   "source": [
    "#call data\n",
    "hmn_frdm= pd.read_csv(\"new_data/hf.csv\")"
   ]
  },
  {
   "cell_type": "code",
   "execution_count": 5,
   "metadata": {
    "slideshow": {
     "slide_type": "skip"
    }
   },
   "outputs": [
    {
     "data": {
      "text/plain": [
       "Index(['Year', 'ISO_Code', 'Countries', 'PERSONAL FREEDOM (Score)',\n",
       "       'ECONOMIC FREEDOM (Score)', 'HUMAN FREEDOM (Score)',\n",
       "       'HUMAN FREEDOM (Rank)', 'HUMAN FREEDOM (Quartile)'],\n",
       "      dtype='object')"
      ]
     },
     "execution_count": 5,
     "metadata": {},
     "output_type": "execute_result"
    }
   ],
   "source": [
    "#call data\n",
    "hmn_frdm.columns"
   ]
  },
  {
   "cell_type": "code",
   "execution_count": 6,
   "metadata": {
    "slideshow": {
     "slide_type": "slide"
    },
    "tags": [
     "hide_cell"
    ]
   },
   "outputs": [
    {
     "data": {
      "text/html": [
       "<div>\n",
       "<table border=\"1\" class=\"dataframe\">\n",
       "  <thead>\n",
       "    <tr style=\"text-align: right;\">\n",
       "      <th></th>\n",
       "      <th>year</th>\n",
       "      <th>ISO_Code</th>\n",
       "      <th>Country</th>\n",
       "      <th>pf_score</th>\n",
       "      <th>ef_score</th>\n",
       "      <th>hf_score</th>\n",
       "      <th>hf_rank</th>\n",
       "      <th>HF_quartile</th>\n",
       "    </tr>\n",
       "  </thead>\n",
       "  <tbody>\n",
       "    <tr>\n",
       "      <th>0</th>\n",
       "      <td>2015</td>\n",
       "      <td>ALB</td>\n",
       "      <td>Albania</td>\n",
       "      <td>7.78</td>\n",
       "      <td>7.54</td>\n",
       "      <td>7.66</td>\n",
       "      <td>47.0</td>\n",
       "      <td>2.0</td>\n",
       "    </tr>\n",
       "    <tr>\n",
       "      <th>1</th>\n",
       "      <td>2015</td>\n",
       "      <td>DZA</td>\n",
       "      <td>Algeria</td>\n",
       "      <td>5.25</td>\n",
       "      <td>4.84</td>\n",
       "      <td>5.05</td>\n",
       "      <td>153.0</td>\n",
       "      <td>4.0</td>\n",
       "    </tr>\n",
       "    <tr>\n",
       "      <th>2</th>\n",
       "      <td>2015</td>\n",
       "      <td>AGO</td>\n",
       "      <td>Angola</td>\n",
       "      <td>5.72</td>\n",
       "      <td>5.40</td>\n",
       "      <td>5.56</td>\n",
       "      <td>142.0</td>\n",
       "      <td>4.0</td>\n",
       "    </tr>\n",
       "    <tr>\n",
       "      <th>3</th>\n",
       "      <td>2015</td>\n",
       "      <td>ARG</td>\n",
       "      <td>Argentina</td>\n",
       "      <td>8.05</td>\n",
       "      <td>4.88</td>\n",
       "      <td>6.46</td>\n",
       "      <td>108.0</td>\n",
       "      <td>3.0</td>\n",
       "    </tr>\n",
       "    <tr>\n",
       "      <th>4</th>\n",
       "      <td>2015</td>\n",
       "      <td>ARM</td>\n",
       "      <td>Armenia</td>\n",
       "      <td>7.11</td>\n",
       "      <td>7.60</td>\n",
       "      <td>7.36</td>\n",
       "      <td>54.0</td>\n",
       "      <td>2.0</td>\n",
       "    </tr>\n",
       "  </tbody>\n",
       "</table>\n",
       "</div>"
      ],
      "text/plain": [
       "   year ISO_Code    Country  pf_score  ef_score  hf_score  hf_rank  \\\n",
       "0  2015      ALB    Albania      7.78      7.54      7.66     47.0   \n",
       "1  2015      DZA    Algeria      5.25      4.84      5.05    153.0   \n",
       "2  2015      AGO     Angola      5.72      5.40      5.56    142.0   \n",
       "3  2015      ARG  Argentina      8.05      4.88      6.46    108.0   \n",
       "4  2015      ARM    Armenia      7.11      7.60      7.36     54.0   \n",
       "\n",
       "   HF_quartile  \n",
       "0          2.0  \n",
       "1          4.0  \n",
       "2          4.0  \n",
       "3          3.0  \n",
       "4          2.0  "
      ]
     },
     "execution_count": 6,
     "metadata": {},
     "output_type": "execute_result"
    }
   ],
   "source": [
    "hmn_frdm.rename(columns = {'Year':'year','Countries': 'Country', 'PERSONAL FREEDOM (Score)':'pf_score',\n",
    "       'ECONOMIC FREEDOM (Score)':'ef_score', 'HUMAN FREEDOM (Score)':'hf_score',\n",
    "       'HUMAN FREEDOM (Rank)':'hf_rank', 'HUMAN FREEDOM (Quartile)':'HF_quartile'}, \n",
    "                                 inplace = True)\n",
    "hmn_frdm.head()"
   ]
  },
  {
   "cell_type": "code",
   "execution_count": 7,
   "metadata": {
    "slideshow": {
     "slide_type": "skip"
    }
   },
   "outputs": [
    {
     "data": {
      "text/html": [
       "<div>\n",
       "<table border=\"1\" class=\"dataframe\">\n",
       "  <thead>\n",
       "    <tr style=\"text-align: right;\">\n",
       "      <th></th>\n",
       "      <th>year</th>\n",
       "      <th>ISO_Code</th>\n",
       "      <th>Country</th>\n",
       "      <th>pf_score</th>\n",
       "      <th>ef_score</th>\n",
       "      <th>hf_score</th>\n",
       "      <th>hf_rank</th>\n",
       "      <th>HF_quartile</th>\n",
       "    </tr>\n",
       "  </thead>\n",
       "  <tbody>\n",
       "    <tr>\n",
       "      <th>0</th>\n",
       "      <td>2015</td>\n",
       "      <td>ALB</td>\n",
       "      <td>Albania</td>\n",
       "      <td>7.78</td>\n",
       "      <td>7.54</td>\n",
       "      <td>7.66</td>\n",
       "      <td>47.0</td>\n",
       "      <td>2.0</td>\n",
       "    </tr>\n",
       "    <tr>\n",
       "      <th>1</th>\n",
       "      <td>2015</td>\n",
       "      <td>DZA</td>\n",
       "      <td>Algeria</td>\n",
       "      <td>5.25</td>\n",
       "      <td>4.84</td>\n",
       "      <td>5.05</td>\n",
       "      <td>153.0</td>\n",
       "      <td>4.0</td>\n",
       "    </tr>\n",
       "    <tr>\n",
       "      <th>2</th>\n",
       "      <td>2015</td>\n",
       "      <td>AGO</td>\n",
       "      <td>Angola</td>\n",
       "      <td>5.72</td>\n",
       "      <td>5.40</td>\n",
       "      <td>5.56</td>\n",
       "      <td>142.0</td>\n",
       "      <td>4.0</td>\n",
       "    </tr>\n",
       "    <tr>\n",
       "      <th>3</th>\n",
       "      <td>2015</td>\n",
       "      <td>ARG</td>\n",
       "      <td>Argentina</td>\n",
       "      <td>8.05</td>\n",
       "      <td>4.88</td>\n",
       "      <td>6.46</td>\n",
       "      <td>108.0</td>\n",
       "      <td>3.0</td>\n",
       "    </tr>\n",
       "    <tr>\n",
       "      <th>4</th>\n",
       "      <td>2015</td>\n",
       "      <td>ARM</td>\n",
       "      <td>Armenia</td>\n",
       "      <td>7.11</td>\n",
       "      <td>7.60</td>\n",
       "      <td>7.36</td>\n",
       "      <td>54.0</td>\n",
       "      <td>2.0</td>\n",
       "    </tr>\n",
       "  </tbody>\n",
       "</table>\n",
       "</div>"
      ],
      "text/plain": [
       "   year ISO_Code    Country  pf_score  ef_score  hf_score  hf_rank  \\\n",
       "0  2015      ALB    Albania      7.78      7.54      7.66     47.0   \n",
       "1  2015      DZA    Algeria      5.25      4.84      5.05    153.0   \n",
       "2  2015      AGO     Angola      5.72      5.40      5.56    142.0   \n",
       "3  2015      ARG  Argentina      8.05      4.88      6.46    108.0   \n",
       "4  2015      ARM    Armenia      7.11      7.60      7.36     54.0   \n",
       "\n",
       "   HF_quartile  \n",
       "0          2.0  \n",
       "1          4.0  \n",
       "2          4.0  \n",
       "3          3.0  \n",
       "4          2.0  "
      ]
     },
     "execution_count": 7,
     "metadata": {},
     "output_type": "execute_result"
    }
   ],
   "source": [
    "hmn_frdm.head()"
   ]
  },
  {
   "cell_type": "code",
   "execution_count": 8,
   "metadata": {
    "slideshow": {
     "slide_type": "skip"
    }
   },
   "outputs": [
    {
     "data": {
      "text/plain": [
       "(1272, 8)"
      ]
     },
     "execution_count": 8,
     "metadata": {},
     "output_type": "execute_result"
    }
   ],
   "source": [
    "hmn_frdm.shape"
   ]
  },
  {
   "cell_type": "code",
   "execution_count": 9,
   "metadata": {
    "slideshow": {
     "slide_type": "skip"
    }
   },
   "outputs": [
    {
     "name": "stdout",
     "output_type": "stream",
     "text": [
      "<class 'pandas.core.frame.DataFrame'>\n",
      "RangeIndex: 1272 entries, 0 to 1271\n",
      "Data columns (total 8 columns):\n",
      "year           1272 non-null int64\n",
      "ISO_Code       1272 non-null object\n",
      "Country        1272 non-null object\n",
      "pf_score       1216 non-null float64\n",
      "ef_score       1216 non-null float64\n",
      "hf_score       1216 non-null float64\n",
      "hf_rank        1216 non-null float64\n",
      "HF_quartile    1216 non-null float64\n",
      "dtypes: float64(5), int64(1), object(2)\n",
      "memory usage: 79.6+ KB\n"
     ]
    }
   ],
   "source": [
    "hmn_frdm.info()"
   ]
  },
  {
   "cell_type": "markdown",
   "metadata": {
    "slideshow": {
     "slide_type": "skip"
    }
   },
   "source": [
    "There are many columns in the dataset that prevented the function above to fetch it all"
   ]
  },
  {
   "cell_type": "code",
   "execution_count": 10,
   "metadata": {
    "slideshow": {
     "slide_type": "skip"
    }
   },
   "outputs": [
    {
     "data": {
      "text/html": [
       "<div>\n",
       "<table border=\"1\" class=\"dataframe\">\n",
       "  <thead>\n",
       "    <tr style=\"text-align: right;\">\n",
       "      <th></th>\n",
       "      <th>year</th>\n",
       "      <th>pf_score</th>\n",
       "      <th>ef_score</th>\n",
       "      <th>hf_score</th>\n",
       "      <th>hf_rank</th>\n",
       "      <th>HF_quartile</th>\n",
       "    </tr>\n",
       "  </thead>\n",
       "  <tbody>\n",
       "    <tr>\n",
       "      <th>count</th>\n",
       "      <td>1272.000000</td>\n",
       "      <td>1216.000000</td>\n",
       "      <td>1216.000000</td>\n",
       "      <td>1216.000000</td>\n",
       "      <td>1216.000000</td>\n",
       "      <td>1216.000000</td>\n",
       "    </tr>\n",
       "    <tr>\n",
       "      <th>mean</th>\n",
       "      <td>2011.500000</td>\n",
       "      <td>7.211628</td>\n",
       "      <td>6.776826</td>\n",
       "      <td>6.994128</td>\n",
       "      <td>76.410362</td>\n",
       "      <td>2.500000</td>\n",
       "    </tr>\n",
       "    <tr>\n",
       "      <th>std</th>\n",
       "      <td>2.292189</td>\n",
       "      <td>1.365294</td>\n",
       "      <td>0.882497</td>\n",
       "      <td>1.020004</td>\n",
       "      <td>44.140519</td>\n",
       "      <td>1.117758</td>\n",
       "    </tr>\n",
       "    <tr>\n",
       "      <th>min</th>\n",
       "      <td>2008.000000</td>\n",
       "      <td>2.860000</td>\n",
       "      <td>2.920000</td>\n",
       "      <td>4.040000</td>\n",
       "      <td>1.000000</td>\n",
       "      <td>1.000000</td>\n",
       "    </tr>\n",
       "    <tr>\n",
       "      <th>25%</th>\n",
       "      <td>2009.750000</td>\n",
       "      <td>6.160000</td>\n",
       "      <td>6.240000</td>\n",
       "      <td>6.347500</td>\n",
       "      <td>38.750000</td>\n",
       "      <td>1.750000</td>\n",
       "    </tr>\n",
       "    <tr>\n",
       "      <th>50%</th>\n",
       "      <td>2011.500000</td>\n",
       "      <td>7.200000</td>\n",
       "      <td>6.890000</td>\n",
       "      <td>6.930000</td>\n",
       "      <td>75.500000</td>\n",
       "      <td>3.000000</td>\n",
       "    </tr>\n",
       "    <tr>\n",
       "      <th>75%</th>\n",
       "      <td>2013.250000</td>\n",
       "      <td>8.470000</td>\n",
       "      <td>7.392500</td>\n",
       "      <td>7.912500</td>\n",
       "      <td>114.000000</td>\n",
       "      <td>3.000000</td>\n",
       "    </tr>\n",
       "    <tr>\n",
       "      <th>max</th>\n",
       "      <td>2015.000000</td>\n",
       "      <td>9.580000</td>\n",
       "      <td>9.190000</td>\n",
       "      <td>9.140000</td>\n",
       "      <td>159.000000</td>\n",
       "      <td>4.000000</td>\n",
       "    </tr>\n",
       "  </tbody>\n",
       "</table>\n",
       "</div>"
      ],
      "text/plain": [
       "              year     pf_score     ef_score     hf_score      hf_rank  \\\n",
       "count  1272.000000  1216.000000  1216.000000  1216.000000  1216.000000   \n",
       "mean   2011.500000     7.211628     6.776826     6.994128    76.410362   \n",
       "std       2.292189     1.365294     0.882497     1.020004    44.140519   \n",
       "min    2008.000000     2.860000     2.920000     4.040000     1.000000   \n",
       "25%    2009.750000     6.160000     6.240000     6.347500    38.750000   \n",
       "50%    2011.500000     7.200000     6.890000     6.930000    75.500000   \n",
       "75%    2013.250000     8.470000     7.392500     7.912500   114.000000   \n",
       "max    2015.000000     9.580000     9.190000     9.140000   159.000000   \n",
       "\n",
       "       HF_quartile  \n",
       "count  1216.000000  \n",
       "mean      2.500000  \n",
       "std       1.117758  \n",
       "min       1.000000  \n",
       "25%       1.750000  \n",
       "50%       3.000000  \n",
       "75%       3.000000  \n",
       "max       4.000000  "
      ]
     },
     "execution_count": 10,
     "metadata": {},
     "output_type": "execute_result"
    }
   ],
   "source": [
    "hmn_frdm.describe()"
   ]
  },
  {
   "cell_type": "markdown",
   "metadata": {
    "slideshow": {
     "slide_type": "skip"
    }
   },
   "source": [
    "from above the dataset covers data from year 2008 to 2015  "
   ]
  },
  {
   "cell_type": "code",
   "execution_count": 11,
   "metadata": {
    "slideshow": {
     "slide_type": "skip"
    }
   },
   "outputs": [
    {
     "data": {
      "text/plain": [
       "Index(['year', 'pf_score', 'ef_score', 'hf_score', 'hf_rank', 'HF_quartile'], dtype='object')"
      ]
     },
     "execution_count": 11,
     "metadata": {},
     "output_type": "execute_result"
    }
   ],
   "source": [
    "df_num = hmn_frdm.select_dtypes(include = ['float64', 'int64'])\n",
    "df_num.columns"
   ]
  },
  {
   "cell_type": "code",
   "execution_count": 60,
   "metadata": {
    "slideshow": {
     "slide_type": "slide"
    }
   },
   "outputs": [
    {
     "data": {
      "text/html": [
       "<script type=\"text/javascript\">window.PlotlyConfig = {MathJaxConfig: 'local'};</script><script type=\"text/javascript\">if (window.MathJax) {MathJax.Hub.Config({SVG: {font: \"STIX-Web\"}});}</script><script>requirejs.config({paths: { 'plotly': ['https://cdn.plot.ly/plotly-latest.min']},});if(!window._Plotly) {require(['plotly'],function(plotly) {window._Plotly=plotly;});}</script>"
      ],
      "text/vnd.plotly.v1+html": [
       "<script type=\"text/javascript\">window.PlotlyConfig = {MathJaxConfig: 'local'};</script><script type=\"text/javascript\">if (window.MathJax) {MathJax.Hub.Config({SVG: {font: \"STIX-Web\"}});}</script><script>requirejs.config({paths: { 'plotly': ['https://cdn.plot.ly/plotly-latest.min']},});if(!window._Plotly) {require(['plotly'],function(plotly) {window._Plotly=plotly;});}</script>"
      ]
     },
     "metadata": {},
     "output_type": "display_data"
    },
    {
     "data": {
      "application/vnd.plotly.v1+json": {
       "config": {
        "linkText": "Export to plot.ly",
        "plotlyServerURL": "https://plot.ly",
        "showLink": false
       },
       "data": [
        {
         "boxpoints": "all",
         "fillcolor": "rgba(83, 134, 234, 0.5)",
         "jitter": 0.5,
         "line": {
          "width": 1
         },
         "marker": {
          "size": 5
         },
         "name": "pf_score",
         "type": "box",
         "uid": "cf3f3f5f-9599-47ac-98aa-6a5dc3f9d538",
         "whiskerwidth": 0.2,
         "y": [
          7.78,
          7.54,
          7.66,
          2
         ]
        },
        {
         "boxpoints": "all",
         "fillcolor": "rgba(215, 114, 14, 0.5)",
         "jitter": 0.5,
         "line": {
          "width": 1
         },
         "marker": {
          "size": 5
         },
         "name": "ef_score",
         "type": "box",
         "uid": "3a835ac4-5bef-47ad-a56c-c0263cfb9a0d",
         "whiskerwidth": 0.2,
         "y": [
          5.25,
          4.84,
          5.05,
          4
         ]
        },
        {
         "boxpoints": "all",
         "fillcolor": "rgba(14, 110, 101, 0.5)",
         "jitter": 0.5,
         "line": {
          "width": 1
         },
         "marker": {
          "size": 5
         },
         "name": "hf_score",
         "type": "box",
         "uid": "c21c2646-3506-4b9b-800d-00d14bb6366c",
         "whiskerwidth": 0.2,
         "y": [
          5.72,
          5.4,
          5.56,
          4
         ]
        },
        {
         "boxpoints": "all",
         "fillcolor": "rgba(255, 65, 54, 0.5)",
         "jitter": 0.5,
         "line": {
          "width": 1
         },
         "marker": {
          "size": 5
         },
         "name": "HF_quartile",
         "type": "box",
         "uid": "d1bfab6e-d195-4425-8faf-0650c1bf79dd",
         "whiskerwidth": 0.2,
         "y": [
          8.05,
          4.88,
          6.46,
          3
         ]
        }
       ],
       "layout": {
        "margin": {
         "b": 120,
         "l": 40,
         "r": 80,
         "t": 100
        },
        "paper_bgcolor": "rgb(243, 243, 243)",
        "plot_bgcolor": "rgb(243, 243, 243)",
        "showlegend": false,
        "title": {
         "text": "Distribution of Numerical data in the Human Freedom dataset"
        },
        "yaxis": {
         "autorange": true,
         "dtick": 8,
         "gridcolor": "rgb(255, 255, 255)",
         "gridwidth": 1,
         "showgrid": true,
         "zeroline": true,
         "zerolinecolor": "rgb(255, 255, 255)",
         "zerolinewidth": 2
        }
       }
      },
      "text/html": [
       "<div id=\"80a1188d-aa49-4bcf-a4b6-ad03263fa839\" style=\"height: 525px; width: 100%;\" class=\"plotly-graph-div\"></div><script type=\"text/javascript\">require([\"plotly\"], function(Plotly) { window.PLOTLYENV=window.PLOTLYENV || {};window.PLOTLYENV.BASE_URL=\"https://plot.ly\";\n",
       "if (document.getElementById(\"80a1188d-aa49-4bcf-a4b6-ad03263fa839\")) {\n",
       "    Plotly.newPlot(\"80a1188d-aa49-4bcf-a4b6-ad03263fa839\", [{\"boxpoints\": \"all\", \"fillcolor\": \"rgba(83, 134, 234, 0.5)\", \"jitter\": 0.5, \"line\": {\"width\": 1}, \"marker\": {\"size\": 5}, \"name\": \"pf_score\", \"whiskerwidth\": 0.2, \"y\": [7.78, 7.54, 7.66, 2.0], \"type\": \"box\", \"uid\": \"cf3f3f5f-9599-47ac-98aa-6a5dc3f9d538\"}, {\"boxpoints\": \"all\", \"fillcolor\": \"rgba(215, 114, 14, 0.5)\", \"jitter\": 0.5, \"line\": {\"width\": 1}, \"marker\": {\"size\": 5}, \"name\": \"ef_score\", \"whiskerwidth\": 0.2, \"y\": [5.25, 4.84, 5.05, 4.0], \"type\": \"box\", \"uid\": \"3a835ac4-5bef-47ad-a56c-c0263cfb9a0d\"}, {\"boxpoints\": \"all\", \"fillcolor\": \"rgba(14, 110, 101, 0.5)\", \"jitter\": 0.5, \"line\": {\"width\": 1}, \"marker\": {\"size\": 5}, \"name\": \"hf_score\", \"whiskerwidth\": 0.2, \"y\": [5.72, 5.4, 5.56, 4.0], \"type\": \"box\", \"uid\": \"c21c2646-3506-4b9b-800d-00d14bb6366c\"}, {\"boxpoints\": \"all\", \"fillcolor\": \"rgba(255, 65, 54, 0.5)\", \"jitter\": 0.5, \"line\": {\"width\": 1}, \"marker\": {\"size\": 5}, \"name\": \"HF_quartile\", \"whiskerwidth\": 0.2, \"y\": [8.05, 4.88, 6.46, 3.0], \"type\": \"box\", \"uid\": \"d1bfab6e-d195-4425-8faf-0650c1bf79dd\"}], {\"margin\": {\"b\": 120, \"l\": 40, \"r\": 80, \"t\": 100}, \"paper_bgcolor\": \"rgb(243, 243, 243)\", \"plot_bgcolor\": \"rgb(243, 243, 243)\", \"showlegend\": false, \"title\": {\"text\": \"Distribution of Numerical data in the Human Freedom dataset\"}, \"yaxis\": {\"autorange\": true, \"dtick\": 8, \"gridcolor\": \"rgb(255, 255, 255)\", \"gridwidth\": 1, \"showgrid\": true, \"zeroline\": true, \"zerolinecolor\": \"rgb(255, 255, 255)\", \"zerolinewidth\": 2}}, {\"showLink\": false, \"linkText\": \"Export to plot.ly\", \"plotlyServerURL\": \"https://plot.ly\"}); \n",
       "}\n",
       "});</script><script type=\"text/javascript\">window.addEventListener(\"resize\", function(){if (document.getElementById(\"80a1188d-aa49-4bcf-a4b6-ad03263fa839\")) {window._Plotly.Plots.resize(document.getElementById(\"80a1188d-aa49-4bcf-a4b6-ad03263fa839\"));};})</script>"
      ],
      "text/vnd.plotly.v1+html": [
       "<div id=\"80a1188d-aa49-4bcf-a4b6-ad03263fa839\" style=\"height: 525px; width: 100%;\" class=\"plotly-graph-div\"></div><script type=\"text/javascript\">require([\"plotly\"], function(Plotly) { window.PLOTLYENV=window.PLOTLYENV || {};window.PLOTLYENV.BASE_URL=\"https://plot.ly\";\n",
       "if (document.getElementById(\"80a1188d-aa49-4bcf-a4b6-ad03263fa839\")) {\n",
       "    Plotly.newPlot(\"80a1188d-aa49-4bcf-a4b6-ad03263fa839\", [{\"boxpoints\": \"all\", \"fillcolor\": \"rgba(83, 134, 234, 0.5)\", \"jitter\": 0.5, \"line\": {\"width\": 1}, \"marker\": {\"size\": 5}, \"name\": \"pf_score\", \"whiskerwidth\": 0.2, \"y\": [7.78, 7.54, 7.66, 2.0], \"type\": \"box\", \"uid\": \"cf3f3f5f-9599-47ac-98aa-6a5dc3f9d538\"}, {\"boxpoints\": \"all\", \"fillcolor\": \"rgba(215, 114, 14, 0.5)\", \"jitter\": 0.5, \"line\": {\"width\": 1}, \"marker\": {\"size\": 5}, \"name\": \"ef_score\", \"whiskerwidth\": 0.2, \"y\": [5.25, 4.84, 5.05, 4.0], \"type\": \"box\", \"uid\": \"3a835ac4-5bef-47ad-a56c-c0263cfb9a0d\"}, {\"boxpoints\": \"all\", \"fillcolor\": \"rgba(14, 110, 101, 0.5)\", \"jitter\": 0.5, \"line\": {\"width\": 1}, \"marker\": {\"size\": 5}, \"name\": \"hf_score\", \"whiskerwidth\": 0.2, \"y\": [5.72, 5.4, 5.56, 4.0], \"type\": \"box\", \"uid\": \"c21c2646-3506-4b9b-800d-00d14bb6366c\"}, {\"boxpoints\": \"all\", \"fillcolor\": \"rgba(255, 65, 54, 0.5)\", \"jitter\": 0.5, \"line\": {\"width\": 1}, \"marker\": {\"size\": 5}, \"name\": \"HF_quartile\", \"whiskerwidth\": 0.2, \"y\": [8.05, 4.88, 6.46, 3.0], \"type\": \"box\", \"uid\": \"d1bfab6e-d195-4425-8faf-0650c1bf79dd\"}], {\"margin\": {\"b\": 120, \"l\": 40, \"r\": 80, \"t\": 100}, \"paper_bgcolor\": \"rgb(243, 243, 243)\", \"plot_bgcolor\": \"rgb(243, 243, 243)\", \"showlegend\": false, \"title\": {\"text\": \"Distribution of Numerical data in the Human Freedom dataset\"}, \"yaxis\": {\"autorange\": true, \"dtick\": 8, \"gridcolor\": \"rgb(255, 255, 255)\", \"gridwidth\": 1, \"showgrid\": true, \"zeroline\": true, \"zerolinecolor\": \"rgb(255, 255, 255)\", \"zerolinewidth\": 2}}, {\"showLink\": false, \"linkText\": \"Export to plot.ly\", \"plotlyServerURL\": \"https://plot.ly\"}); \n",
       "}\n",
       "});</script><script type=\"text/javascript\">window.addEventListener(\"resize\", function(){if (document.getElementById(\"80a1188d-aa49-4bcf-a4b6-ad03263fa839\")) {window._Plotly.Plots.resize(document.getElementById(\"80a1188d-aa49-4bcf-a4b6-ad03263fa839\"));};})</script>"
      ]
     },
     "metadata": {},
     "output_type": "display_data"
    }
   ],
   "source": [
    "from plotly.offline import init_notebook_mode, iplot\n",
    "from IPython.display import display, HTML\n",
    "\n",
    "\n",
    "init_notebook_mode(connected=True)\n",
    "import plotly.graph_objs as go\n",
    "\n",
    "#select only numerical data from the data frame and check the distribution\n",
    "df_num = hmn_frdm.select_dtypes(include = ['float64', 'int64'])\n",
    "\n",
    "\n",
    "x_data = df_num[['pf_score', 'ef_score', 'hf_score', 'HF_quartile']].columns\n",
    "y_data = df_num[['pf_score', 'ef_score', 'hf_score', 'HF_quartile']].values\n",
    "\n",
    "colors = ['rgba(83, 134, 234, 0.5)', 'rgba(215, 114, 14, 0.5)', 'rgba(14, 110, 101, 0.5)', 'rgba(255, 65, 54, 0.5)', 'rgba(207, 114, 255, 0.5)', 'rgba(127, 96, 0, 0.5)','rgba(93, 164, 214, 0.5)', 'rgba(255, 144, 14, 0.5)', 'rgba(44, 160, 101, 0.5)', 'rgba(255, 65, 54, 0.5)', 'rgba(207, 114, 255, 0.5)']\n",
    "\n",
    "traces = []\n",
    "\n",
    "for xd, yd, cls in zip(x_data, y_data, colors):\n",
    "        traces.append(go.Box(\n",
    "            y=yd,\n",
    "            name=xd,\n",
    "            boxpoints='all',\n",
    "            jitter=0.5,\n",
    "            whiskerwidth=0.2,\n",
    "            fillcolor=cls,\n",
    "            marker=dict(\n",
    "                size=5,\n",
    "            ),\n",
    "            line=dict(width=1),\n",
    "        ))\n",
    "\n",
    "layout = go.Layout(\n",
    "    title='Distribution of Numerical data in the Human Freedom dataset',\n",
    "    yaxis=dict(\n",
    "        autorange=True,\n",
    "        showgrid=True,\n",
    "        zeroline=True,\n",
    "        dtick=8,\n",
    "        gridcolor='rgb(255, 255, 255)',\n",
    "        gridwidth=1,\n",
    "        zerolinecolor='rgb(255, 255, 255)',\n",
    "        zerolinewidth=2,\n",
    "    ),\n",
    "    margin=dict(\n",
    "        l=40,\n",
    "        r=80,\n",
    "        b=120,\n",
    "        t=100,\n",
    "    ),\n",
    "    paper_bgcolor='rgb(243, 243, 243)',\n",
    "    plot_bgcolor='rgb(243, 243, 243)',\n",
    "    showlegend=False\n",
    ")\n",
    "\n",
    "fig = go.Figure(data=traces, layout=layout)\n",
    "iplot(fig)"
   ]
  },
  {
   "cell_type": "markdown",
   "metadata": {
    "slideshow": {
     "slide_type": "slide"
    }
   },
   "source": [
    "##### Preprocessing"
   ]
  },
  {
   "cell_type": "code",
   "execution_count": 13,
   "metadata": {
    "slideshow": {
     "slide_type": "skip"
    }
   },
   "outputs": [
    {
     "data": {
      "text/plain": [
       "Index(['year', 'ISO_Code', 'Country', 'pf_score', 'ef_score', 'hf_score',\n",
       "       'hf_rank', 'HF_quartile'],\n",
       "      dtype='object')"
      ]
     },
     "execution_count": 13,
     "metadata": {},
     "output_type": "execute_result"
    }
   ],
   "source": [
    "hmn_frdm.columns"
   ]
  },
  {
   "cell_type": "code",
   "execution_count": 14,
   "metadata": {
    "slideshow": {
     "slide_type": "skip"
    }
   },
   "outputs": [
    {
     "data": {
      "text/plain": [
       "Index([], dtype='object')"
      ]
     },
     "execution_count": 14,
     "metadata": {},
     "output_type": "execute_result"
    }
   ],
   "source": [
    "#check the percentatage of NAs in every column\n",
    "na = hmn_frdm.isnull().sum()/len(hmn_frdm)\n",
    "#filter columns with NA above 0.3 of the data\n",
    "na_3 = na[na>0.3]\n",
    "#delete columns with NA above 0.3 of the data\n",
    "for ind in na_3.index:\n",
    "    del hmn_frdm[ind]\n",
    "    #double check if NAs were removed\n",
    "na_after = hmn_frdm.isnull().sum()/len(hmn_frdm)\n",
    "#check if there are still columns with NA above 0.3 of the data\n",
    "na_after_3 = na_after[na_after>0.3]\n",
    "na_after_3.index"
   ]
  },
  {
   "cell_type": "code",
   "execution_count": 15,
   "metadata": {
    "slideshow": {
     "slide_type": "skip"
    }
   },
   "outputs": [
    {
     "data": {
      "text/plain": [
       "(1272, 8)"
      ]
     },
     "execution_count": 15,
     "metadata": {},
     "output_type": "execute_result"
    }
   ],
   "source": [
    "hmn_frdm.shape"
   ]
  },
  {
   "cell_type": "code",
   "execution_count": 16,
   "metadata": {
    "slideshow": {
     "slide_type": "skip"
    }
   },
   "outputs": [
    {
     "data": {
      "text/plain": [
       "year           2011.500000\n",
       "pf_score          7.211628\n",
       "ef_score          6.776826\n",
       "hf_score          6.994128\n",
       "hf_rank          76.410362\n",
       "HF_quartile       2.500000\n",
       "dtype: float64"
      ]
     },
     "execution_count": 16,
     "metadata": {},
     "output_type": "execute_result"
    }
   ],
   "source": [
    "(hmn_frdm.mean())"
   ]
  },
  {
   "cell_type": "markdown",
   "metadata": {
    "slideshow": {
     "slide_type": "skip"
    }
   },
   "source": [
    "the number of columns shrinked to 106 columns, I will now fill the NAs of the rest of the columns with less than 0.3 NAs"
   ]
  },
  {
   "cell_type": "code",
   "execution_count": 17,
   "metadata": {
    "slideshow": {
     "slide_type": "skip"
    }
   },
   "outputs": [
    {
     "data": {
      "text/plain": [
       "year           0\n",
       "ISO_Code       0\n",
       "Country        0\n",
       "pf_score       0\n",
       "ef_score       0\n",
       "hf_score       0\n",
       "hf_rank        0\n",
       "HF_quartile    0\n",
       "dtype: int64"
      ]
     },
     "execution_count": 17,
     "metadata": {},
     "output_type": "execute_result"
    }
   ],
   "source": [
    "#fill NA with mean value\n",
    "hf_df_new = hmn_frdm.fillna(hmn_frdm.mean(),axis=0)\n",
    "hf_df_new.isnull().sum()"
   ]
  },
  {
   "cell_type": "code",
   "execution_count": 18,
   "metadata": {
    "slideshow": {
     "slide_type": "skip"
    }
   },
   "outputs": [
    {
     "data": {
      "text/html": [
       "<div>\n",
       "<table border=\"1\" class=\"dataframe\">\n",
       "  <thead>\n",
       "    <tr style=\"text-align: right;\">\n",
       "      <th></th>\n",
       "      <th>year</th>\n",
       "      <th>ISO_Code</th>\n",
       "      <th>Country</th>\n",
       "      <th>pf_score</th>\n",
       "      <th>ef_score</th>\n",
       "      <th>hf_score</th>\n",
       "      <th>hf_rank</th>\n",
       "      <th>HF_quartile</th>\n",
       "    </tr>\n",
       "  </thead>\n",
       "  <tbody>\n",
       "    <tr>\n",
       "      <th>0</th>\n",
       "      <td>2015</td>\n",
       "      <td>ALB</td>\n",
       "      <td>Albania</td>\n",
       "      <td>7.78</td>\n",
       "      <td>7.54</td>\n",
       "      <td>7.66</td>\n",
       "      <td>47.0</td>\n",
       "      <td>2.0</td>\n",
       "    </tr>\n",
       "    <tr>\n",
       "      <th>1</th>\n",
       "      <td>2015</td>\n",
       "      <td>DZA</td>\n",
       "      <td>Algeria</td>\n",
       "      <td>5.25</td>\n",
       "      <td>4.84</td>\n",
       "      <td>5.05</td>\n",
       "      <td>153.0</td>\n",
       "      <td>4.0</td>\n",
       "    </tr>\n",
       "    <tr>\n",
       "      <th>2</th>\n",
       "      <td>2015</td>\n",
       "      <td>AGO</td>\n",
       "      <td>Angola</td>\n",
       "      <td>5.72</td>\n",
       "      <td>5.40</td>\n",
       "      <td>5.56</td>\n",
       "      <td>142.0</td>\n",
       "      <td>4.0</td>\n",
       "    </tr>\n",
       "    <tr>\n",
       "      <th>3</th>\n",
       "      <td>2015</td>\n",
       "      <td>ARG</td>\n",
       "      <td>Argentina</td>\n",
       "      <td>8.05</td>\n",
       "      <td>4.88</td>\n",
       "      <td>6.46</td>\n",
       "      <td>108.0</td>\n",
       "      <td>3.0</td>\n",
       "    </tr>\n",
       "    <tr>\n",
       "      <th>4</th>\n",
       "      <td>2015</td>\n",
       "      <td>ARM</td>\n",
       "      <td>Armenia</td>\n",
       "      <td>7.11</td>\n",
       "      <td>7.60</td>\n",
       "      <td>7.36</td>\n",
       "      <td>54.0</td>\n",
       "      <td>2.0</td>\n",
       "    </tr>\n",
       "  </tbody>\n",
       "</table>\n",
       "</div>"
      ],
      "text/plain": [
       "   year ISO_Code    Country  pf_score  ef_score  hf_score  hf_rank  \\\n",
       "0  2015      ALB    Albania      7.78      7.54      7.66     47.0   \n",
       "1  2015      DZA    Algeria      5.25      4.84      5.05    153.0   \n",
       "2  2015      AGO     Angola      5.72      5.40      5.56    142.0   \n",
       "3  2015      ARG  Argentina      8.05      4.88      6.46    108.0   \n",
       "4  2015      ARM    Armenia      7.11      7.60      7.36     54.0   \n",
       "\n",
       "   HF_quartile  \n",
       "0          2.0  \n",
       "1          4.0  \n",
       "2          4.0  \n",
       "3          3.0  \n",
       "4          2.0  "
      ]
     },
     "execution_count": 18,
     "metadata": {},
     "output_type": "execute_result"
    }
   ],
   "source": [
    "hf_df_new.head()"
   ]
  },
  {
   "cell_type": "markdown",
   "metadata": {
    "slideshow": {
     "slide_type": "skip"
    }
   },
   "source": [
    "next I will divide class to high, medium and low"
   ]
  },
  {
   "cell_type": "markdown",
   "metadata": {
    "slideshow": {
     "slide_type": "slide"
    }
   },
   "source": [
    "#### Feature Extraction"
   ]
  },
  {
   "cell_type": "code",
   "execution_count": 19,
   "metadata": {
    "slideshow": {
     "slide_type": "skip"
    }
   },
   "outputs": [
    {
     "data": {
      "text/plain": [
       "Med     607\n",
       "High    562\n",
       "Low     103\n",
       "Name: HF_class, dtype: int64"
      ]
     },
     "execution_count": 19,
     "metadata": {},
     "output_type": "execute_result"
    }
   ],
   "source": [
    "import numpy as np\n",
    "hf_df_new['class_high'] = np.where(hf_df_new['hf_score']>7 , \"High\",0)\n",
    "hf_df_new['class_low'] = np.where(hf_df_new['hf_score']<5.5 , \"Low\",0)\n",
    "hf_df_new['HF_class'] = hf_df_new['class_high'].str.cat(hf_df_new['class_low'], sep=' - ')\n",
    "hf_df_new.head(10)\n",
    "hf_df_new = hf_df_new.replace(['0 - 0', 'High - 0','0 - Low'], \n",
    "                     ['Med','High','Low']) \n",
    "hf_df_new['HF_class'].value_counts()"
   ]
  },
  {
   "cell_type": "code",
   "execution_count": 20,
   "metadata": {
    "slideshow": {
     "slide_type": "slide"
    }
   },
   "outputs": [
    {
     "data": {
      "text/html": [
       "<div>\n",
       "<table border=\"1\" class=\"dataframe\">\n",
       "  <thead>\n",
       "    <tr style=\"text-align: right;\">\n",
       "      <th></th>\n",
       "      <th>year</th>\n",
       "      <th>ISO_Code</th>\n",
       "      <th>Country</th>\n",
       "      <th>pf_score</th>\n",
       "      <th>ef_score</th>\n",
       "      <th>hf_score</th>\n",
       "      <th>hf_rank</th>\n",
       "      <th>HF_quartile</th>\n",
       "      <th>HF_class</th>\n",
       "    </tr>\n",
       "  </thead>\n",
       "  <tbody>\n",
       "    <tr>\n",
       "      <th>0</th>\n",
       "      <td>2015</td>\n",
       "      <td>ALB</td>\n",
       "      <td>Albania</td>\n",
       "      <td>7.78</td>\n",
       "      <td>7.54</td>\n",
       "      <td>7.66</td>\n",
       "      <td>47.0</td>\n",
       "      <td>2.0</td>\n",
       "      <td>High</td>\n",
       "    </tr>\n",
       "    <tr>\n",
       "      <th>1</th>\n",
       "      <td>2015</td>\n",
       "      <td>DZA</td>\n",
       "      <td>Algeria</td>\n",
       "      <td>5.25</td>\n",
       "      <td>4.84</td>\n",
       "      <td>5.05</td>\n",
       "      <td>153.0</td>\n",
       "      <td>4.0</td>\n",
       "      <td>Low</td>\n",
       "    </tr>\n",
       "    <tr>\n",
       "      <th>2</th>\n",
       "      <td>2015</td>\n",
       "      <td>AGO</td>\n",
       "      <td>Angola</td>\n",
       "      <td>5.72</td>\n",
       "      <td>5.40</td>\n",
       "      <td>5.56</td>\n",
       "      <td>142.0</td>\n",
       "      <td>4.0</td>\n",
       "      <td>Med</td>\n",
       "    </tr>\n",
       "    <tr>\n",
       "      <th>3</th>\n",
       "      <td>2015</td>\n",
       "      <td>ARG</td>\n",
       "      <td>Argentina</td>\n",
       "      <td>8.05</td>\n",
       "      <td>4.88</td>\n",
       "      <td>6.46</td>\n",
       "      <td>108.0</td>\n",
       "      <td>3.0</td>\n",
       "      <td>Med</td>\n",
       "    </tr>\n",
       "    <tr>\n",
       "      <th>4</th>\n",
       "      <td>2015</td>\n",
       "      <td>ARM</td>\n",
       "      <td>Armenia</td>\n",
       "      <td>7.11</td>\n",
       "      <td>7.60</td>\n",
       "      <td>7.36</td>\n",
       "      <td>54.0</td>\n",
       "      <td>2.0</td>\n",
       "      <td>High</td>\n",
       "    </tr>\n",
       "  </tbody>\n",
       "</table>\n",
       "</div>"
      ],
      "text/plain": [
       "   year ISO_Code    Country  pf_score  ef_score  hf_score  hf_rank  \\\n",
       "0  2015      ALB    Albania      7.78      7.54      7.66     47.0   \n",
       "1  2015      DZA    Algeria      5.25      4.84      5.05    153.0   \n",
       "2  2015      AGO     Angola      5.72      5.40      5.56    142.0   \n",
       "3  2015      ARG  Argentina      8.05      4.88      6.46    108.0   \n",
       "4  2015      ARM    Armenia      7.11      7.60      7.36     54.0   \n",
       "\n",
       "   HF_quartile HF_class  \n",
       "0          2.0     High  \n",
       "1          4.0      Low  \n",
       "2          4.0      Med  \n",
       "3          3.0      Med  \n",
       "4          2.0     High  "
      ]
     },
     "execution_count": 20,
     "metadata": {},
     "output_type": "execute_result"
    }
   ],
   "source": [
    "#delete redundant columns\n",
    "del hf_df_new['class_high']\n",
    "del hf_df_new['class_low']\n",
    "hf_df_new.head()"
   ]
  },
  {
   "cell_type": "markdown",
   "metadata": {
    "slideshow": {
     "slide_type": "slide"
    }
   },
   "source": [
    "#### world happiness Dataset"
   ]
  },
  {
   "cell_type": "markdown",
   "metadata": {
    "slideshow": {
     "slide_type": "skip"
    }
   },
   "source": [
    "The happiness scores and rankings use data from the Gallup World Poll. The scores are based on answers to the main life evaluation question asked in the poll."
   ]
  },
  {
   "cell_type": "code",
   "execution_count": 21,
   "metadata": {
    "slideshow": {
     "slide_type": "slide"
    }
   },
   "outputs": [
    {
     "data": {
      "text/html": [
       "<div>\n",
       "<table border=\"1\" class=\"dataframe\">\n",
       "  <thead>\n",
       "    <tr style=\"text-align: right;\">\n",
       "      <th></th>\n",
       "      <th>Country</th>\n",
       "      <th>Region</th>\n",
       "      <th>Happiness Rank</th>\n",
       "      <th>Happiness Score</th>\n",
       "      <th>Economy (GDP per Capita)</th>\n",
       "      <th>Family</th>\n",
       "      <th>Health (Life Expectancy)</th>\n",
       "      <th>Freedom</th>\n",
       "      <th>Trust (Government Corruption)</th>\n",
       "      <th>Generosity</th>\n",
       "      <th>Dystopia Residual</th>\n",
       "      <th>year</th>\n",
       "    </tr>\n",
       "  </thead>\n",
       "  <tbody>\n",
       "    <tr>\n",
       "      <th>0</th>\n",
       "      <td>Switzerland</td>\n",
       "      <td>Western Europe</td>\n",
       "      <td>1</td>\n",
       "      <td>7.587</td>\n",
       "      <td>1.39651</td>\n",
       "      <td>1.34951</td>\n",
       "      <td>0.94143</td>\n",
       "      <td>0.66557</td>\n",
       "      <td>0.41978</td>\n",
       "      <td>0.29678</td>\n",
       "      <td>2.51738</td>\n",
       "      <td>2015</td>\n",
       "    </tr>\n",
       "    <tr>\n",
       "      <th>1</th>\n",
       "      <td>Iceland</td>\n",
       "      <td>Western Europe</td>\n",
       "      <td>2</td>\n",
       "      <td>7.561</td>\n",
       "      <td>1.30232</td>\n",
       "      <td>1.40223</td>\n",
       "      <td>0.94784</td>\n",
       "      <td>0.62877</td>\n",
       "      <td>0.14145</td>\n",
       "      <td>0.43630</td>\n",
       "      <td>2.70201</td>\n",
       "      <td>2015</td>\n",
       "    </tr>\n",
       "  </tbody>\n",
       "</table>\n",
       "</div>"
      ],
      "text/plain": [
       "       Country          Region  Happiness Rank  Happiness Score  \\\n",
       "0  Switzerland  Western Europe               1            7.587   \n",
       "1      Iceland  Western Europe               2            7.561   \n",
       "\n",
       "   Economy (GDP per Capita)   Family  Health (Life Expectancy)  Freedom  \\\n",
       "0                   1.39651  1.34951                   0.94143  0.66557   \n",
       "1                   1.30232  1.40223                   0.94784  0.62877   \n",
       "\n",
       "   Trust (Government Corruption)  Generosity  Dystopia Residual  year  \n",
       "0                        0.41978     0.29678            2.51738  2015  \n",
       "1                        0.14145     0.43630            2.70201  2015  "
      ]
     },
     "execution_count": 21,
     "metadata": {},
     "output_type": "execute_result"
    }
   ],
   "source": [
    "#data until year 2015\n",
    "wrld_hpns_2015=pd.read_csv(\"https://storage.googleapis.com/kaggle-datasets/894/2508/2015.csv?GoogleAccessId=web-data@kaggle-161607.iam.gserviceaccount.com&Expires=1553104496&Signature=mW%2BX79jJHqVIeRa%2F6yu0ozbg9Iu5lLz4GXcDmEzzjot4ROQHmpMSMopcTEZCDaUUCSVB5LwLbblHRknTc3eXnMImhxWz2a2e7wgKTMFhmWnKBG8mpwdMhzlT9vAmv%2F3FoFrDvm8l2EN83eLOHPFXwgnq83woc6heutZdQWPGpcBvev2VbT6msH7v%2Fyh7qVNz7Cn37rRan3Z9nWzO9gUgVLJ9hKWwzQ9pbe73KwjHeZpjI1ASei9qznzFeyZN1xQ0IU5YVp3eI32JKG%2BlK4GKlmqbR1OBG%2Fmpu4CcjajnKGEud4UwWGgzpPPAWcsKprg4DQIB9AQWK6tiuGtv1pi1Nw%3D%3D\")\n",
    "del wrld_hpns_2015['Standard Error']\n",
    "wrld_hpns_2015['year']='2015'\n",
    "wrld_hpns_2015.head(2)"
   ]
  },
  {
   "cell_type": "code",
   "execution_count": 22,
   "metadata": {
    "slideshow": {
     "slide_type": "slide"
    }
   },
   "outputs": [
    {
     "data": {
      "text/html": [
       "<div>\n",
       "<table border=\"1\" class=\"dataframe\">\n",
       "  <thead>\n",
       "    <tr style=\"text-align: right;\">\n",
       "      <th></th>\n",
       "      <th>Country</th>\n",
       "      <th>Region</th>\n",
       "      <th>Happiness Rank</th>\n",
       "      <th>Happiness Score</th>\n",
       "      <th>Economy (GDP per Capita)</th>\n",
       "      <th>Family</th>\n",
       "      <th>Health (Life Expectancy)</th>\n",
       "      <th>Freedom</th>\n",
       "      <th>Trust (Government Corruption)</th>\n",
       "      <th>Generosity</th>\n",
       "      <th>Dystopia Residual</th>\n",
       "      <th>year</th>\n",
       "    </tr>\n",
       "  </thead>\n",
       "  <tbody>\n",
       "    <tr>\n",
       "      <th>0</th>\n",
       "      <td>Denmark</td>\n",
       "      <td>Western Europe</td>\n",
       "      <td>1</td>\n",
       "      <td>7.526</td>\n",
       "      <td>1.44178</td>\n",
       "      <td>1.16374</td>\n",
       "      <td>0.79504</td>\n",
       "      <td>0.57941</td>\n",
       "      <td>0.44453</td>\n",
       "      <td>0.36171</td>\n",
       "      <td>2.73939</td>\n",
       "      <td>2016</td>\n",
       "    </tr>\n",
       "    <tr>\n",
       "      <th>1</th>\n",
       "      <td>Switzerland</td>\n",
       "      <td>Western Europe</td>\n",
       "      <td>2</td>\n",
       "      <td>7.509</td>\n",
       "      <td>1.52733</td>\n",
       "      <td>1.14524</td>\n",
       "      <td>0.86303</td>\n",
       "      <td>0.58557</td>\n",
       "      <td>0.41203</td>\n",
       "      <td>0.28083</td>\n",
       "      <td>2.69463</td>\n",
       "      <td>2016</td>\n",
       "    </tr>\n",
       "  </tbody>\n",
       "</table>\n",
       "</div>"
      ],
      "text/plain": [
       "       Country          Region  Happiness Rank  Happiness Score  \\\n",
       "0      Denmark  Western Europe               1            7.526   \n",
       "1  Switzerland  Western Europe               2            7.509   \n",
       "\n",
       "   Economy (GDP per Capita)   Family  Health (Life Expectancy)  Freedom  \\\n",
       "0                   1.44178  1.16374                   0.79504  0.57941   \n",
       "1                   1.52733  1.14524                   0.86303  0.58557   \n",
       "\n",
       "   Trust (Government Corruption)  Generosity  Dystopia Residual  year  \n",
       "0                        0.44453     0.36171            2.73939  2016  \n",
       "1                        0.41203     0.28083            2.69463  2016  "
      ]
     },
     "execution_count": 22,
     "metadata": {},
     "output_type": "execute_result"
    }
   ],
   "source": [
    "#data until year 2016\n",
    "wrld_hpns_2016=pd.read_csv(\"https://storage.googleapis.com/kaggle-datasets/894/2508/2016.csv?GoogleAccessId=web-data@kaggle-161607.iam.gserviceaccount.com&Expires=1553105539&Signature=gl7bYWXtkkjUKvuEupXmqD5t4P58XWXWRKALGR5GC2vRtLa1QOFtWQ6%2FBrE6JmNGrz%2Bv1qTnSIqFYGQW0jDPFid%2BoiD3tDY6pz2ghDL%2B4SsNU9Twlgtf3MYn76RGapPqQt312%2FIVxt0fJd1P%2BVOC6ga9tPoh4h2x3C9JxgOP8J6VYuAMi9SWqRHyBafd8C8DNKeW4upS5REHwgAQhMstCKT1jJH6d7qmvDqQcX070AETyQClz4LJSbRIW11OEZxWrbwZWfG5vPh9q4wTXg5Rv9NYorQi9ko0EZwQsCIlUGlEp7Tz%2BuUTUmjCsMVGVTx8S1cvcgLzo03yZEmwWpQX2Q%3D%3D\")\n",
    "del wrld_hpns_2016['Lower Confidence Interval']\n",
    "del wrld_hpns_2016['Upper Confidence Interval']\n",
    "wrld_hpns_2016['year']='2016'\n",
    "wrld_hpns_2016.head(2)"
   ]
  },
  {
   "cell_type": "code",
   "execution_count": 23,
   "metadata": {
    "slideshow": {
     "slide_type": "slide"
    }
   },
   "outputs": [
    {
     "data": {
      "text/html": [
       "<div>\n",
       "<table border=\"1\" class=\"dataframe\">\n",
       "  <thead>\n",
       "    <tr style=\"text-align: right;\">\n",
       "      <th></th>\n",
       "      <th>Country</th>\n",
       "      <th>Region</th>\n",
       "      <th>Happiness Rank</th>\n",
       "      <th>Happiness Score</th>\n",
       "      <th>Economy (GDP per Capita)</th>\n",
       "      <th>Family</th>\n",
       "      <th>Health (Life Expectancy)</th>\n",
       "      <th>Freedom</th>\n",
       "      <th>Trust (Government Corruption)</th>\n",
       "      <th>Generosity</th>\n",
       "      <th>Dystopia Residual</th>\n",
       "      <th>year</th>\n",
       "    </tr>\n",
       "  </thead>\n",
       "  <tbody>\n",
       "    <tr>\n",
       "      <th>0</th>\n",
       "      <td>Switzerland</td>\n",
       "      <td>Western Europe</td>\n",
       "      <td>1</td>\n",
       "      <td>7.587</td>\n",
       "      <td>1.39651</td>\n",
       "      <td>1.34951</td>\n",
       "      <td>0.94143</td>\n",
       "      <td>0.66557</td>\n",
       "      <td>0.41978</td>\n",
       "      <td>0.29678</td>\n",
       "      <td>2.51738</td>\n",
       "      <td>2015</td>\n",
       "    </tr>\n",
       "    <tr>\n",
       "      <th>1</th>\n",
       "      <td>Iceland</td>\n",
       "      <td>Western Europe</td>\n",
       "      <td>2</td>\n",
       "      <td>7.561</td>\n",
       "      <td>1.30232</td>\n",
       "      <td>1.40223</td>\n",
       "      <td>0.94784</td>\n",
       "      <td>0.62877</td>\n",
       "      <td>0.14145</td>\n",
       "      <td>0.43630</td>\n",
       "      <td>2.70201</td>\n",
       "      <td>2015</td>\n",
       "    </tr>\n",
       "  </tbody>\n",
       "</table>\n",
       "</div>"
      ],
      "text/plain": [
       "       Country          Region  Happiness Rank  Happiness Score  \\\n",
       "0  Switzerland  Western Europe               1            7.587   \n",
       "1      Iceland  Western Europe               2            7.561   \n",
       "\n",
       "   Economy (GDP per Capita)   Family  Health (Life Expectancy)  Freedom  \\\n",
       "0                   1.39651  1.34951                   0.94143  0.66557   \n",
       "1                   1.30232  1.40223                   0.94784  0.62877   \n",
       "\n",
       "   Trust (Government Corruption)  Generosity  Dystopia Residual  year  \n",
       "0                        0.41978     0.29678            2.51738  2015  \n",
       "1                        0.14145     0.43630            2.70201  2015  "
      ]
     },
     "execution_count": 23,
     "metadata": {},
     "output_type": "execute_result"
    }
   ],
   "source": [
    "#after importing the 2 datasets of different years I will now concatenate them together\n",
    "wrld_hpns = wrld_hpns_2015.append(wrld_hpns_2016)\n",
    "wrld_hpns.head(2)"
   ]
  },
  {
   "cell_type": "code",
   "execution_count": 24,
   "metadata": {
    "slideshow": {
     "slide_type": "skip"
    }
   },
   "outputs": [
    {
     "data": {
      "text/plain": [
       "Index(['Country', 'Region', 'Happiness Rank', 'Happiness Score',\n",
       "       'Economy (GDP per Capita)', 'Family', 'Health (Life Expectancy)',\n",
       "       'Freedom', 'Trust (Government Corruption)', 'Generosity',\n",
       "       'Dystopia Residual', 'year'],\n",
       "      dtype='object')"
      ]
     },
     "execution_count": 24,
     "metadata": {},
     "output_type": "execute_result"
    }
   ],
   "source": [
    "wrld_hpns.columns"
   ]
  },
  {
   "cell_type": "code",
   "execution_count": 25,
   "metadata": {
    "slideshow": {
     "slide_type": "skip"
    }
   },
   "outputs": [
    {
     "data": {
      "text/plain": [
       "(315, 12)"
      ]
     },
     "execution_count": 25,
     "metadata": {},
     "output_type": "execute_result"
    }
   ],
   "source": [
    "wrld_hpns.shape"
   ]
  },
  {
   "cell_type": "code",
   "execution_count": 26,
   "metadata": {
    "slideshow": {
     "slide_type": "skip"
    }
   },
   "outputs": [
    {
     "name": "stdout",
     "output_type": "stream",
     "text": [
      "<class 'pandas.core.frame.DataFrame'>\n",
      "Int64Index: 315 entries, 0 to 156\n",
      "Data columns (total 12 columns):\n",
      "Country                          315 non-null object\n",
      "Region                           315 non-null object\n",
      "Happiness Rank                   315 non-null int64\n",
      "Happiness Score                  315 non-null float64\n",
      "Economy (GDP per Capita)         315 non-null float64\n",
      "Family                           315 non-null float64\n",
      "Health (Life Expectancy)         315 non-null float64\n",
      "Freedom                          315 non-null float64\n",
      "Trust (Government Corruption)    315 non-null float64\n",
      "Generosity                       315 non-null float64\n",
      "Dystopia Residual                315 non-null float64\n",
      "year                             315 non-null object\n",
      "dtypes: float64(8), int64(1), object(3)\n",
      "memory usage: 32.0+ KB\n"
     ]
    }
   ],
   "source": [
    "wrld_hpns.info()"
   ]
  },
  {
   "cell_type": "code",
   "execution_count": 27,
   "metadata": {
    "slideshow": {
     "slide_type": "skip"
    }
   },
   "outputs": [
    {
     "data": {
      "text/html": [
       "<div>\n",
       "<table border=\"1\" class=\"dataframe\">\n",
       "  <thead>\n",
       "    <tr style=\"text-align: right;\">\n",
       "      <th></th>\n",
       "      <th>Happiness Rank</th>\n",
       "      <th>Happiness Score</th>\n",
       "      <th>Economy (GDP per Capita)</th>\n",
       "      <th>Family</th>\n",
       "      <th>Health (Life Expectancy)</th>\n",
       "      <th>Freedom</th>\n",
       "      <th>Trust (Government Corruption)</th>\n",
       "      <th>Generosity</th>\n",
       "      <th>Dystopia Residual</th>\n",
       "    </tr>\n",
       "  </thead>\n",
       "  <tbody>\n",
       "    <tr>\n",
       "      <th>count</th>\n",
       "      <td>315.000000</td>\n",
       "      <td>315.000000</td>\n",
       "      <td>315.000000</td>\n",
       "      <td>315.000000</td>\n",
       "      <td>315.000000</td>\n",
       "      <td>315.000000</td>\n",
       "      <td>315.000000</td>\n",
       "      <td>315.000000</td>\n",
       "      <td>315.000000</td>\n",
       "    </tr>\n",
       "    <tr>\n",
       "      <th>mean</th>\n",
       "      <td>79.238095</td>\n",
       "      <td>5.378949</td>\n",
       "      <td>0.899837</td>\n",
       "      <td>0.892647</td>\n",
       "      <td>0.594054</td>\n",
       "      <td>0.399896</td>\n",
       "      <td>0.140532</td>\n",
       "      <td>0.239957</td>\n",
       "      <td>2.212032</td>\n",
       "    </tr>\n",
       "    <tr>\n",
       "      <th>std</th>\n",
       "      <td>45.538922</td>\n",
       "      <td>1.141531</td>\n",
       "      <td>0.410780</td>\n",
       "      <td>0.286718</td>\n",
       "      <td>0.240790</td>\n",
       "      <td>0.150684</td>\n",
       "      <td>0.115490</td>\n",
       "      <td>0.130077</td>\n",
       "      <td>0.558728</td>\n",
       "    </tr>\n",
       "    <tr>\n",
       "      <th>min</th>\n",
       "      <td>1.000000</td>\n",
       "      <td>2.839000</td>\n",
       "      <td>0.000000</td>\n",
       "      <td>0.000000</td>\n",
       "      <td>0.000000</td>\n",
       "      <td>0.000000</td>\n",
       "      <td>0.000000</td>\n",
       "      <td>0.000000</td>\n",
       "      <td>0.328580</td>\n",
       "    </tr>\n",
       "    <tr>\n",
       "      <th>25%</th>\n",
       "      <td>40.000000</td>\n",
       "      <td>4.510000</td>\n",
       "      <td>0.594900</td>\n",
       "      <td>0.739880</td>\n",
       "      <td>0.419645</td>\n",
       "      <td>0.295890</td>\n",
       "      <td>0.061315</td>\n",
       "      <td>0.151430</td>\n",
       "      <td>1.884135</td>\n",
       "    </tr>\n",
       "    <tr>\n",
       "      <th>50%</th>\n",
       "      <td>79.000000</td>\n",
       "      <td>5.286000</td>\n",
       "      <td>0.973060</td>\n",
       "      <td>0.937930</td>\n",
       "      <td>0.640450</td>\n",
       "      <td>0.413190</td>\n",
       "      <td>0.106130</td>\n",
       "      <td>0.218540</td>\n",
       "      <td>2.211260</td>\n",
       "    </tr>\n",
       "    <tr>\n",
       "      <th>75%</th>\n",
       "      <td>118.500000</td>\n",
       "      <td>6.269000</td>\n",
       "      <td>1.229000</td>\n",
       "      <td>1.087360</td>\n",
       "      <td>0.787640</td>\n",
       "      <td>0.516730</td>\n",
       "      <td>0.178610</td>\n",
       "      <td>0.311450</td>\n",
       "      <td>2.563470</td>\n",
       "    </tr>\n",
       "    <tr>\n",
       "      <th>max</th>\n",
       "      <td>158.000000</td>\n",
       "      <td>7.587000</td>\n",
       "      <td>1.824270</td>\n",
       "      <td>1.402230</td>\n",
       "      <td>1.025250</td>\n",
       "      <td>0.669730</td>\n",
       "      <td>0.551910</td>\n",
       "      <td>0.819710</td>\n",
       "      <td>3.837720</td>\n",
       "    </tr>\n",
       "  </tbody>\n",
       "</table>\n",
       "</div>"
      ],
      "text/plain": [
       "       Happiness Rank  Happiness Score  Economy (GDP per Capita)      Family  \\\n",
       "count      315.000000       315.000000                315.000000  315.000000   \n",
       "mean        79.238095         5.378949                  0.899837    0.892647   \n",
       "std         45.538922         1.141531                  0.410780    0.286718   \n",
       "min          1.000000         2.839000                  0.000000    0.000000   \n",
       "25%         40.000000         4.510000                  0.594900    0.739880   \n",
       "50%         79.000000         5.286000                  0.973060    0.937930   \n",
       "75%        118.500000         6.269000                  1.229000    1.087360   \n",
       "max        158.000000         7.587000                  1.824270    1.402230   \n",
       "\n",
       "       Health (Life Expectancy)     Freedom  Trust (Government Corruption)  \\\n",
       "count                315.000000  315.000000                     315.000000   \n",
       "mean                   0.594054    0.399896                       0.140532   \n",
       "std                    0.240790    0.150684                       0.115490   \n",
       "min                    0.000000    0.000000                       0.000000   \n",
       "25%                    0.419645    0.295890                       0.061315   \n",
       "50%                    0.640450    0.413190                       0.106130   \n",
       "75%                    0.787640    0.516730                       0.178610   \n",
       "max                    1.025250    0.669730                       0.551910   \n",
       "\n",
       "       Generosity  Dystopia Residual  \n",
       "count  315.000000         315.000000  \n",
       "mean     0.239957           2.212032  \n",
       "std      0.130077           0.558728  \n",
       "min      0.000000           0.328580  \n",
       "25%      0.151430           1.884135  \n",
       "50%      0.218540           2.211260  \n",
       "75%      0.311450           2.563470  \n",
       "max      0.819710           3.837720  "
      ]
     },
     "execution_count": 27,
     "metadata": {},
     "output_type": "execute_result"
    }
   ],
   "source": [
    "wrld_hpns.describe()"
   ]
  },
  {
   "cell_type": "code",
   "execution_count": 28,
   "metadata": {
    "slideshow": {
     "slide_type": "skip"
    }
   },
   "outputs": [],
   "source": [
    "wrld_hpns.rename(columns = {\"Happiness Rank\": \"HappinessRank\",'Happiness Score':\"HappinessScore\",\n",
    "       'Economy (GDP per Capita)':\"Economy\",'Health (Life Expectancy)':\"health\",\n",
    "       'Trust (Government Corruption)':\"Trust\"}, \n",
    "                                 inplace = True)"
   ]
  },
  {
   "cell_type": "code",
   "execution_count": 29,
   "metadata": {
    "slideshow": {
     "slide_type": "skip"
    }
   },
   "outputs": [
    {
     "data": {
      "text/html": [
       "<div>\n",
       "<table border=\"1\" class=\"dataframe\">\n",
       "  <thead>\n",
       "    <tr style=\"text-align: right;\">\n",
       "      <th></th>\n",
       "      <th>Country</th>\n",
       "      <th>Region</th>\n",
       "      <th>HappinessRank</th>\n",
       "      <th>HappinessScore</th>\n",
       "      <th>Economy</th>\n",
       "      <th>Family</th>\n",
       "      <th>health</th>\n",
       "      <th>Freedom</th>\n",
       "      <th>Trust</th>\n",
       "      <th>Generosity</th>\n",
       "      <th>Dystopia Residual</th>\n",
       "      <th>year</th>\n",
       "    </tr>\n",
       "  </thead>\n",
       "  <tbody>\n",
       "    <tr>\n",
       "      <th>0</th>\n",
       "      <td>Switzerland</td>\n",
       "      <td>Western Europe</td>\n",
       "      <td>1</td>\n",
       "      <td>7.587</td>\n",
       "      <td>1.39651</td>\n",
       "      <td>1.34951</td>\n",
       "      <td>0.94143</td>\n",
       "      <td>0.66557</td>\n",
       "      <td>0.41978</td>\n",
       "      <td>0.29678</td>\n",
       "      <td>2.51738</td>\n",
       "      <td>2015</td>\n",
       "    </tr>\n",
       "    <tr>\n",
       "      <th>1</th>\n",
       "      <td>Iceland</td>\n",
       "      <td>Western Europe</td>\n",
       "      <td>2</td>\n",
       "      <td>7.561</td>\n",
       "      <td>1.30232</td>\n",
       "      <td>1.40223</td>\n",
       "      <td>0.94784</td>\n",
       "      <td>0.62877</td>\n",
       "      <td>0.14145</td>\n",
       "      <td>0.43630</td>\n",
       "      <td>2.70201</td>\n",
       "      <td>2015</td>\n",
       "    </tr>\n",
       "    <tr>\n",
       "      <th>2</th>\n",
       "      <td>Denmark</td>\n",
       "      <td>Western Europe</td>\n",
       "      <td>3</td>\n",
       "      <td>7.527</td>\n",
       "      <td>1.32548</td>\n",
       "      <td>1.36058</td>\n",
       "      <td>0.87464</td>\n",
       "      <td>0.64938</td>\n",
       "      <td>0.48357</td>\n",
       "      <td>0.34139</td>\n",
       "      <td>2.49204</td>\n",
       "      <td>2015</td>\n",
       "    </tr>\n",
       "    <tr>\n",
       "      <th>3</th>\n",
       "      <td>Norway</td>\n",
       "      <td>Western Europe</td>\n",
       "      <td>4</td>\n",
       "      <td>7.522</td>\n",
       "      <td>1.45900</td>\n",
       "      <td>1.33095</td>\n",
       "      <td>0.88521</td>\n",
       "      <td>0.66973</td>\n",
       "      <td>0.36503</td>\n",
       "      <td>0.34699</td>\n",
       "      <td>2.46531</td>\n",
       "      <td>2015</td>\n",
       "    </tr>\n",
       "    <tr>\n",
       "      <th>4</th>\n",
       "      <td>Canada</td>\n",
       "      <td>North America</td>\n",
       "      <td>5</td>\n",
       "      <td>7.427</td>\n",
       "      <td>1.32629</td>\n",
       "      <td>1.32261</td>\n",
       "      <td>0.90563</td>\n",
       "      <td>0.63297</td>\n",
       "      <td>0.32957</td>\n",
       "      <td>0.45811</td>\n",
       "      <td>2.45176</td>\n",
       "      <td>2015</td>\n",
       "    </tr>\n",
       "  </tbody>\n",
       "</table>\n",
       "</div>"
      ],
      "text/plain": [
       "       Country          Region  HappinessRank  HappinessScore  Economy  \\\n",
       "0  Switzerland  Western Europe              1           7.587  1.39651   \n",
       "1      Iceland  Western Europe              2           7.561  1.30232   \n",
       "2      Denmark  Western Europe              3           7.527  1.32548   \n",
       "3       Norway  Western Europe              4           7.522  1.45900   \n",
       "4       Canada   North America              5           7.427  1.32629   \n",
       "\n",
       "    Family   health  Freedom    Trust  Generosity  Dystopia Residual  year  \n",
       "0  1.34951  0.94143  0.66557  0.41978     0.29678            2.51738  2015  \n",
       "1  1.40223  0.94784  0.62877  0.14145     0.43630            2.70201  2015  \n",
       "2  1.36058  0.87464  0.64938  0.48357     0.34139            2.49204  2015  \n",
       "3  1.33095  0.88521  0.66973  0.36503     0.34699            2.46531  2015  \n",
       "4  1.32261  0.90563  0.63297  0.32957     0.45811            2.45176  2015  "
      ]
     },
     "execution_count": 29,
     "metadata": {},
     "output_type": "execute_result"
    }
   ],
   "source": [
    "wrld_hpns.head()"
   ]
  },
  {
   "cell_type": "code",
   "execution_count": 30,
   "metadata": {
    "slideshow": {
     "slide_type": "skip"
    }
   },
   "outputs": [
    {
     "data": {
      "text/plain": [
       "Index(['Country', 'Region', 'HappinessRank', 'HappinessScore', 'Economy',\n",
       "       'Family', 'health', 'Freedom', 'Trust', 'Generosity',\n",
       "       'Dystopia Residual', 'year'],\n",
       "      dtype='object')"
      ]
     },
     "execution_count": 30,
     "metadata": {},
     "output_type": "execute_result"
    }
   ],
   "source": [
    "wrld_hpns.columns"
   ]
  },
  {
   "cell_type": "code",
   "execution_count": 31,
   "metadata": {
    "slideshow": {
     "slide_type": "skip"
    }
   },
   "outputs": [
    {
     "data": {
      "text/html": [
       "<div>\n",
       "<table border=\"1\" class=\"dataframe\">\n",
       "  <thead>\n",
       "    <tr style=\"text-align: right;\">\n",
       "      <th></th>\n",
       "      <th>HappinessScore</th>\n",
       "      <th>Economy</th>\n",
       "      <th>Family</th>\n",
       "      <th>health</th>\n",
       "      <th>Freedom</th>\n",
       "      <th>Trust</th>\n",
       "      <th>Generosity</th>\n",
       "      <th>Dystopia Residual</th>\n",
       "    </tr>\n",
       "  </thead>\n",
       "  <tbody>\n",
       "    <tr>\n",
       "      <th>0</th>\n",
       "      <td>7.587</td>\n",
       "      <td>1.39651</td>\n",
       "      <td>1.34951</td>\n",
       "      <td>0.94143</td>\n",
       "      <td>0.66557</td>\n",
       "      <td>0.41978</td>\n",
       "      <td>0.29678</td>\n",
       "      <td>2.51738</td>\n",
       "    </tr>\n",
       "    <tr>\n",
       "      <th>1</th>\n",
       "      <td>7.561</td>\n",
       "      <td>1.30232</td>\n",
       "      <td>1.40223</td>\n",
       "      <td>0.94784</td>\n",
       "      <td>0.62877</td>\n",
       "      <td>0.14145</td>\n",
       "      <td>0.43630</td>\n",
       "      <td>2.70201</td>\n",
       "    </tr>\n",
       "    <tr>\n",
       "      <th>2</th>\n",
       "      <td>7.527</td>\n",
       "      <td>1.32548</td>\n",
       "      <td>1.36058</td>\n",
       "      <td>0.87464</td>\n",
       "      <td>0.64938</td>\n",
       "      <td>0.48357</td>\n",
       "      <td>0.34139</td>\n",
       "      <td>2.49204</td>\n",
       "    </tr>\n",
       "    <tr>\n",
       "      <th>3</th>\n",
       "      <td>7.522</td>\n",
       "      <td>1.45900</td>\n",
       "      <td>1.33095</td>\n",
       "      <td>0.88521</td>\n",
       "      <td>0.66973</td>\n",
       "      <td>0.36503</td>\n",
       "      <td>0.34699</td>\n",
       "      <td>2.46531</td>\n",
       "    </tr>\n",
       "    <tr>\n",
       "      <th>4</th>\n",
       "      <td>7.427</td>\n",
       "      <td>1.32629</td>\n",
       "      <td>1.32261</td>\n",
       "      <td>0.90563</td>\n",
       "      <td>0.63297</td>\n",
       "      <td>0.32957</td>\n",
       "      <td>0.45811</td>\n",
       "      <td>2.45176</td>\n",
       "    </tr>\n",
       "  </tbody>\n",
       "</table>\n",
       "</div>"
      ],
      "text/plain": [
       "   HappinessScore  Economy   Family   health  Freedom    Trust  Generosity  \\\n",
       "0           7.587  1.39651  1.34951  0.94143  0.66557  0.41978     0.29678   \n",
       "1           7.561  1.30232  1.40223  0.94784  0.62877  0.14145     0.43630   \n",
       "2           7.527  1.32548  1.36058  0.87464  0.64938  0.48357     0.34139   \n",
       "3           7.522  1.45900  1.33095  0.88521  0.66973  0.36503     0.34699   \n",
       "4           7.427  1.32629  1.32261  0.90563  0.63297  0.32957     0.45811   \n",
       "\n",
       "   Dystopia Residual  \n",
       "0            2.51738  \n",
       "1            2.70201  \n",
       "2            2.49204  \n",
       "3            2.46531  \n",
       "4            2.45176  "
      ]
     },
     "execution_count": 31,
     "metadata": {},
     "output_type": "execute_result"
    }
   ],
   "source": [
    "wrold_hpns_viz= wrld_hpns[['HappinessScore', 'Economy',\n",
    "       'Family', 'health', 'Freedom', 'Trust', 'Generosity',\n",
    "       'Dystopia Residual']]\n",
    "wrold_hpns_viz.head()\n"
   ]
  },
  {
   "cell_type": "code",
   "execution_count": 32,
   "metadata": {
    "slideshow": {
     "slide_type": "slide"
    }
   },
   "outputs": [
    {
     "data": {
      "text/html": [
       "<script type=\"text/javascript\">window.PlotlyConfig = {MathJaxConfig: 'local'};</script><script type=\"text/javascript\">if (window.MathJax) {MathJax.Hub.Config({SVG: {font: \"STIX-Web\"}});}</script><script>requirejs.config({paths: { 'plotly': ['https://cdn.plot.ly/plotly-latest.min']},});if(!window._Plotly) {require(['plotly'],function(plotly) {window._Plotly=plotly;});}</script>"
      ],
      "text/vnd.plotly.v1+html": [
       "<script type=\"text/javascript\">window.PlotlyConfig = {MathJaxConfig: 'local'};</script><script type=\"text/javascript\">if (window.MathJax) {MathJax.Hub.Config({SVG: {font: \"STIX-Web\"}});}</script><script>requirejs.config({paths: { 'plotly': ['https://cdn.plot.ly/plotly-latest.min']},});if(!window._Plotly) {require(['plotly'],function(plotly) {window._Plotly=plotly;});}</script>"
      ]
     },
     "metadata": {},
     "output_type": "display_data"
    },
    {
     "data": {
      "application/vnd.plotly.v1+json": {
       "config": {
        "linkText": "Export to plot.ly",
        "plotlyServerURL": "https://plot.ly",
        "showLink": false
       },
       "data": [
        {
         "boxpoints": "all",
         "fillcolor": "rgba(83, 134, 234, 0.5)",
         "jitter": 0.5,
         "line": {
          "width": 1
         },
         "marker": {
          "size": 5
         },
         "name": "HappinessScore",
         "type": "box",
         "uid": "4cb99d20-8169-4db0-a847-3188bacc92d6",
         "whiskerwidth": 0.2,
         "y": [
          7.587000000000001,
          1.3965100000000001,
          1.34951,
          0.9414299999999999,
          0.66557,
          0.41978000000000004,
          0.29678000000000004,
          2.5173799999999997
         ]
        },
        {
         "boxpoints": "all",
         "fillcolor": "rgba(215, 114, 14, 0.5)",
         "jitter": 0.5,
         "line": {
          "width": 1
         },
         "marker": {
          "size": 5
         },
         "name": "Economy",
         "type": "box",
         "uid": "885f2cef-5b91-4fc9-85b4-649aad8e3573",
         "whiskerwidth": 0.2,
         "y": [
          7.561,
          1.3023200000000001,
          1.4022299999999999,
          0.94784,
          0.6287699999999999,
          0.14145,
          0.4363,
          2.70201
         ]
        },
        {
         "boxpoints": "all",
         "fillcolor": "rgba(14, 110, 101, 0.5)",
         "jitter": 0.5,
         "line": {
          "width": 1
         },
         "marker": {
          "size": 5
         },
         "name": "Family",
         "type": "box",
         "uid": "c254be35-b39d-46e5-a02f-b712e65f3a11",
         "whiskerwidth": 0.2,
         "y": [
          7.527,
          1.32548,
          1.36058,
          0.87464,
          0.6493800000000001,
          0.48357,
          0.34139,
          2.4920400000000003
         ]
        },
        {
         "boxpoints": "all",
         "fillcolor": "rgba(255, 65, 54, 0.5)",
         "jitter": 0.5,
         "line": {
          "width": 1
         },
         "marker": {
          "size": 5
         },
         "name": "health",
         "type": "box",
         "uid": "08c59f49-80d9-4eac-ba1e-dbb26c60e5f7",
         "whiskerwidth": 0.2,
         "y": [
          7.522,
          1.459,
          1.33095,
          0.88521,
          0.66973,
          0.36503,
          0.34699,
          2.4653099999999997
         ]
        },
        {
         "boxpoints": "all",
         "fillcolor": "rgba(207, 114, 255, 0.5)",
         "jitter": 0.5,
         "line": {
          "width": 1
         },
         "marker": {
          "size": 5
         },
         "name": "Freedom",
         "type": "box",
         "uid": "e20a1839-5304-435f-8e3c-0dc41616a65f",
         "whiskerwidth": 0.2,
         "y": [
          7.4270000000000005,
          1.32629,
          1.32261,
          0.9056299999999999,
          0.63297,
          0.32957,
          0.45811,
          2.4517599999999997
         ]
        },
        {
         "boxpoints": "all",
         "fillcolor": "rgba(127, 96, 0, 0.5)",
         "jitter": 0.5,
         "line": {
          "width": 1
         },
         "marker": {
          "size": 5
         },
         "name": "Trust",
         "type": "box",
         "uid": "9350f477-a1ae-426b-93c8-3909079d30f1",
         "whiskerwidth": 0.2,
         "y": [
          7.406000000000001,
          1.29025,
          1.31826,
          0.8891100000000001,
          0.64169,
          0.41372,
          0.23351,
          2.61955
         ]
        },
        {
         "boxpoints": "all",
         "fillcolor": "rgba(93, 164, 214, 0.5)",
         "jitter": 0.5,
         "line": {
          "width": 1
         },
         "marker": {
          "size": 5
         },
         "name": "Generosity",
         "type": "box",
         "uid": "aeccfca2-22a2-416b-9954-cf4766511e19",
         "whiskerwidth": 0.2,
         "y": [
          7.377999999999999,
          1.32944,
          1.28017,
          0.89284,
          0.6157600000000001,
          0.31814000000000003,
          0.4761,
          2.4657
         ]
        },
        {
         "boxpoints": "all",
         "fillcolor": "rgba(255, 144, 14, 0.5)",
         "jitter": 0.5,
         "line": {
          "width": 1
         },
         "marker": {
          "size": 5
         },
         "name": "Dystopia Residual",
         "type": "box",
         "uid": "c7ce9ea6-2c94-4dc5-9ee0-42a2b8eb3675",
         "whiskerwidth": 0.2,
         "y": [
          7.364,
          1.33171,
          1.2890700000000002,
          0.9108700000000001,
          0.6598,
          0.43843999999999994,
          0.36262,
          2.3711900000000004
         ]
        }
       ],
       "layout": {
        "margin": {
         "b": 120,
         "l": 40,
         "r": 80,
         "t": 100
        },
        "paper_bgcolor": "rgb(243, 243, 243)",
        "plot_bgcolor": "rgb(243, 243, 243)",
        "showlegend": false,
        "title": {
         "text": "Distribution of Numerical data in the World happiness dataset"
        },
        "yaxis": {
         "autorange": true,
         "dtick": 8,
         "gridcolor": "rgb(255, 255, 255)",
         "gridwidth": 1,
         "showgrid": true,
         "zeroline": true,
         "zerolinecolor": "rgb(255, 255, 255)",
         "zerolinewidth": 2
        }
       }
      },
      "text/html": [
       "<div id=\"0bdd9d50-7b42-468f-9367-cbf518fcc146\" style=\"height: 525px; width: 100%;\" class=\"plotly-graph-div\"></div><script type=\"text/javascript\">require([\"plotly\"], function(Plotly) { window.PLOTLYENV=window.PLOTLYENV || {};window.PLOTLYENV.BASE_URL=\"https://plot.ly\";\n",
       "if (document.getElementById(\"0bdd9d50-7b42-468f-9367-cbf518fcc146\")) {\n",
       "    Plotly.newPlot(\"0bdd9d50-7b42-468f-9367-cbf518fcc146\", [{\"boxpoints\": \"all\", \"fillcolor\": \"rgba(83, 134, 234, 0.5)\", \"jitter\": 0.5, \"line\": {\"width\": 1}, \"marker\": {\"size\": 5}, \"name\": \"HappinessScore\", \"whiskerwidth\": 0.2, \"y\": [7.587000000000001, 1.3965100000000001, 1.34951, 0.9414299999999999, 0.66557, 0.41978000000000004, 0.29678000000000004, 2.5173799999999997], \"type\": \"box\", \"uid\": \"4cb99d20-8169-4db0-a847-3188bacc92d6\"}, {\"boxpoints\": \"all\", \"fillcolor\": \"rgba(215, 114, 14, 0.5)\", \"jitter\": 0.5, \"line\": {\"width\": 1}, \"marker\": {\"size\": 5}, \"name\": \"Economy\", \"whiskerwidth\": 0.2, \"y\": [7.561, 1.3023200000000001, 1.4022299999999999, 0.94784, 0.6287699999999999, 0.14145, 0.4363, 2.70201], \"type\": \"box\", \"uid\": \"885f2cef-5b91-4fc9-85b4-649aad8e3573\"}, {\"boxpoints\": \"all\", \"fillcolor\": \"rgba(14, 110, 101, 0.5)\", \"jitter\": 0.5, \"line\": {\"width\": 1}, \"marker\": {\"size\": 5}, \"name\": \"Family\", \"whiskerwidth\": 0.2, \"y\": [7.527, 1.32548, 1.36058, 0.87464, 0.6493800000000001, 0.48357, 0.34139, 2.4920400000000003], \"type\": \"box\", \"uid\": \"c254be35-b39d-46e5-a02f-b712e65f3a11\"}, {\"boxpoints\": \"all\", \"fillcolor\": \"rgba(255, 65, 54, 0.5)\", \"jitter\": 0.5, \"line\": {\"width\": 1}, \"marker\": {\"size\": 5}, \"name\": \"health\", \"whiskerwidth\": 0.2, \"y\": [7.522, 1.459, 1.33095, 0.88521, 0.66973, 0.36503, 0.34699, 2.4653099999999997], \"type\": \"box\", \"uid\": \"08c59f49-80d9-4eac-ba1e-dbb26c60e5f7\"}, {\"boxpoints\": \"all\", \"fillcolor\": \"rgba(207, 114, 255, 0.5)\", \"jitter\": 0.5, \"line\": {\"width\": 1}, \"marker\": {\"size\": 5}, \"name\": \"Freedom\", \"whiskerwidth\": 0.2, \"y\": [7.4270000000000005, 1.32629, 1.32261, 0.9056299999999999, 0.63297, 0.32957, 0.45811, 2.4517599999999997], \"type\": \"box\", \"uid\": \"e20a1839-5304-435f-8e3c-0dc41616a65f\"}, {\"boxpoints\": \"all\", \"fillcolor\": \"rgba(127, 96, 0, 0.5)\", \"jitter\": 0.5, \"line\": {\"width\": 1}, \"marker\": {\"size\": 5}, \"name\": \"Trust\", \"whiskerwidth\": 0.2, \"y\": [7.406000000000001, 1.29025, 1.31826, 0.8891100000000001, 0.64169, 0.41372, 0.23351, 2.61955], \"type\": \"box\", \"uid\": \"9350f477-a1ae-426b-93c8-3909079d30f1\"}, {\"boxpoints\": \"all\", \"fillcolor\": \"rgba(93, 164, 214, 0.5)\", \"jitter\": 0.5, \"line\": {\"width\": 1}, \"marker\": {\"size\": 5}, \"name\": \"Generosity\", \"whiskerwidth\": 0.2, \"y\": [7.377999999999999, 1.32944, 1.28017, 0.89284, 0.6157600000000001, 0.31814000000000003, 0.4761, 2.4657], \"type\": \"box\", \"uid\": \"aeccfca2-22a2-416b-9954-cf4766511e19\"}, {\"boxpoints\": \"all\", \"fillcolor\": \"rgba(255, 144, 14, 0.5)\", \"jitter\": 0.5, \"line\": {\"width\": 1}, \"marker\": {\"size\": 5}, \"name\": \"Dystopia Residual\", \"whiskerwidth\": 0.2, \"y\": [7.364, 1.33171, 1.2890700000000002, 0.9108700000000001, 0.6598, 0.43843999999999994, 0.36262, 2.3711900000000004], \"type\": \"box\", \"uid\": \"c7ce9ea6-2c94-4dc5-9ee0-42a2b8eb3675\"}], {\"margin\": {\"b\": 120, \"l\": 40, \"r\": 80, \"t\": 100}, \"paper_bgcolor\": \"rgb(243, 243, 243)\", \"plot_bgcolor\": \"rgb(243, 243, 243)\", \"showlegend\": false, \"title\": {\"text\": \"Distribution of Numerical data in the World happiness dataset\"}, \"yaxis\": {\"autorange\": true, \"dtick\": 8, \"gridcolor\": \"rgb(255, 255, 255)\", \"gridwidth\": 1, \"showgrid\": true, \"zeroline\": true, \"zerolinecolor\": \"rgb(255, 255, 255)\", \"zerolinewidth\": 2}}, {\"showLink\": false, \"linkText\": \"Export to plot.ly\", \"plotlyServerURL\": \"https://plot.ly\"}); \n",
       "}\n",
       "});</script><script type=\"text/javascript\">window.addEventListener(\"resize\", function(){if (document.getElementById(\"0bdd9d50-7b42-468f-9367-cbf518fcc146\")) {window._Plotly.Plots.resize(document.getElementById(\"0bdd9d50-7b42-468f-9367-cbf518fcc146\"));};})</script>"
      ],
      "text/vnd.plotly.v1+html": [
       "<div id=\"0bdd9d50-7b42-468f-9367-cbf518fcc146\" style=\"height: 525px; width: 100%;\" class=\"plotly-graph-div\"></div><script type=\"text/javascript\">require([\"plotly\"], function(Plotly) { window.PLOTLYENV=window.PLOTLYENV || {};window.PLOTLYENV.BASE_URL=\"https://plot.ly\";\n",
       "if (document.getElementById(\"0bdd9d50-7b42-468f-9367-cbf518fcc146\")) {\n",
       "    Plotly.newPlot(\"0bdd9d50-7b42-468f-9367-cbf518fcc146\", [{\"boxpoints\": \"all\", \"fillcolor\": \"rgba(83, 134, 234, 0.5)\", \"jitter\": 0.5, \"line\": {\"width\": 1}, \"marker\": {\"size\": 5}, \"name\": \"HappinessScore\", \"whiskerwidth\": 0.2, \"y\": [7.587000000000001, 1.3965100000000001, 1.34951, 0.9414299999999999, 0.66557, 0.41978000000000004, 0.29678000000000004, 2.5173799999999997], \"type\": \"box\", \"uid\": \"4cb99d20-8169-4db0-a847-3188bacc92d6\"}, {\"boxpoints\": \"all\", \"fillcolor\": \"rgba(215, 114, 14, 0.5)\", \"jitter\": 0.5, \"line\": {\"width\": 1}, \"marker\": {\"size\": 5}, \"name\": \"Economy\", \"whiskerwidth\": 0.2, \"y\": [7.561, 1.3023200000000001, 1.4022299999999999, 0.94784, 0.6287699999999999, 0.14145, 0.4363, 2.70201], \"type\": \"box\", \"uid\": \"885f2cef-5b91-4fc9-85b4-649aad8e3573\"}, {\"boxpoints\": \"all\", \"fillcolor\": \"rgba(14, 110, 101, 0.5)\", \"jitter\": 0.5, \"line\": {\"width\": 1}, \"marker\": {\"size\": 5}, \"name\": \"Family\", \"whiskerwidth\": 0.2, \"y\": [7.527, 1.32548, 1.36058, 0.87464, 0.6493800000000001, 0.48357, 0.34139, 2.4920400000000003], \"type\": \"box\", \"uid\": \"c254be35-b39d-46e5-a02f-b712e65f3a11\"}, {\"boxpoints\": \"all\", \"fillcolor\": \"rgba(255, 65, 54, 0.5)\", \"jitter\": 0.5, \"line\": {\"width\": 1}, \"marker\": {\"size\": 5}, \"name\": \"health\", \"whiskerwidth\": 0.2, \"y\": [7.522, 1.459, 1.33095, 0.88521, 0.66973, 0.36503, 0.34699, 2.4653099999999997], \"type\": \"box\", \"uid\": \"08c59f49-80d9-4eac-ba1e-dbb26c60e5f7\"}, {\"boxpoints\": \"all\", \"fillcolor\": \"rgba(207, 114, 255, 0.5)\", \"jitter\": 0.5, \"line\": {\"width\": 1}, \"marker\": {\"size\": 5}, \"name\": \"Freedom\", \"whiskerwidth\": 0.2, \"y\": [7.4270000000000005, 1.32629, 1.32261, 0.9056299999999999, 0.63297, 0.32957, 0.45811, 2.4517599999999997], \"type\": \"box\", \"uid\": \"e20a1839-5304-435f-8e3c-0dc41616a65f\"}, {\"boxpoints\": \"all\", \"fillcolor\": \"rgba(127, 96, 0, 0.5)\", \"jitter\": 0.5, \"line\": {\"width\": 1}, \"marker\": {\"size\": 5}, \"name\": \"Trust\", \"whiskerwidth\": 0.2, \"y\": [7.406000000000001, 1.29025, 1.31826, 0.8891100000000001, 0.64169, 0.41372, 0.23351, 2.61955], \"type\": \"box\", \"uid\": \"9350f477-a1ae-426b-93c8-3909079d30f1\"}, {\"boxpoints\": \"all\", \"fillcolor\": \"rgba(93, 164, 214, 0.5)\", \"jitter\": 0.5, \"line\": {\"width\": 1}, \"marker\": {\"size\": 5}, \"name\": \"Generosity\", \"whiskerwidth\": 0.2, \"y\": [7.377999999999999, 1.32944, 1.28017, 0.89284, 0.6157600000000001, 0.31814000000000003, 0.4761, 2.4657], \"type\": \"box\", \"uid\": \"aeccfca2-22a2-416b-9954-cf4766511e19\"}, {\"boxpoints\": \"all\", \"fillcolor\": \"rgba(255, 144, 14, 0.5)\", \"jitter\": 0.5, \"line\": {\"width\": 1}, \"marker\": {\"size\": 5}, \"name\": \"Dystopia Residual\", \"whiskerwidth\": 0.2, \"y\": [7.364, 1.33171, 1.2890700000000002, 0.9108700000000001, 0.6598, 0.43843999999999994, 0.36262, 2.3711900000000004], \"type\": \"box\", \"uid\": \"c7ce9ea6-2c94-4dc5-9ee0-42a2b8eb3675\"}], {\"margin\": {\"b\": 120, \"l\": 40, \"r\": 80, \"t\": 100}, \"paper_bgcolor\": \"rgb(243, 243, 243)\", \"plot_bgcolor\": \"rgb(243, 243, 243)\", \"showlegend\": false, \"title\": {\"text\": \"Distribution of Numerical data in the World happiness dataset\"}, \"yaxis\": {\"autorange\": true, \"dtick\": 8, \"gridcolor\": \"rgb(255, 255, 255)\", \"gridwidth\": 1, \"showgrid\": true, \"zeroline\": true, \"zerolinecolor\": \"rgb(255, 255, 255)\", \"zerolinewidth\": 2}}, {\"showLink\": false, \"linkText\": \"Export to plot.ly\", \"plotlyServerURL\": \"https://plot.ly\"}); \n",
       "}\n",
       "});</script><script type=\"text/javascript\">window.addEventListener(\"resize\", function(){if (document.getElementById(\"0bdd9d50-7b42-468f-9367-cbf518fcc146\")) {window._Plotly.Plots.resize(document.getElementById(\"0bdd9d50-7b42-468f-9367-cbf518fcc146\"));};})</script>"
      ]
     },
     "metadata": {},
     "output_type": "display_data"
    }
   ],
   "source": [
    "from plotly.offline import init_notebook_mode, iplot\n",
    "from IPython.display import display, HTML\n",
    "\n",
    "\n",
    "init_notebook_mode(connected=True)\n",
    "import plotly.graph_objs as go\n",
    "\n",
    "#select only numerical data from the data frame and check the distribution\n",
    "wh_num = wrold_hpns_viz.select_dtypes(include = ['float64', 'int64'])\n",
    "\n",
    "x_data = wrold_hpns_viz.columns\n",
    "y_data = wrold_hpns_viz.values\n",
    "\n",
    "colors = ['rgba(83, 134, 234, 0.5)', 'rgba(215, 114, 14, 0.5)', 'rgba(14, 110, 101, 0.5)', 'rgba(255, 65, 54, 0.5)', 'rgba(207, 114, 255, 0.5)', 'rgba(127, 96, 0, 0.5)','rgba(93, 164, 214, 0.5)', 'rgba(255, 144, 14, 0.5)', 'rgba(44, 160, 101, 0.5)', 'rgba(255, 65, 54, 0.5)', 'rgba(207, 114, 255, 0.5)']\n",
    "\n",
    "traces = []\n",
    "\n",
    "for xd, yd, cls in zip(x_data, y_data, colors):\n",
    "        traces.append(go.Box(\n",
    "            y=yd,\n",
    "            name=xd,\n",
    "            boxpoints='all',\n",
    "            jitter=0.5,\n",
    "            whiskerwidth=0.2,\n",
    "            fillcolor=cls,\n",
    "            marker=dict(\n",
    "                size=5,\n",
    "            ),\n",
    "            line=dict(width=1),\n",
    "        ))\n",
    "\n",
    "layout = go.Layout(\n",
    "    title='Distribution of Numerical data in the World happiness dataset',\n",
    "    yaxis=dict(\n",
    "        autorange=True,\n",
    "        showgrid=True,\n",
    "        zeroline=True,\n",
    "        dtick=8,\n",
    "        gridcolor='rgb(255, 255, 255)',\n",
    "        gridwidth=1,\n",
    "        zerolinecolor='rgb(255, 255, 255)',\n",
    "        zerolinewidth=2,\n",
    "    ),\n",
    "    margin=dict(\n",
    "        l=40,\n",
    "        r=80,\n",
    "        b=120,\n",
    "        t=100,\n",
    "    ),\n",
    "    paper_bgcolor='rgb(243, 243, 243)',\n",
    "    plot_bgcolor='rgb(243, 243, 243)',\n",
    "    showlegend=False\n",
    ")\n",
    "\n",
    "fig = go.Figure(data=traces, layout=layout)\n",
    "iplot(fig)"
   ]
  },
  {
   "cell_type": "markdown",
   "metadata": {
    "slideshow": {
     "slide_type": "slide"
    }
   },
   "source": [
    "##### Preprocssing"
   ]
  },
  {
   "cell_type": "code",
   "execution_count": 33,
   "metadata": {
    "slideshow": {
     "slide_type": "skip"
    }
   },
   "outputs": [
    {
     "data": {
      "text/plain": [
       "Index([], dtype='object')"
      ]
     },
     "execution_count": 33,
     "metadata": {},
     "output_type": "execute_result"
    }
   ],
   "source": [
    "#check the percentatage of NAs in every column\n",
    "na_wh = wrld_hpns.isnull().sum()/len(wrld_hpns)\n",
    "#filter columns with NA above 0.3 of the data\n",
    "na_wh_3 = na_wh[na_wh>0.3]\n",
    "#delete columns with NA above 0.3 of the data\n",
    "for ind in na_wh_3.index:\n",
    "    del wh_num[ind]\n",
    "    #double check if NAs were removed\n",
    "wh_na_after = wrld_hpns.isnull().sum()/len(wrld_hpns)\n",
    "#check if there are still columns with NA above 0.3 of the data\n",
    "wh_na_after_3 = wh_na_after[wh_na_after>0.3]\n",
    "wh_na_after_3.index"
   ]
  },
  {
   "cell_type": "code",
   "execution_count": 34,
   "metadata": {
    "slideshow": {
     "slide_type": "skip"
    }
   },
   "outputs": [
    {
     "data": {
      "text/plain": [
       "(315, 12)"
      ]
     },
     "execution_count": 34,
     "metadata": {},
     "output_type": "execute_result"
    }
   ],
   "source": [
    "wrld_hpns.shape"
   ]
  },
  {
   "cell_type": "code",
   "execution_count": 35,
   "metadata": {
    "slideshow": {
     "slide_type": "skip"
    }
   },
   "outputs": [
    {
     "data": {
      "text/plain": [
       "HappinessScore       5.378949\n",
       "Economy              0.899837\n",
       "Family               0.892647\n",
       "health               0.594054\n",
       "Freedom              0.399896\n",
       "Trust                0.140532\n",
       "Generosity           0.239957\n",
       "Dystopia Residual    2.212032\n",
       "dtype: float64"
      ]
     },
     "execution_count": 35,
     "metadata": {},
     "output_type": "execute_result"
    }
   ],
   "source": [
    "(wh_num.mean())"
   ]
  },
  {
   "cell_type": "code",
   "execution_count": 36,
   "metadata": {
    "slideshow": {
     "slide_type": "skip"
    }
   },
   "outputs": [
    {
     "data": {
      "text/plain": [
       "Country              0\n",
       "Region               0\n",
       "HappinessRank        0\n",
       "HappinessScore       0\n",
       "Economy              0\n",
       "Family               0\n",
       "health               0\n",
       "Freedom              0\n",
       "Trust                0\n",
       "Generosity           0\n",
       "Dystopia Residual    0\n",
       "year                 0\n",
       "dtype: int64"
      ]
     },
     "execution_count": 36,
     "metadata": {},
     "output_type": "execute_result"
    }
   ],
   "source": [
    "#fill NA with mean value\n",
    "wh_df_new = wrld_hpns.fillna(wrld_hpns.mean(),axis=0)\n",
    "wh_df_new.isnull().sum()"
   ]
  },
  {
   "cell_type": "code",
   "execution_count": 37,
   "metadata": {
    "slideshow": {
     "slide_type": "skip"
    }
   },
   "outputs": [
    {
     "data": {
      "text/html": [
       "<div>\n",
       "<table border=\"1\" class=\"dataframe\">\n",
       "  <thead>\n",
       "    <tr style=\"text-align: right;\">\n",
       "      <th></th>\n",
       "      <th>Country</th>\n",
       "      <th>Region</th>\n",
       "      <th>HappinessRank</th>\n",
       "      <th>HappinessScore</th>\n",
       "      <th>Economy</th>\n",
       "      <th>Family</th>\n",
       "      <th>health</th>\n",
       "      <th>Freedom</th>\n",
       "      <th>Trust</th>\n",
       "      <th>Generosity</th>\n",
       "      <th>Dystopia Residual</th>\n",
       "      <th>year</th>\n",
       "    </tr>\n",
       "  </thead>\n",
       "  <tbody>\n",
       "    <tr>\n",
       "      <th>0</th>\n",
       "      <td>Switzerland</td>\n",
       "      <td>Western Europe</td>\n",
       "      <td>1</td>\n",
       "      <td>7.587</td>\n",
       "      <td>1.39651</td>\n",
       "      <td>1.34951</td>\n",
       "      <td>0.94143</td>\n",
       "      <td>0.66557</td>\n",
       "      <td>0.41978</td>\n",
       "      <td>0.29678</td>\n",
       "      <td>2.51738</td>\n",
       "      <td>2015</td>\n",
       "    </tr>\n",
       "    <tr>\n",
       "      <th>1</th>\n",
       "      <td>Iceland</td>\n",
       "      <td>Western Europe</td>\n",
       "      <td>2</td>\n",
       "      <td>7.561</td>\n",
       "      <td>1.30232</td>\n",
       "      <td>1.40223</td>\n",
       "      <td>0.94784</td>\n",
       "      <td>0.62877</td>\n",
       "      <td>0.14145</td>\n",
       "      <td>0.43630</td>\n",
       "      <td>2.70201</td>\n",
       "      <td>2015</td>\n",
       "    </tr>\n",
       "    <tr>\n",
       "      <th>2</th>\n",
       "      <td>Denmark</td>\n",
       "      <td>Western Europe</td>\n",
       "      <td>3</td>\n",
       "      <td>7.527</td>\n",
       "      <td>1.32548</td>\n",
       "      <td>1.36058</td>\n",
       "      <td>0.87464</td>\n",
       "      <td>0.64938</td>\n",
       "      <td>0.48357</td>\n",
       "      <td>0.34139</td>\n",
       "      <td>2.49204</td>\n",
       "      <td>2015</td>\n",
       "    </tr>\n",
       "    <tr>\n",
       "      <th>3</th>\n",
       "      <td>Norway</td>\n",
       "      <td>Western Europe</td>\n",
       "      <td>4</td>\n",
       "      <td>7.522</td>\n",
       "      <td>1.45900</td>\n",
       "      <td>1.33095</td>\n",
       "      <td>0.88521</td>\n",
       "      <td>0.66973</td>\n",
       "      <td>0.36503</td>\n",
       "      <td>0.34699</td>\n",
       "      <td>2.46531</td>\n",
       "      <td>2015</td>\n",
       "    </tr>\n",
       "    <tr>\n",
       "      <th>4</th>\n",
       "      <td>Canada</td>\n",
       "      <td>North America</td>\n",
       "      <td>5</td>\n",
       "      <td>7.427</td>\n",
       "      <td>1.32629</td>\n",
       "      <td>1.32261</td>\n",
       "      <td>0.90563</td>\n",
       "      <td>0.63297</td>\n",
       "      <td>0.32957</td>\n",
       "      <td>0.45811</td>\n",
       "      <td>2.45176</td>\n",
       "      <td>2015</td>\n",
       "    </tr>\n",
       "  </tbody>\n",
       "</table>\n",
       "</div>"
      ],
      "text/plain": [
       "       Country          Region  HappinessRank  HappinessScore  Economy  \\\n",
       "0  Switzerland  Western Europe              1           7.587  1.39651   \n",
       "1      Iceland  Western Europe              2           7.561  1.30232   \n",
       "2      Denmark  Western Europe              3           7.527  1.32548   \n",
       "3       Norway  Western Europe              4           7.522  1.45900   \n",
       "4       Canada   North America              5           7.427  1.32629   \n",
       "\n",
       "    Family   health  Freedom    Trust  Generosity  Dystopia Residual  year  \n",
       "0  1.34951  0.94143  0.66557  0.41978     0.29678            2.51738  2015  \n",
       "1  1.40223  0.94784  0.62877  0.14145     0.43630            2.70201  2015  \n",
       "2  1.36058  0.87464  0.64938  0.48357     0.34139            2.49204  2015  \n",
       "3  1.33095  0.88521  0.66973  0.36503     0.34699            2.46531  2015  \n",
       "4  1.32261  0.90563  0.63297  0.32957     0.45811            2.45176  2015  "
      ]
     },
     "execution_count": 37,
     "metadata": {},
     "output_type": "execute_result"
    }
   ],
   "source": [
    "wh_df_new.head()"
   ]
  },
  {
   "cell_type": "markdown",
   "metadata": {
    "slideshow": {
     "slide_type": "slide"
    }
   },
   "source": [
    "#### Feature Extraction"
   ]
  },
  {
   "cell_type": "code",
   "execution_count": 38,
   "metadata": {
    "slideshow": {
     "slide_type": "skip"
    }
   },
   "outputs": [
    {
     "data": {
      "text/plain": [
       "Med     132\n",
       "Low     123\n",
       "High     60\n",
       "Name: WH_class, dtype: int64"
      ]
     },
     "execution_count": 38,
     "metadata": {},
     "output_type": "execute_result"
    }
   ],
   "source": [
    "import numpy as np\n",
    "wh_df_new['class_high'] = np.where(wh_df_new['HappinessScore']>6.5 , \"High\",0)\n",
    "wh_df_new['class_low'] = np.where(wh_df_new['HappinessScore']<5 , \"Low\",0)\n",
    "wh_df_new['WH_class'] = wh_df_new['class_high'].str.cat(wh_df_new['class_low'], sep=' - ')\n",
    "wh_df_new = wh_df_new.replace(['0 - 0', 'High - 0','0 - Low'], \n",
    "                     ['Med','High','Low']) \n",
    "wh_df_new['WH_class'].value_counts()"
   ]
  },
  {
   "cell_type": "code",
   "execution_count": 39,
   "metadata": {
    "slideshow": {
     "slide_type": "skip"
    }
   },
   "outputs": [],
   "source": [
    "#delete redundant columns\n",
    "del wh_df_new['class_high']\n",
    "del wh_df_new['class_low']"
   ]
  },
  {
   "cell_type": "code",
   "execution_count": 40,
   "metadata": {
    "slideshow": {
     "slide_type": "slide"
    }
   },
   "outputs": [
    {
     "data": {
      "text/html": [
       "<div>\n",
       "<table border=\"1\" class=\"dataframe\">\n",
       "  <thead>\n",
       "    <tr style=\"text-align: right;\">\n",
       "      <th></th>\n",
       "      <th>Country</th>\n",
       "      <th>Region</th>\n",
       "      <th>HappinessRank</th>\n",
       "      <th>HappinessScore</th>\n",
       "      <th>Economy</th>\n",
       "      <th>Family</th>\n",
       "      <th>health</th>\n",
       "      <th>Freedom</th>\n",
       "      <th>Trust</th>\n",
       "      <th>Generosity</th>\n",
       "      <th>Dystopia Residual</th>\n",
       "      <th>year</th>\n",
       "      <th>WH_class</th>\n",
       "    </tr>\n",
       "  </thead>\n",
       "  <tbody>\n",
       "    <tr>\n",
       "      <th>0</th>\n",
       "      <td>Switzerland</td>\n",
       "      <td>Western Europe</td>\n",
       "      <td>1</td>\n",
       "      <td>7.587</td>\n",
       "      <td>1.39651</td>\n",
       "      <td>1.34951</td>\n",
       "      <td>0.94143</td>\n",
       "      <td>0.66557</td>\n",
       "      <td>0.41978</td>\n",
       "      <td>0.29678</td>\n",
       "      <td>2.51738</td>\n",
       "      <td>2015</td>\n",
       "      <td>High</td>\n",
       "    </tr>\n",
       "    <tr>\n",
       "      <th>1</th>\n",
       "      <td>Iceland</td>\n",
       "      <td>Western Europe</td>\n",
       "      <td>2</td>\n",
       "      <td>7.561</td>\n",
       "      <td>1.30232</td>\n",
       "      <td>1.40223</td>\n",
       "      <td>0.94784</td>\n",
       "      <td>0.62877</td>\n",
       "      <td>0.14145</td>\n",
       "      <td>0.43630</td>\n",
       "      <td>2.70201</td>\n",
       "      <td>2015</td>\n",
       "      <td>High</td>\n",
       "    </tr>\n",
       "    <tr>\n",
       "      <th>2</th>\n",
       "      <td>Denmark</td>\n",
       "      <td>Western Europe</td>\n",
       "      <td>3</td>\n",
       "      <td>7.527</td>\n",
       "      <td>1.32548</td>\n",
       "      <td>1.36058</td>\n",
       "      <td>0.87464</td>\n",
       "      <td>0.64938</td>\n",
       "      <td>0.48357</td>\n",
       "      <td>0.34139</td>\n",
       "      <td>2.49204</td>\n",
       "      <td>2015</td>\n",
       "      <td>High</td>\n",
       "    </tr>\n",
       "    <tr>\n",
       "      <th>3</th>\n",
       "      <td>Norway</td>\n",
       "      <td>Western Europe</td>\n",
       "      <td>4</td>\n",
       "      <td>7.522</td>\n",
       "      <td>1.45900</td>\n",
       "      <td>1.33095</td>\n",
       "      <td>0.88521</td>\n",
       "      <td>0.66973</td>\n",
       "      <td>0.36503</td>\n",
       "      <td>0.34699</td>\n",
       "      <td>2.46531</td>\n",
       "      <td>2015</td>\n",
       "      <td>High</td>\n",
       "    </tr>\n",
       "    <tr>\n",
       "      <th>4</th>\n",
       "      <td>Canada</td>\n",
       "      <td>North America</td>\n",
       "      <td>5</td>\n",
       "      <td>7.427</td>\n",
       "      <td>1.32629</td>\n",
       "      <td>1.32261</td>\n",
       "      <td>0.90563</td>\n",
       "      <td>0.63297</td>\n",
       "      <td>0.32957</td>\n",
       "      <td>0.45811</td>\n",
       "      <td>2.45176</td>\n",
       "      <td>2015</td>\n",
       "      <td>High</td>\n",
       "    </tr>\n",
       "  </tbody>\n",
       "</table>\n",
       "</div>"
      ],
      "text/plain": [
       "       Country          Region  HappinessRank  HappinessScore  Economy  \\\n",
       "0  Switzerland  Western Europe              1           7.587  1.39651   \n",
       "1      Iceland  Western Europe              2           7.561  1.30232   \n",
       "2      Denmark  Western Europe              3           7.527  1.32548   \n",
       "3       Norway  Western Europe              4           7.522  1.45900   \n",
       "4       Canada   North America              5           7.427  1.32629   \n",
       "\n",
       "    Family   health  Freedom    Trust  Generosity  Dystopia Residual  year  \\\n",
       "0  1.34951  0.94143  0.66557  0.41978     0.29678            2.51738  2015   \n",
       "1  1.40223  0.94784  0.62877  0.14145     0.43630            2.70201  2015   \n",
       "2  1.36058  0.87464  0.64938  0.48357     0.34139            2.49204  2015   \n",
       "3  1.33095  0.88521  0.66973  0.36503     0.34699            2.46531  2015   \n",
       "4  1.32261  0.90563  0.63297  0.32957     0.45811            2.45176  2015   \n",
       "\n",
       "  WH_class  \n",
       "0     High  \n",
       "1     High  \n",
       "2     High  \n",
       "3     High  \n",
       "4     High  "
      ]
     },
     "execution_count": 40,
     "metadata": {},
     "output_type": "execute_result"
    }
   ],
   "source": [
    "wh_df_new.head()"
   ]
  },
  {
   "cell_type": "code",
   "execution_count": 41,
   "metadata": {
    "slideshow": {
     "slide_type": "skip"
    }
   },
   "outputs": [
    {
     "data": {
      "text/html": [
       "<h1>Export data in a dictionary form</h1>"
      ],
      "text/plain": [
       "<IPython.core.display.HTML object>"
      ]
     },
     "execution_count": 41,
     "metadata": {},
     "output_type": "execute_result"
    }
   ],
   "source": [
    "HTML('''<h1>Export data in a dictionary form</h1>''')"
   ]
  },
  {
   "cell_type": "code",
   "execution_count": 42,
   "metadata": {
    "slideshow": {
     "slide_type": "skip"
    }
   },
   "outputs": [],
   "source": [
    "import json\n",
    "\n",
    "# D3 accepts dictionaries ,here I will convert data frame into dictionaries.\n",
    "HF_array_of_dicts = hf_df_new.to_dict(orient='records')\n",
    "WH_array_of_dicts = wh_df_new.to_dict(orient='records')\n",
    "with open('HF_array_of_dicts.txt', 'w') as file:\n",
    "     file.write(json.dumps(HF_array_of_dicts)) # use `json.loads` to do the reverse\n",
    "with open('WH_array_of_dicts.txt', 'w') as file:\n",
    "     file.write(json.dumps(WH_array_of_dicts)) # use `json.loads` to do the reverse\n"
   ]
  },
  {
   "cell_type": "code",
   "execution_count": 43,
   "metadata": {
    "slideshow": {
     "slide_type": "skip"
    }
   },
   "outputs": [],
   "source": [
    "hf_df_new.to_csv('hf_df_new.csv',sep=',')\n",
    "wh_df_new.to_csv('wh_df_new.csv',sep=',')"
   ]
  },
  {
   "cell_type": "markdown",
   "metadata": {
    "slideshow": {
     "slide_type": "slide"
    }
   },
   "source": [
    "### Visualization"
   ]
  },
  {
   "cell_type": "code",
   "execution_count": 44,
   "metadata": {
    "slideshow": {
     "slide_type": "slide"
    }
   },
   "outputs": [
    {
     "data": {
      "text/html": [
       "<h1>How Generosity affects World Happiness Score?</h1>"
      ],
      "text/plain": [
       "<IPython.core.display.HTML object>"
      ]
     },
     "execution_count": 44,
     "metadata": {},
     "output_type": "execute_result"
    }
   ],
   "source": [
    "HTML('''<h1>How Generosity affects World Happiness Score?</h1>''')"
   ]
  },
  {
   "cell_type": "code",
   "execution_count": 45,
   "metadata": {
    "slideshow": {
     "slide_type": "skip"
    }
   },
   "outputs": [
    {
     "data": {
      "text/html": [
       "<div>\n",
       "<table border=\"1\" class=\"dataframe\">\n",
       "  <thead>\n",
       "    <tr style=\"text-align: right;\">\n",
       "      <th></th>\n",
       "      <th>Unnamed: 0</th>\n",
       "      <th>Country</th>\n",
       "      <th>Region</th>\n",
       "      <th>HappinessRank</th>\n",
       "      <th>HappinessScore</th>\n",
       "      <th>Economy</th>\n",
       "      <th>Family</th>\n",
       "      <th>health</th>\n",
       "      <th>Freedom</th>\n",
       "      <th>Trust</th>\n",
       "      <th>Generosity</th>\n",
       "      <th>Dystopia Residual</th>\n",
       "      <th>year</th>\n",
       "      <th>WH_class</th>\n",
       "    </tr>\n",
       "  </thead>\n",
       "  <tbody>\n",
       "    <tr>\n",
       "      <th>0</th>\n",
       "      <td>0</td>\n",
       "      <td>Switzerland</td>\n",
       "      <td>Western Europe</td>\n",
       "      <td>1</td>\n",
       "      <td>7.587</td>\n",
       "      <td>1.39651</td>\n",
       "      <td>1.34951</td>\n",
       "      <td>0.94143</td>\n",
       "      <td>0.66557</td>\n",
       "      <td>0.41978</td>\n",
       "      <td>0.29678</td>\n",
       "      <td>2.51738</td>\n",
       "      <td>2015</td>\n",
       "      <td>High</td>\n",
       "    </tr>\n",
       "    <tr>\n",
       "      <th>1</th>\n",
       "      <td>1</td>\n",
       "      <td>Iceland</td>\n",
       "      <td>Western Europe</td>\n",
       "      <td>2</td>\n",
       "      <td>7.561</td>\n",
       "      <td>1.30232</td>\n",
       "      <td>1.40223</td>\n",
       "      <td>0.94784</td>\n",
       "      <td>0.62877</td>\n",
       "      <td>0.14145</td>\n",
       "      <td>0.43630</td>\n",
       "      <td>2.70201</td>\n",
       "      <td>2015</td>\n",
       "      <td>High</td>\n",
       "    </tr>\n",
       "    <tr>\n",
       "      <th>2</th>\n",
       "      <td>2</td>\n",
       "      <td>Denmark</td>\n",
       "      <td>Western Europe</td>\n",
       "      <td>3</td>\n",
       "      <td>7.527</td>\n",
       "      <td>1.32548</td>\n",
       "      <td>1.36058</td>\n",
       "      <td>0.87464</td>\n",
       "      <td>0.64938</td>\n",
       "      <td>0.48357</td>\n",
       "      <td>0.34139</td>\n",
       "      <td>2.49204</td>\n",
       "      <td>2015</td>\n",
       "      <td>High</td>\n",
       "    </tr>\n",
       "    <tr>\n",
       "      <th>3</th>\n",
       "      <td>3</td>\n",
       "      <td>Norway</td>\n",
       "      <td>Western Europe</td>\n",
       "      <td>4</td>\n",
       "      <td>7.522</td>\n",
       "      <td>1.45900</td>\n",
       "      <td>1.33095</td>\n",
       "      <td>0.88521</td>\n",
       "      <td>0.66973</td>\n",
       "      <td>0.36503</td>\n",
       "      <td>0.34699</td>\n",
       "      <td>2.46531</td>\n",
       "      <td>2015</td>\n",
       "      <td>High</td>\n",
       "    </tr>\n",
       "    <tr>\n",
       "      <th>4</th>\n",
       "      <td>4</td>\n",
       "      <td>Canada</td>\n",
       "      <td>North America</td>\n",
       "      <td>5</td>\n",
       "      <td>7.427</td>\n",
       "      <td>1.32629</td>\n",
       "      <td>1.32261</td>\n",
       "      <td>0.90563</td>\n",
       "      <td>0.63297</td>\n",
       "      <td>0.32957</td>\n",
       "      <td>0.45811</td>\n",
       "      <td>2.45176</td>\n",
       "      <td>2015</td>\n",
       "      <td>High</td>\n",
       "    </tr>\n",
       "  </tbody>\n",
       "</table>\n",
       "</div>"
      ],
      "text/plain": [
       "   Unnamed: 0      Country          Region  HappinessRank  HappinessScore  \\\n",
       "0           0  Switzerland  Western Europe              1           7.587   \n",
       "1           1      Iceland  Western Europe              2           7.561   \n",
       "2           2      Denmark  Western Europe              3           7.527   \n",
       "3           3       Norway  Western Europe              4           7.522   \n",
       "4           4       Canada   North America              5           7.427   \n",
       "\n",
       "   Economy   Family   health  Freedom    Trust  Generosity  Dystopia Residual  \\\n",
       "0  1.39651  1.34951  0.94143  0.66557  0.41978     0.29678            2.51738   \n",
       "1  1.30232  1.40223  0.94784  0.62877  0.14145     0.43630            2.70201   \n",
       "2  1.32548  1.36058  0.87464  0.64938  0.48357     0.34139            2.49204   \n",
       "3  1.45900  1.33095  0.88521  0.66973  0.36503     0.34699            2.46531   \n",
       "4  1.32629  1.32261  0.90563  0.63297  0.32957     0.45811            2.45176   \n",
       "\n",
       "   year WH_class  \n",
       "0  2015     High  \n",
       "1  2015     High  \n",
       "2  2015     High  \n",
       "3  2015     High  \n",
       "4  2015     High  "
      ]
     },
     "execution_count": 45,
     "metadata": {},
     "output_type": "execute_result"
    }
   ],
   "source": [
    "from plotly.offline import download_plotlyjs, init_notebook_mode, plot, iplot\n",
    "import plotly.graph_objs as go\n",
    "import numpy as np\n",
    "\n",
    "wh_df_new=pd.read_csv('wh_df_new.csv')\n",
    "wh_df_new.head()\n"
   ]
  },
  {
   "cell_type": "code",
   "execution_count": 46,
   "metadata": {
    "slideshow": {
     "slide_type": "skip"
    }
   },
   "outputs": [],
   "source": [
    "HappinessScore = wh_df_new['HappinessScore']\n",
    "Generosity = wh_df_new.Generosity"
   ]
  },
  {
   "cell_type": "code",
   "execution_count": 47,
   "metadata": {
    "slideshow": {
     "slide_type": "skip"
    }
   },
   "outputs": [],
   "source": [
    "trace = go.Scatter(\n",
    "    x = HappinessScore,\n",
    "    y = Generosity,\n",
    "    mode = 'markers',\n",
    "    marker = dict(\n",
    "        color = '#FFBAD2',\n",
    "        line = dict(width = 1)\n",
    "    )\n",
    ")\n"
   ]
  },
  {
   "cell_type": "code",
   "execution_count": 48,
   "metadata": {
    "slideshow": {
     "slide_type": "slide"
    }
   },
   "outputs": [
    {
     "name": "stderr",
     "output_type": "stream",
     "text": [
      "/anaconda3/lib/python3.6/site-packages/plotly/graph_objs/_deprecations.py:39: DeprecationWarning:\n",
      "\n",
      "plotly.graph_objs.Data is deprecated.\n",
      "Please replace it with a list or tuple of instances of the following types\n",
      "  - plotly.graph_objs.Scatter\n",
      "  - plotly.graph_objs.Bar\n",
      "  - plotly.graph_objs.Area\n",
      "  - plotly.graph_objs.Histogram\n",
      "  - etc.\n",
      "\n",
      "\n"
     ]
    },
    {
     "data": {
      "application/vnd.plotly.v1+json": {
       "config": {
        "linkText": "Export to plot.ly",
        "plotlyServerURL": "https://plot.ly",
        "showLink": false
       },
       "data": [
        {
         "marker": {
          "color": "#FFBAD2",
          "line": {
           "width": 1
          }
         },
         "mode": "markers",
         "type": "scatter",
         "uid": "ebda78b9-c3c2-4e8f-9553-fa5993591238",
         "x": [
          7.5870000000000015,
          7.561,
          7.527,
          7.522,
          7.427,
          7.4060000000000015,
          7.377999999999999,
          7.364,
          7.286,
          7.284,
          7.278,
          7.226,
          7.2,
          7.187,
          7.119,
          6.983,
          6.9460000000000015,
          6.94,
          6.937,
          6.901,
          6.867000000000001,
          6.853,
          6.81,
          6.797999999999999,
          6.7860000000000005,
          6.75,
          6.67,
          6.6110000000000015,
          6.575,
          6.574,
          6.505,
          6.485,
          6.477,
          6.455,
          6.4110000000000005,
          6.329,
          6.3020000000000005,
          6.297999999999999,
          6.295,
          6.269,
          6.167999999999998,
          6.13,
          6.122999999999998,
          6.002999999999999,
          5.995,
          5.987,
          5.984,
          5.975,
          5.96,
          5.948,
          5.89,
          5.8889999999999985,
          5.877999999999999,
          5.855,
          5.848,
          5.832999999999998,
          5.8279999999999985,
          5.824,
          5.813,
          5.791,
          5.77,
          5.759,
          5.754,
          5.716,
          5.709,
          5.695,
          5.689,
          5.605,
          5.589,
          5.547999999999999,
          5.477,
          5.474,
          5.4289999999999985,
          5.399,
          5.36,
          5.332000000000002,
          5.2860000000000005,
          5.268,
          5.252999999999999,
          5.2120000000000015,
          5.194,
          5.192,
          5.192,
          5.14,
          5.129,
          5.124,
          5.122999999999998,
          5.102,
          5.098,
          5.073,
          5.057,
          5.013,
          5.007,
          4.971,
          4.959,
          4.949,
          4.898,
          4.885,
          4.876,
          4.874,
          4.867,
          4.857,
          4.839,
          4.8,
          4.788,
          4.7860000000000005,
          4.739,
          4.715,
          4.694,
          4.686,
          4.681,
          4.677,
          4.642,
          4.633,
          4.61,
          4.5710000000000015,
          4.565,
          4.55,
          4.518,
          4.517,
          4.5139999999999985,
          4.512,
          4.507,
          4.436,
          4.419,
          4.369,
          4.35,
          4.332,
          4.307,
          4.297,
          4.292,
          4.271,
          4.252,
          4.218,
          4.194,
          4.077,
          4.033,
          3.995,
          3.989,
          3.956,
          3.931,
          3.904,
          3.896,
          3.845,
          3.819,
          3.781,
          3.681,
          3.678,
          3.667,
          3.656,
          3.655,
          3.587,
          3.575,
          3.465,
          3.34,
          3.006,
          2.905,
          2.839,
          7.526,
          7.508999999999999,
          7.501,
          7.497999999999998,
          7.4129999999999985,
          7.404,
          7.338999999999999,
          7.334,
          7.313,
          7.291,
          7.267,
          7.119,
          7.104,
          7.0870000000000015,
          7.039,
          6.994,
          6.952000000000001,
          6.9289999999999985,
          6.907,
          6.871,
          6.778,
          6.739,
          6.725,
          6.705,
          6.7010000000000005,
          6.65,
          6.596,
          6.573,
          6.545,
          6.488,
          6.481,
          6.478,
          6.474,
          6.379,
          6.379,
          6.375,
          6.3610000000000015,
          6.355,
          6.324,
          6.269,
          6.239,
          6.218,
          6.167999999999998,
          6.084,
          6.0779999999999985,
          6.068,
          6.005,
          5.992000000000001,
          5.987,
          5.977,
          5.976,
          5.956,
          5.921,
          5.919,
          5.897,
          5.856,
          5.835,
          5.835,
          5.822,
          5.813,
          5.8020000000000005,
          5.771,
          5.768,
          5.7429999999999986,
          5.658,
          5.648,
          5.615,
          5.56,
          5.546,
          5.5379999999999985,
          5.528,
          5.517,
          5.51,
          5.488,
          5.457999999999998,
          5.44,
          5.401,
          5.3889999999999985,
          5.314,
          5.303,
          5.291,
          5.279,
          5.245,
          5.1960000000000015,
          5.185,
          5.1770000000000005,
          5.1629999999999985,
          5.1610000000000005,
          5.155,
          5.151,
          5.145,
          5.1320000000000014,
          5.129,
          5.122999999999998,
          5.121,
          5.061,
          5.057,
          5.045,
          5.033,
          4.996,
          4.907,
          4.876,
          4.875,
          4.871,
          4.813,
          4.795,
          4.793,
          4.754,
          4.655,
          4.643,
          4.635,
          4.575,
          4.574,
          4.513,
          4.508,
          4.459,
          4.415,
          4.404,
          4.395,
          4.362,
          4.36,
          4.356,
          4.324,
          4.276,
          4.272,
          4.252,
          4.2360000000000015,
          4.2189999999999985,
          4.217,
          4.2010000000000005,
          4.1930000000000005,
          4.1560000000000015,
          4.1389999999999985,
          4.121,
          4.073,
          4.0280000000000005,
          3.974,
          3.956,
          3.916,
          3.907,
          3.866,
          3.856,
          3.832,
          3.763,
          3.739,
          3.739,
          3.724,
          3.695,
          3.666,
          3.622,
          3.607,
          3.515,
          3.484,
          3.36,
          3.303,
          3.069,
          2.905
         ],
         "y": [
          0.29678000000000004,
          0.4363,
          0.34139,
          0.34699,
          0.45811,
          0.23351,
          0.4761,
          0.36262,
          0.47501,
          0.43562,
          0.33172,
          0.25497,
          0.33088,
          0.14074,
          0.40105,
          0.14574,
          0.28034000000000003,
          0.45901,
          0.2225,
          0.26428,
          0.51912,
          0.21542,
          0.05841,
          0.31105,
          0.24434,
          0.28214,
          0.33363000000000004,
          0.32573,
          0.12332,
          0.11451,
          0.10686,
          0.2324,
          0.18401,
          0.5763,
          0.13706,
          0.18227,
          0.51752,
          0.25376,
          0.16228,
          0.16990999999999998,
          0.31844,
          0.10692,
          0.27489,
          0.22837,
          0.16893,
          0.10705,
          0.18557,
          0.11540999999999997,
          0.17362,
          0.22823,
          0.20536,
          0.20951,
          0.3424,
          0.11827,
          0.25328,
          0.026410000000000003,
          0.27815,
          0.14982,
          0.11046,
          0.16759000000000002,
          0.33075,
          0.05444,
          0.18295,
          0.00199,
          0.2123,
          0.26169000000000003,
          0.30638000000000004,
          0.07822,
          0.2831,
          0.16979,
          0.37744,
          0.39478,
          0.0868,
          0.51535,
          0.1686,
          0.12253,
          0.3003,
          0.27233,
          0.47998,
          0.07799,
          0.33671,
          0.11053,
          0.1614,
          0.08185,
          0.19591,
          0.13748,
          0.19231,
          0.13719,
          0.18226,
          0.24991,
          0.5031800000000001,
          0.07172,
          0.22359,
          0.22269,
          0.14272,
          0.24808,
          0.16388,
          0.21684,
          0.42192,
          0.3323,
          0.18259,
          0,
          0.21854,
          0.128,
          0.23027,
          0.22974,
          0.06431,
          0.11251,
          0.21222,
          0.38086,
          0.15275,
          0.17922000000000002,
          0.11973,
          0.23087,
          0.18987,
          0.24362,
          0.26475,
          0.19062,
          0.46187,
          0.24834,
          0.32296,
          0.24325,
          0.21488,
          0.219,
          0.37542,
          0.18093,
          0.07855,
          0.10461,
          0.79588,
          0.055470000000000005,
          0.33128,
          0.40828,
          0.20618000000000006,
          0.11921,
          0.11291,
          0.09131,
          0.12344,
          0.18798,
          0.12388,
          0.17440999999999998,
          0.29066,
          0.20843000000000006,
          0.06822,
          0.19387,
          0.40359,
          0.34377,
          0.21333,
          0.23835,
          0.18386,
          0.28657,
          0.20165,
          0.21747,
          0.3651,
          0.22628,
          0.1826,
          0.47179,
          0.19727,
          0.16681,
          0.36171,
          0.28083,
          0.47678,
          0.37895,
          0.25492,
          0.44834,
          0.47416,
          0.4940100000000001,
          0.47407,
          0.38254,
          0.32288,
          0.32865,
          0.41077,
          0.22553,
          0.22202,
          0.30452,
          0.15775999999999998,
          0.2424,
          0.44963,
          0.27571,
          0.11735,
          0.32706,
          0.50156,
          0.31595,
          0.2418,
          0.10989000000000003,
          0.09929,
          0.26591,
          0.18056,
          0.56237,
          0.15625999999999998,
          0.1216,
          0.58696,
          0.15457,
          0.25495,
          0.32388,
          0.17665,
          0.07044,
          0.28808,
          0.16665,
          0.15965,
          0.17147,
          0.31935,
          0.0425,
          0.13837,
          0.08877,
          0.41474,
          0.29773,
          0.34326,
          0.16684000000000002,
          0.10074,
          0.23684,
          0.10224,
          0.15011,
          0.19997,
          0.02736,
          0.14443,
          0.18824,
          0.21698,
          0.02025,
          0.13942000000000002,
          0.26322,
          0.25738,
          0.14527,
          0.22567,
          0.36951,
          0.17087,
          0.17445,
          0.27906,
          0.25296,
          0.12889,
          0.08423,
          0.22245,
          0.18434,
          0.40097,
          0.27225,
          0.27992,
          0.04707,
          0.56521,
          0.14262,
          0.0564,
          0.21674,
          0.04959,
          0.4854600000000001,
          0.38432,
          0.20737,
          0.29889,
          0.17190999999999998,
          0.21286,
          0.04053,
          0.099,
          0.31185,
          0.23693000000000006,
          0.11691,
          0.23507,
          0.25075,
          0.51479,
          0.03936,
          0,
          0.25998000000000004,
          0.34539000000000003,
          0.43079,
          0.23219,
          0.2044,
          0.38538,
          0.17866,
          0.3816,
          0.11154,
          0.1684,
          0.19132,
          0.23897,
          0.19589,
          0.07795,
          0.2268,
          0.29522,
          0.13656,
          0.46978,
          0.25028,
          0.81971,
          0.12705999999999998,
          0.07793,
          0.41328,
          0.20363,
          0.21203,
          0.25458000000000003,
          0.06786,
          0.12077,
          0.19103,
          0.12793,
          0.22686,
          0.18503,
          0.30968,
          0.18077,
          0.06244,
          0.21064,
          0.47958,
          0.12425,
          0.1827,
          0.20338,
          0.40339,
          0.12070999999999997,
          0.2097,
          0.25899,
          0.18667,
          0.24353,
          0.27102,
          0.09821,
          0.2204,
          0.31472,
          0.24063,
          0.29914,
          0.23552,
          0.2018,
          0.31268,
          0.17517,
          0.48397,
          0.2029
         ]
        }
       ],
       "layout": {
        "title": {
         "text": "How Generosity affects World Happiness Score?"
        },
        "xaxis": {
         "title": {
          "text": "Happiness Score"
         }
        },
        "yaxis": {
         "title": {
          "text": "Generosity"
         }
        }
       }
      },
      "text/html": [
       "<div id=\"2e5c8d72-8a25-41a2-bff7-9aab91401216\" style=\"height: 525px; width: 100%;\" class=\"plotly-graph-div\"></div><script type=\"text/javascript\">require([\"plotly\"], function(Plotly) { window.PLOTLYENV=window.PLOTLYENV || {};window.PLOTLYENV.BASE_URL=\"https://plot.ly\";\n",
       "if (document.getElementById(\"2e5c8d72-8a25-41a2-bff7-9aab91401216\")) {\n",
       "    Plotly.newPlot(\"2e5c8d72-8a25-41a2-bff7-9aab91401216\", [{\"marker\": {\"color\": \"#FFBAD2\", \"line\": {\"width\": 1}}, \"mode\": \"markers\", \"x\": [7.5870000000000015, 7.561, 7.527, 7.522, 7.427, 7.4060000000000015, 7.377999999999999, 7.364, 7.286, 7.284, 7.278, 7.226, 7.2, 7.187, 7.119, 6.983, 6.9460000000000015, 6.94, 6.937, 6.901, 6.867000000000001, 6.853, 6.81, 6.797999999999999, 6.7860000000000005, 6.75, 6.67, 6.6110000000000015, 6.575, 6.574, 6.505, 6.485, 6.477, 6.455, 6.4110000000000005, 6.329, 6.3020000000000005, 6.297999999999999, 6.295, 6.269, 6.167999999999998, 6.13, 6.122999999999998, 6.002999999999999, 5.995, 5.987, 5.984, 5.975, 5.96, 5.948, 5.89, 5.8889999999999985, 5.877999999999999, 5.855, 5.848, 5.832999999999998, 5.8279999999999985, 5.824, 5.813, 5.791, 5.77, 5.759, 5.754, 5.716, 5.709, 5.695, 5.689, 5.605, 5.589, 5.547999999999999, 5.477, 5.474, 5.4289999999999985, 5.399, 5.36, 5.332000000000002, 5.2860000000000005, 5.268, 5.252999999999999, 5.2120000000000015, 5.194, 5.192, 5.192, 5.14, 5.129, 5.124, 5.122999999999998, 5.102, 5.098, 5.073, 5.057, 5.013, 5.007, 4.971, 4.959, 4.949, 4.898, 4.885, 4.876, 4.874, 4.867, 4.857, 4.839, 4.8, 4.788, 4.7860000000000005, 4.739, 4.715, 4.694, 4.686, 4.681, 4.677, 4.642, 4.633, 4.61, 4.5710000000000015, 4.565, 4.55, 4.518, 4.517, 4.5139999999999985, 4.512, 4.507, 4.436, 4.419, 4.369, 4.35, 4.332, 4.307, 4.297, 4.292, 4.271, 4.252, 4.218, 4.194, 4.077, 4.033, 3.995, 3.989, 3.956, 3.931, 3.904, 3.896, 3.845, 3.819, 3.781, 3.681, 3.678, 3.667, 3.656, 3.655, 3.587, 3.575, 3.465, 3.34, 3.006, 2.905, 2.839, 7.526, 7.508999999999999, 7.501, 7.497999999999998, 7.4129999999999985, 7.404, 7.338999999999999, 7.334, 7.313, 7.291, 7.267, 7.119, 7.104, 7.0870000000000015, 7.039, 6.994, 6.952000000000001, 6.9289999999999985, 6.907, 6.871, 6.778, 6.739, 6.725, 6.705, 6.7010000000000005, 6.65, 6.596, 6.573, 6.545, 6.488, 6.481, 6.478, 6.474, 6.379, 6.379, 6.375, 6.3610000000000015, 6.355, 6.324, 6.269, 6.239, 6.218, 6.167999999999998, 6.084, 6.0779999999999985, 6.068, 6.005, 5.992000000000001, 5.987, 5.977, 5.976, 5.956, 5.921, 5.919, 5.897, 5.856, 5.835, 5.835, 5.822, 5.813, 5.8020000000000005, 5.771, 5.768, 5.7429999999999986, 5.658, 5.648, 5.615, 5.56, 5.546, 5.5379999999999985, 5.528, 5.517, 5.51, 5.488, 5.457999999999998, 5.44, 5.401, 5.3889999999999985, 5.314, 5.303, 5.291, 5.279, 5.245, 5.1960000000000015, 5.185, 5.1770000000000005, 5.1629999999999985, 5.1610000000000005, 5.155, 5.151, 5.145, 5.1320000000000014, 5.129, 5.122999999999998, 5.121, 5.061, 5.057, 5.045, 5.033, 4.996, 4.907, 4.876, 4.875, 4.871, 4.813, 4.795, 4.793, 4.754, 4.655, 4.643, 4.635, 4.575, 4.574, 4.513, 4.508, 4.459, 4.415, 4.404, 4.395, 4.362, 4.36, 4.356, 4.324, 4.276, 4.272, 4.252, 4.2360000000000015, 4.2189999999999985, 4.217, 4.2010000000000005, 4.1930000000000005, 4.1560000000000015, 4.1389999999999985, 4.121, 4.073, 4.0280000000000005, 3.974, 3.956, 3.916, 3.907, 3.866, 3.856, 3.832, 3.763, 3.739, 3.739, 3.724, 3.695, 3.666, 3.622, 3.607, 3.515, 3.484, 3.36, 3.303, 3.069, 2.905], \"y\": [0.29678000000000004, 0.4363, 0.34139, 0.34699, 0.45811, 0.23351, 0.4761, 0.36262, 0.47501, 0.43562, 0.33172, 0.25497, 0.33088, 0.14074, 0.40105, 0.14574, 0.28034000000000003, 0.45901, 0.2225, 0.26428, 0.51912, 0.21542, 0.05841, 0.31105, 0.24434, 0.28214, 0.33363000000000004, 0.32573, 0.12332, 0.11451, 0.10686, 0.2324, 0.18401, 0.5763, 0.13706, 0.18227, 0.51752, 0.25376, 0.16228, 0.16990999999999998, 0.31844, 0.10692, 0.27489, 0.22837, 0.16893, 0.10705, 0.18557, 0.11540999999999997, 0.17362, 0.22823, 0.20536, 0.20951, 0.3424, 0.11827, 0.25328, 0.026410000000000003, 0.27815, 0.14982, 0.11046, 0.16759000000000002, 0.33075, 0.05444, 0.18295, 0.00199, 0.2123, 0.26169000000000003, 0.30638000000000004, 0.07822, 0.2831, 0.16979, 0.37744, 0.39478, 0.0868, 0.51535, 0.1686, 0.12253, 0.3003, 0.27233, 0.47998, 0.07799, 0.33671, 0.11053, 0.1614, 0.08185, 0.19591, 0.13748, 0.19231, 0.13719, 0.18226, 0.24991, 0.5031800000000001, 0.07172, 0.22359, 0.22269, 0.14272, 0.24808, 0.16388, 0.21684, 0.42192, 0.3323, 0.18259, 0.0, 0.21854, 0.128, 0.23027, 0.22974, 0.06431, 0.11251, 0.21222, 0.38086, 0.15275, 0.17922000000000002, 0.11973, 0.23087, 0.18987, 0.24362, 0.26475, 0.19062, 0.46187, 0.24834, 0.32296, 0.24325, 0.21488, 0.219, 0.37542, 0.18093, 0.07855, 0.10461, 0.79588, 0.055470000000000005, 0.33128, 0.40828, 0.20618000000000006, 0.11921, 0.11291, 0.09131, 0.12344, 0.18798, 0.12388, 0.17440999999999998, 0.29066, 0.20843000000000006, 0.06822, 0.19387, 0.40359, 0.34377, 0.21333, 0.23835, 0.18386, 0.28657, 0.20165, 0.21747, 0.3651, 0.22628, 0.1826, 0.47179, 0.19727, 0.16681, 0.36171, 0.28083, 0.47678, 0.37895, 0.25492, 0.44834, 0.47416, 0.4940100000000001, 0.47407, 0.38254, 0.32288, 0.32865, 0.41077, 0.22553, 0.22202, 0.30452, 0.15775999999999998, 0.2424, 0.44963, 0.27571, 0.11735, 0.32706, 0.50156, 0.31595, 0.2418, 0.10989000000000003, 0.09929, 0.26591, 0.18056, 0.56237, 0.15625999999999998, 0.1216, 0.58696, 0.15457, 0.25495, 0.32388, 0.17665, 0.07044, 0.28808, 0.16665, 0.15965, 0.17147, 0.31935, 0.0425, 0.13837, 0.08877, 0.41474, 0.29773, 0.34326, 0.16684000000000002, 0.10074, 0.23684, 0.10224, 0.15011, 0.19997, 0.02736, 0.14443, 0.18824, 0.21698, 0.02025, 0.13942000000000002, 0.26322, 0.25738, 0.14527, 0.22567, 0.36951, 0.17087, 0.17445, 0.27906, 0.25296, 0.12889, 0.08423, 0.22245, 0.18434, 0.40097, 0.27225, 0.27992, 0.04707, 0.56521, 0.14262, 0.0564, 0.21674, 0.04959, 0.4854600000000001, 0.38432, 0.20737, 0.29889, 0.17190999999999998, 0.21286, 0.04053, 0.099, 0.31185, 0.23693000000000006, 0.11691, 0.23507, 0.25075, 0.51479, 0.03936, 0.0, 0.25998000000000004, 0.34539000000000003, 0.43079, 0.23219, 0.2044, 0.38538, 0.17866, 0.3816, 0.11154, 0.1684, 0.19132, 0.23897, 0.19589, 0.07795, 0.2268, 0.29522, 0.13656, 0.46978, 0.25028, 0.81971, 0.12705999999999998, 0.07793, 0.41328, 0.20363, 0.21203, 0.25458000000000003, 0.06786, 0.12077, 0.19103, 0.12793, 0.22686, 0.18503, 0.30968, 0.18077, 0.06244, 0.21064, 0.47958, 0.12425, 0.1827, 0.20338, 0.40339, 0.12070999999999997, 0.2097, 0.25899, 0.18667, 0.24353, 0.27102, 0.09821, 0.2204, 0.31472, 0.24063, 0.29914, 0.23552, 0.2018, 0.31268, 0.17517, 0.48397, 0.2029], \"type\": \"scatter\", \"uid\": \"ebda78b9-c3c2-4e8f-9553-fa5993591238\"}], {\"title\": {\"text\": \"How Generosity affects World Happiness Score?\"}, \"xaxis\": {\"title\": {\"text\": \"Happiness Score\"}}, \"yaxis\": {\"title\": {\"text\": \"Generosity\"}}}, {\"showLink\": false, \"linkText\": \"Export to plot.ly\", \"plotlyServerURL\": \"https://plot.ly\"}); \n",
       "}\n",
       "});</script><script type=\"text/javascript\">window.addEventListener(\"resize\", function(){if (document.getElementById(\"2e5c8d72-8a25-41a2-bff7-9aab91401216\")) {window._Plotly.Plots.resize(document.getElementById(\"2e5c8d72-8a25-41a2-bff7-9aab91401216\"));};})</script>"
      ],
      "text/vnd.plotly.v1+html": [
       "<div id=\"2e5c8d72-8a25-41a2-bff7-9aab91401216\" style=\"height: 525px; width: 100%;\" class=\"plotly-graph-div\"></div><script type=\"text/javascript\">require([\"plotly\"], function(Plotly) { window.PLOTLYENV=window.PLOTLYENV || {};window.PLOTLYENV.BASE_URL=\"https://plot.ly\";\n",
       "if (document.getElementById(\"2e5c8d72-8a25-41a2-bff7-9aab91401216\")) {\n",
       "    Plotly.newPlot(\"2e5c8d72-8a25-41a2-bff7-9aab91401216\", [{\"marker\": {\"color\": \"#FFBAD2\", \"line\": {\"width\": 1}}, \"mode\": \"markers\", \"x\": [7.5870000000000015, 7.561, 7.527, 7.522, 7.427, 7.4060000000000015, 7.377999999999999, 7.364, 7.286, 7.284, 7.278, 7.226, 7.2, 7.187, 7.119, 6.983, 6.9460000000000015, 6.94, 6.937, 6.901, 6.867000000000001, 6.853, 6.81, 6.797999999999999, 6.7860000000000005, 6.75, 6.67, 6.6110000000000015, 6.575, 6.574, 6.505, 6.485, 6.477, 6.455, 6.4110000000000005, 6.329, 6.3020000000000005, 6.297999999999999, 6.295, 6.269, 6.167999999999998, 6.13, 6.122999999999998, 6.002999999999999, 5.995, 5.987, 5.984, 5.975, 5.96, 5.948, 5.89, 5.8889999999999985, 5.877999999999999, 5.855, 5.848, 5.832999999999998, 5.8279999999999985, 5.824, 5.813, 5.791, 5.77, 5.759, 5.754, 5.716, 5.709, 5.695, 5.689, 5.605, 5.589, 5.547999999999999, 5.477, 5.474, 5.4289999999999985, 5.399, 5.36, 5.332000000000002, 5.2860000000000005, 5.268, 5.252999999999999, 5.2120000000000015, 5.194, 5.192, 5.192, 5.14, 5.129, 5.124, 5.122999999999998, 5.102, 5.098, 5.073, 5.057, 5.013, 5.007, 4.971, 4.959, 4.949, 4.898, 4.885, 4.876, 4.874, 4.867, 4.857, 4.839, 4.8, 4.788, 4.7860000000000005, 4.739, 4.715, 4.694, 4.686, 4.681, 4.677, 4.642, 4.633, 4.61, 4.5710000000000015, 4.565, 4.55, 4.518, 4.517, 4.5139999999999985, 4.512, 4.507, 4.436, 4.419, 4.369, 4.35, 4.332, 4.307, 4.297, 4.292, 4.271, 4.252, 4.218, 4.194, 4.077, 4.033, 3.995, 3.989, 3.956, 3.931, 3.904, 3.896, 3.845, 3.819, 3.781, 3.681, 3.678, 3.667, 3.656, 3.655, 3.587, 3.575, 3.465, 3.34, 3.006, 2.905, 2.839, 7.526, 7.508999999999999, 7.501, 7.497999999999998, 7.4129999999999985, 7.404, 7.338999999999999, 7.334, 7.313, 7.291, 7.267, 7.119, 7.104, 7.0870000000000015, 7.039, 6.994, 6.952000000000001, 6.9289999999999985, 6.907, 6.871, 6.778, 6.739, 6.725, 6.705, 6.7010000000000005, 6.65, 6.596, 6.573, 6.545, 6.488, 6.481, 6.478, 6.474, 6.379, 6.379, 6.375, 6.3610000000000015, 6.355, 6.324, 6.269, 6.239, 6.218, 6.167999999999998, 6.084, 6.0779999999999985, 6.068, 6.005, 5.992000000000001, 5.987, 5.977, 5.976, 5.956, 5.921, 5.919, 5.897, 5.856, 5.835, 5.835, 5.822, 5.813, 5.8020000000000005, 5.771, 5.768, 5.7429999999999986, 5.658, 5.648, 5.615, 5.56, 5.546, 5.5379999999999985, 5.528, 5.517, 5.51, 5.488, 5.457999999999998, 5.44, 5.401, 5.3889999999999985, 5.314, 5.303, 5.291, 5.279, 5.245, 5.1960000000000015, 5.185, 5.1770000000000005, 5.1629999999999985, 5.1610000000000005, 5.155, 5.151, 5.145, 5.1320000000000014, 5.129, 5.122999999999998, 5.121, 5.061, 5.057, 5.045, 5.033, 4.996, 4.907, 4.876, 4.875, 4.871, 4.813, 4.795, 4.793, 4.754, 4.655, 4.643, 4.635, 4.575, 4.574, 4.513, 4.508, 4.459, 4.415, 4.404, 4.395, 4.362, 4.36, 4.356, 4.324, 4.276, 4.272, 4.252, 4.2360000000000015, 4.2189999999999985, 4.217, 4.2010000000000005, 4.1930000000000005, 4.1560000000000015, 4.1389999999999985, 4.121, 4.073, 4.0280000000000005, 3.974, 3.956, 3.916, 3.907, 3.866, 3.856, 3.832, 3.763, 3.739, 3.739, 3.724, 3.695, 3.666, 3.622, 3.607, 3.515, 3.484, 3.36, 3.303, 3.069, 2.905], \"y\": [0.29678000000000004, 0.4363, 0.34139, 0.34699, 0.45811, 0.23351, 0.4761, 0.36262, 0.47501, 0.43562, 0.33172, 0.25497, 0.33088, 0.14074, 0.40105, 0.14574, 0.28034000000000003, 0.45901, 0.2225, 0.26428, 0.51912, 0.21542, 0.05841, 0.31105, 0.24434, 0.28214, 0.33363000000000004, 0.32573, 0.12332, 0.11451, 0.10686, 0.2324, 0.18401, 0.5763, 0.13706, 0.18227, 0.51752, 0.25376, 0.16228, 0.16990999999999998, 0.31844, 0.10692, 0.27489, 0.22837, 0.16893, 0.10705, 0.18557, 0.11540999999999997, 0.17362, 0.22823, 0.20536, 0.20951, 0.3424, 0.11827, 0.25328, 0.026410000000000003, 0.27815, 0.14982, 0.11046, 0.16759000000000002, 0.33075, 0.05444, 0.18295, 0.00199, 0.2123, 0.26169000000000003, 0.30638000000000004, 0.07822, 0.2831, 0.16979, 0.37744, 0.39478, 0.0868, 0.51535, 0.1686, 0.12253, 0.3003, 0.27233, 0.47998, 0.07799, 0.33671, 0.11053, 0.1614, 0.08185, 0.19591, 0.13748, 0.19231, 0.13719, 0.18226, 0.24991, 0.5031800000000001, 0.07172, 0.22359, 0.22269, 0.14272, 0.24808, 0.16388, 0.21684, 0.42192, 0.3323, 0.18259, 0.0, 0.21854, 0.128, 0.23027, 0.22974, 0.06431, 0.11251, 0.21222, 0.38086, 0.15275, 0.17922000000000002, 0.11973, 0.23087, 0.18987, 0.24362, 0.26475, 0.19062, 0.46187, 0.24834, 0.32296, 0.24325, 0.21488, 0.219, 0.37542, 0.18093, 0.07855, 0.10461, 0.79588, 0.055470000000000005, 0.33128, 0.40828, 0.20618000000000006, 0.11921, 0.11291, 0.09131, 0.12344, 0.18798, 0.12388, 0.17440999999999998, 0.29066, 0.20843000000000006, 0.06822, 0.19387, 0.40359, 0.34377, 0.21333, 0.23835, 0.18386, 0.28657, 0.20165, 0.21747, 0.3651, 0.22628, 0.1826, 0.47179, 0.19727, 0.16681, 0.36171, 0.28083, 0.47678, 0.37895, 0.25492, 0.44834, 0.47416, 0.4940100000000001, 0.47407, 0.38254, 0.32288, 0.32865, 0.41077, 0.22553, 0.22202, 0.30452, 0.15775999999999998, 0.2424, 0.44963, 0.27571, 0.11735, 0.32706, 0.50156, 0.31595, 0.2418, 0.10989000000000003, 0.09929, 0.26591, 0.18056, 0.56237, 0.15625999999999998, 0.1216, 0.58696, 0.15457, 0.25495, 0.32388, 0.17665, 0.07044, 0.28808, 0.16665, 0.15965, 0.17147, 0.31935, 0.0425, 0.13837, 0.08877, 0.41474, 0.29773, 0.34326, 0.16684000000000002, 0.10074, 0.23684, 0.10224, 0.15011, 0.19997, 0.02736, 0.14443, 0.18824, 0.21698, 0.02025, 0.13942000000000002, 0.26322, 0.25738, 0.14527, 0.22567, 0.36951, 0.17087, 0.17445, 0.27906, 0.25296, 0.12889, 0.08423, 0.22245, 0.18434, 0.40097, 0.27225, 0.27992, 0.04707, 0.56521, 0.14262, 0.0564, 0.21674, 0.04959, 0.4854600000000001, 0.38432, 0.20737, 0.29889, 0.17190999999999998, 0.21286, 0.04053, 0.099, 0.31185, 0.23693000000000006, 0.11691, 0.23507, 0.25075, 0.51479, 0.03936, 0.0, 0.25998000000000004, 0.34539000000000003, 0.43079, 0.23219, 0.2044, 0.38538, 0.17866, 0.3816, 0.11154, 0.1684, 0.19132, 0.23897, 0.19589, 0.07795, 0.2268, 0.29522, 0.13656, 0.46978, 0.25028, 0.81971, 0.12705999999999998, 0.07793, 0.41328, 0.20363, 0.21203, 0.25458000000000003, 0.06786, 0.12077, 0.19103, 0.12793, 0.22686, 0.18503, 0.30968, 0.18077, 0.06244, 0.21064, 0.47958, 0.12425, 0.1827, 0.20338, 0.40339, 0.12070999999999997, 0.2097, 0.25899, 0.18667, 0.24353, 0.27102, 0.09821, 0.2204, 0.31472, 0.24063, 0.29914, 0.23552, 0.2018, 0.31268, 0.17517, 0.48397, 0.2029], \"type\": \"scatter\", \"uid\": \"ebda78b9-c3c2-4e8f-9553-fa5993591238\"}], {\"title\": {\"text\": \"How Generosity affects World Happiness Score?\"}, \"xaxis\": {\"title\": {\"text\": \"Happiness Score\"}}, \"yaxis\": {\"title\": {\"text\": \"Generosity\"}}}, {\"showLink\": false, \"linkText\": \"Export to plot.ly\", \"plotlyServerURL\": \"https://plot.ly\"}); \n",
       "}\n",
       "});</script><script type=\"text/javascript\">window.addEventListener(\"resize\", function(){if (document.getElementById(\"2e5c8d72-8a25-41a2-bff7-9aab91401216\")) {window._Plotly.Plots.resize(document.getElementById(\"2e5c8d72-8a25-41a2-bff7-9aab91401216\"));};})</script>"
      ]
     },
     "metadata": {},
     "output_type": "display_data"
    }
   ],
   "source": [
    "data = go.Data([trace])\n",
    "layout=go.Layout(title=\"How Generosity affects World Happiness Score?\", xaxis={'title':'Happiness Score'}, yaxis={'title':'Generosity'})\n",
    "figure=go.Figure(data=data,layout=layout)\n",
    "iplot(figure)\n",
    "\n"
   ]
  },
  {
   "cell_type": "code",
   "execution_count": 49,
   "metadata": {
    "slideshow": {
     "slide_type": "skip"
    }
   },
   "outputs": [],
   "source": [
    "dataset = wh_df_new"
   ]
  },
  {
   "cell_type": "code",
   "execution_count": 50,
   "metadata": {
    "slideshow": {
     "slide_type": "skip"
    }
   },
   "outputs": [
    {
     "data": {
      "text/html": [
       "<div>\n",
       "<table border=\"1\" class=\"dataframe\">\n",
       "  <thead>\n",
       "    <tr style=\"text-align: right;\">\n",
       "      <th></th>\n",
       "      <th>Unnamed: 0</th>\n",
       "      <th>Country</th>\n",
       "      <th>Region</th>\n",
       "      <th>HappinessRank</th>\n",
       "      <th>HappinessScore</th>\n",
       "      <th>Economy</th>\n",
       "      <th>Family</th>\n",
       "      <th>health</th>\n",
       "      <th>Freedom</th>\n",
       "      <th>Trust</th>\n",
       "      <th>Generosity</th>\n",
       "      <th>Dystopia Residual</th>\n",
       "      <th>year</th>\n",
       "      <th>WH_class</th>\n",
       "    </tr>\n",
       "  </thead>\n",
       "  <tbody>\n",
       "    <tr>\n",
       "      <th>0</th>\n",
       "      <td>0</td>\n",
       "      <td>Switzerland</td>\n",
       "      <td>Western Europe</td>\n",
       "      <td>1</td>\n",
       "      <td>7587000.0</td>\n",
       "      <td>1.39651</td>\n",
       "      <td>1.34951</td>\n",
       "      <td>94.143</td>\n",
       "      <td>0.66557</td>\n",
       "      <td>0.41978</td>\n",
       "      <td>0.29678</td>\n",
       "      <td>2.51738</td>\n",
       "      <td>2015</td>\n",
       "      <td>High</td>\n",
       "    </tr>\n",
       "    <tr>\n",
       "      <th>1</th>\n",
       "      <td>1</td>\n",
       "      <td>Iceland</td>\n",
       "      <td>Western Europe</td>\n",
       "      <td>2</td>\n",
       "      <td>7561000.0</td>\n",
       "      <td>1.30232</td>\n",
       "      <td>1.40223</td>\n",
       "      <td>94.784</td>\n",
       "      <td>0.62877</td>\n",
       "      <td>0.14145</td>\n",
       "      <td>0.43630</td>\n",
       "      <td>2.70201</td>\n",
       "      <td>2015</td>\n",
       "      <td>High</td>\n",
       "    </tr>\n",
       "    <tr>\n",
       "      <th>2</th>\n",
       "      <td>2</td>\n",
       "      <td>Denmark</td>\n",
       "      <td>Western Europe</td>\n",
       "      <td>3</td>\n",
       "      <td>7527000.0</td>\n",
       "      <td>1.32548</td>\n",
       "      <td>1.36058</td>\n",
       "      <td>87.464</td>\n",
       "      <td>0.64938</td>\n",
       "      <td>0.48357</td>\n",
       "      <td>0.34139</td>\n",
       "      <td>2.49204</td>\n",
       "      <td>2015</td>\n",
       "      <td>High</td>\n",
       "    </tr>\n",
       "    <tr>\n",
       "      <th>3</th>\n",
       "      <td>3</td>\n",
       "      <td>Norway</td>\n",
       "      <td>Western Europe</td>\n",
       "      <td>4</td>\n",
       "      <td>7522000.0</td>\n",
       "      <td>1.45900</td>\n",
       "      <td>1.33095</td>\n",
       "      <td>88.521</td>\n",
       "      <td>0.66973</td>\n",
       "      <td>0.36503</td>\n",
       "      <td>0.34699</td>\n",
       "      <td>2.46531</td>\n",
       "      <td>2015</td>\n",
       "      <td>High</td>\n",
       "    </tr>\n",
       "    <tr>\n",
       "      <th>4</th>\n",
       "      <td>4</td>\n",
       "      <td>Canada</td>\n",
       "      <td>North America</td>\n",
       "      <td>5</td>\n",
       "      <td>7427000.0</td>\n",
       "      <td>1.32629</td>\n",
       "      <td>1.32261</td>\n",
       "      <td>90.563</td>\n",
       "      <td>0.63297</td>\n",
       "      <td>0.32957</td>\n",
       "      <td>0.45811</td>\n",
       "      <td>2.45176</td>\n",
       "      <td>2015</td>\n",
       "      <td>High</td>\n",
       "    </tr>\n",
       "  </tbody>\n",
       "</table>\n",
       "</div>"
      ],
      "text/plain": [
       "   Unnamed: 0      Country          Region  HappinessRank  HappinessScore  \\\n",
       "0           0  Switzerland  Western Europe              1       7587000.0   \n",
       "1           1      Iceland  Western Europe              2       7561000.0   \n",
       "2           2      Denmark  Western Europe              3       7527000.0   \n",
       "3           3       Norway  Western Europe              4       7522000.0   \n",
       "4           4       Canada   North America              5       7427000.0   \n",
       "\n",
       "   Economy   Family  health  Freedom    Trust  Generosity  Dystopia Residual  \\\n",
       "0  1.39651  1.34951  94.143  0.66557  0.41978     0.29678            2.51738   \n",
       "1  1.30232  1.40223  94.784  0.62877  0.14145     0.43630            2.70201   \n",
       "2  1.32548  1.36058  87.464  0.64938  0.48357     0.34139            2.49204   \n",
       "3  1.45900  1.33095  88.521  0.66973  0.36503     0.34699            2.46531   \n",
       "4  1.32629  1.32261  90.563  0.63297  0.32957     0.45811            2.45176   \n",
       "\n",
       "   year WH_class  \n",
       "0  2015     High  \n",
       "1  2015     High  \n",
       "2  2015     High  \n",
       "3  2015     High  \n",
       "4  2015     High  "
      ]
     },
     "execution_count": 50,
     "metadata": {},
     "output_type": "execute_result"
    }
   ],
   "source": [
    "#for viz purpose only (make sure that the numbers are not above 1M, 1H, 1H)\n",
    "dataset['HappinessScore'] = dataset['HappinessScore']*1000000\n",
    "dataset['health']=dataset['health']*100\n",
    "dataset.head()"
   ]
  },
  {
   "cell_type": "code",
   "execution_count": 51,
   "metadata": {
    "slideshow": {
     "slide_type": "skip"
    }
   },
   "outputs": [],
   "source": [
    "del dataset['Unnamed: 0']"
   ]
  },
  {
   "cell_type": "code",
   "execution_count": 52,
   "metadata": {
    "slideshow": {
     "slide_type": "slide"
    }
   },
   "outputs": [
    {
     "data": {
      "text/html": [
       "<h1>Does Health threaten Happiness??</h1>"
      ],
      "text/plain": [
       "<IPython.core.display.HTML object>"
      ]
     },
     "execution_count": 52,
     "metadata": {},
     "output_type": "execute_result"
    }
   ],
   "source": [
    "HTML('''<h1>Does Health threaten Happiness??</h1>''')"
   ]
  },
  {
   "cell_type": "code",
   "execution_count": 53,
   "metadata": {
    "slideshow": {
     "slide_type": "slide"
    }
   },
   "outputs": [
    {
     "data": {
      "text/html": [
       "<script type=\"text/javascript\">window.PlotlyConfig = {MathJaxConfig: 'local'};</script><script type=\"text/javascript\">if (window.MathJax) {MathJax.Hub.Config({SVG: {font: \"STIX-Web\"}});}</script><script>requirejs.config({paths: { 'plotly': ['https://cdn.plot.ly/plotly-latest.min']},});if(!window._Plotly) {require(['plotly'],function(plotly) {window._Plotly=plotly;});}</script>"
      ],
      "text/vnd.plotly.v1+html": [
       "<script type=\"text/javascript\">window.PlotlyConfig = {MathJaxConfig: 'local'};</script><script type=\"text/javascript\">if (window.MathJax) {MathJax.Hub.Config({SVG: {font: \"STIX-Web\"}});}</script><script>requirejs.config({paths: { 'plotly': ['https://cdn.plot.ly/plotly-latest.min']},});if(!window._Plotly) {require(['plotly'],function(plotly) {window._Plotly=plotly;});}</script>"
      ]
     },
     "metadata": {},
     "output_type": "display_data"
    },
    {
     "data": {
      "application/vnd.plotly.v1+json": {
       "config": {
        "linkText": "Export to plot.ly",
        "plotlyServerURL": "https://plot.ly",
        "showLink": false
       },
       "data": [
        {
         "marker": {
          "size": [],
          "sizemode": "area",
          "sizeref": 200000
         },
         "mode": "markers",
         "name": "Western Europe",
         "text": [],
         "type": "scatter",
         "uid": "820f5b89-7d34-412a-9d7b-258cf66f342a",
         "x": [],
         "y": []
        },
        {
         "marker": {
          "size": [],
          "sizemode": "area",
          "sizeref": 200000
         },
         "mode": "markers",
         "name": "North America",
         "text": [],
         "type": "scatter",
         "uid": "518b26a9-75e1-4af2-97a2-8f07165d947d",
         "x": [],
         "y": []
        },
        {
         "marker": {
          "size": [],
          "sizemode": "area",
          "sizeref": 200000
         },
         "mode": "markers",
         "name": "Australia and New Zealand",
         "text": [],
         "type": "scatter",
         "uid": "598f0d8a-921b-4ae6-a51b-577b9dc60f6a",
         "x": [],
         "y": []
        },
        {
         "marker": {
          "size": [],
          "sizemode": "area",
          "sizeref": 200000
         },
         "mode": "markers",
         "name": "Middle East and Northern Africa",
         "text": [],
         "type": "scatter",
         "uid": "c0e95279-7347-4b50-a1e1-4e9e7f719990",
         "x": [],
         "y": []
        },
        {
         "marker": {
          "size": [],
          "sizemode": "area",
          "sizeref": 200000
         },
         "mode": "markers",
         "name": "Latin America and Caribbean",
         "text": [],
         "type": "scatter",
         "uid": "305cbca3-0c2e-41d2-854a-1f72a549f7b6",
         "x": [],
         "y": []
        },
        {
         "marker": {
          "size": [],
          "sizemode": "area",
          "sizeref": 200000
         },
         "mode": "markers",
         "name": "Southeastern Asia",
         "text": [],
         "type": "scatter",
         "uid": "44352b03-91cd-42cc-b52e-683231ae5ef0",
         "x": [],
         "y": []
        },
        {
         "marker": {
          "size": [],
          "sizemode": "area",
          "sizeref": 200000
         },
         "mode": "markers",
         "name": "Central and Eastern Europe",
         "text": [],
         "type": "scatter",
         "uid": "7c2b63cb-18e0-4d32-8264-f28a7965c0fc",
         "x": [],
         "y": []
        },
        {
         "marker": {
          "size": [],
          "sizemode": "area",
          "sizeref": 200000
         },
         "mode": "markers",
         "name": "Eastern Asia",
         "text": [],
         "type": "scatter",
         "uid": "1cf72bfa-16da-4cee-bc72-adab163a641f",
         "x": [],
         "y": []
        },
        {
         "marker": {
          "size": [],
          "sizemode": "area",
          "sizeref": 200000
         },
         "mode": "markers",
         "name": "Sub-Saharan Africa",
         "text": [],
         "type": "scatter",
         "uid": "16fa5f06-ca44-4637-8de2-d1113ad1158e",
         "x": [],
         "y": []
        },
        {
         "marker": {
          "size": [],
          "sizemode": "area",
          "sizeref": 200000
         },
         "mode": "markers",
         "name": "Southern Asia",
         "text": [],
         "type": "scatter",
         "uid": "0fc4c706-64e0-44ab-8fb7-aa88ed78235c",
         "x": [],
         "y": []
        }
       ],
       "frames": [
        {
         "data": [
          {
           "marker": {
            "size": [
             7587000.000000002,
             7561000,
             7527000,
             7522000,
             7406000.000000002,
             7377999.999999999,
             7364000,
             7200000,
             6946000.000000002,
             6940000,
             6937000,
             6867000.000000001,
             6750000,
             6575000,
             6329000,
             6302000.000000001,
             5948000,
             5695000,
             5689000,
             5102000,
             4857000
            ],
            "sizemode": "area",
            "sizeref": 200000
           },
           "mode": "markers",
           "name": "Western Europe",
           "text": [
            "Switzerland",
            "Iceland",
            "Denmark",
            "Norway",
            "Finland",
            "Netherlands",
            "Sweden",
            "Austria",
            "Luxembourg",
            "Ireland",
            "Belgium",
            "United Kingdom",
            "Germany",
            "France",
            "Spain",
            "Malta",
            "Italy",
            "North Cyprus",
            "Cyprus",
            "Portugal",
            "Greece"
           ],
           "type": "scatter",
           "x": [
            94.143,
            94.784,
            87.464,
            88.521,
            88.911,
            89.28399999999999,
            91.08699999999999,
            89.04200000000002,
            91.89399999999999,
            89.533,
            89.667,
            90.943,
            89.18599999999999,
            94.57900000000001,
            95.562,
            88.721,
            95.446,
            92.35600000000001,
            92.35600000000001,
            87.51899999999999,
            88.213
           ],
           "y": [
            7587000.000000002,
            7561000,
            7527000,
            7522000,
            7406000.000000002,
            7377999.999999999,
            7364000,
            7200000,
            6946000.000000002,
            6940000,
            6937000,
            6867000.000000001,
            6750000,
            6575000,
            6329000,
            6302000.000000001,
            5948000,
            5695000,
            5689000,
            5102000,
            4857000
           ]
          },
          {
           "marker": {
            "size": [
             7427000,
             7119000
            ],
            "sizemode": "area",
            "sizeref": 200000
           },
           "mode": "markers",
           "name": "North America",
           "text": [
            "Canada",
            "United States"
           ],
           "type": "scatter",
           "x": [
            90.563,
            86.17899999999999
           ],
           "y": [
            7427000,
            7119000
           ]
          },
          {
           "marker": {
            "size": [
             7286000,
             7284000
            ],
            "sizemode": "area",
            "sizeref": 200000
           },
           "mode": "markers",
           "name": "Australia and New Zealand",
           "text": [
            "New Zealand",
            "Australia"
           ],
           "type": "scatter",
           "x": [
            90.837,
            93.156
           ],
           "y": [
            7286000,
            7284000
           ]
          },
          {
           "marker": {
            "size": [
             7278000,
             6901000,
             6853000,
             6611000.000000002,
             6411000.000000001,
             6295000,
             5960000,
             5754000,
             5605000,
             5332000.000000002,
             5192000,
             5013000,
             4839000,
             4739000,
             4715000,
             4686000,
             4677000,
             4194000,
             4077000,
             3006000
            ],
            "sizemode": "area",
            "sizeref": 200000
           },
           "mode": "markers",
           "name": "Middle East and Northern Africa",
           "text": [
            "Israel",
            "United Arab Emirates",
            "Oman",
            "Qatar",
            "Saudi Arabia",
            "Kuwait",
            "Bahrain",
            "Libya",
            "Algeria",
            "Turkey",
            "Jordan",
            "Morocco",
            "Lebanon",
            "Tunisia",
            "Palestinian Territories",
            "Iran",
            "Iraq",
            "Egypt",
            "Yemen",
            "Syria"
           ],
           "type": "scatter",
           "x": [
            91.387,
            80.925,
            76.276,
            79.733,
            72.02499999999999,
            72.492,
            74.71600000000001,
            70.38,
            61.766,
            73.172,
            69.639,
            60.95399999999999,
            83.947,
            73.79299999999999,
            66.015,
            69.80499999999999,
            60.236999999999995,
            61.712,
            40.064,
            72.19300000000001
           ],
           "y": [
            7278000,
            6901000,
            6853000,
            6611000.000000002,
            6411000.000000001,
            6295000,
            5960000,
            5754000,
            5605000,
            5332000.000000002,
            5192000,
            5013000,
            4839000,
            4739000,
            4715000,
            4686000,
            4677000,
            4194000,
            4077000,
            3006000
           ]
          },
          {
           "marker": {
            "size": [
             7226000,
             7187000,
             6983000,
             6810000,
             6786000.000000001,
             6670000,
             6574000,
             6485000,
             6477000,
             6269000,
             6167999.999999998,
             6130000,
             6122999.999999998,
             5975000,
             5890000,
             5877999.999999999,
             5827999.999999998,
             5824000,
             5709000,
             4885000,
             4788000,
             4518000
            ],
            "sizemode": "area",
            "sizeref": 200000
           },
           "mode": "markers",
           "name": "Latin America and Caribbean",
           "text": [
            "Costa Rica",
            "Mexico",
            "Brazil",
            "Venezuela",
            "Panama",
            "Chile",
            "Argentina",
            "Uruguay",
            "Colombia",
            "Suriname",
            "Trinidad and Tobago",
            "El Salvador",
            "Guatemala",
            "Ecuador",
            "Bolivia",
            "Paraguay",
            "Nicaragua",
            "Peru",
            "Jamaica",
            "Dominican Republic",
            "Honduras",
            "Haiti"
           ],
           "type": "scatter",
           "x": [
            86.02700000000002,
            81.44399999999999,
            69.702,
            72.05199999999999,
            79.661,
            85.857,
            78.723,
            81.16,
            69.077,
            60.81999999999999,
            61.483,
            67.73700000000001,
            64.425,
            79.07499999999999,
            53.92,
            66.098,
            74.314,
            73.017,
            68.74100000000001,
            66.825,
            69.51,
            38.847
           ],
           "y": [
            7226000,
            7187000,
            6983000,
            6810000,
            6786000.000000001,
            6670000,
            6574000,
            6485000,
            6477000,
            6269000,
            6167999.999999998,
            6130000,
            6122999.999999998,
            5975000,
            5890000,
            5877999.999999999,
            5827999.999999998,
            5824000,
            5709000,
            4885000,
            4788000,
            4518000
           ]
          },
          {
           "marker": {
            "size": [
             6797999.999999999,
             6455000,
             5770000,
             5399000,
             5360000,
             5073000,
             4876000,
             4307000,
             3819000
            ],
            "sizemode": "area",
            "sizeref": 200000
           },
           "mode": "markers",
           "name": "Southeastern Asia",
           "text": [
            "Singapore",
            "Thailand",
            "Malaysia",
            "Indonesia",
            "Vietnam",
            "Philippines",
            "Laos",
            "Myanmar",
            "Cambodia"
           ],
           "type": "scatter",
           "x": [
            102.525,
            73.85000000000001,
            72.39399999999999,
            63.793,
            74.67600000000002,
            58.114,
            54.909,
            48.24600000000001,
            61.114000000000004
           ],
           "y": [
            6797999.999999999,
            6455000,
            5770000,
            5399000,
            5360000,
            5073000,
            4876000,
            4307000,
            3819000
           ]
          },
          {
           "marker": {
            "size": [
             6505000,
             6002999.999999999,
             5995000,
             5888999.999999998,
             5855000,
             5848000,
             5832999.999999998,
             5813000,
             5791000,
             5759000,
             5716000,
             5589000,
             5547999.999999999,
             5428999.999999998,
             5286000.000000001,
             5212000.000000002,
             5192000,
             5124000,
             5122999.999999998,
             5098000,
             5007000,
             4959000,
             4949000,
             4800000,
             4786000.000000001,
             4681000,
             4350000,
             4297000,
             4218000
            ],
            "sizemode": "area",
            "sizeref": 200000
           },
           "mode": "markers",
           "name": "Central and Eastern Europe",
           "text": [
            "Czech Republic",
            "Uzbekistan",
            "Slovakia",
            "Moldova",
            "Kazakhstan",
            "Slovenia",
            "Lithuania",
            "Belarus",
            "Poland",
            "Croatia",
            "Russia",
            "Kosovo",
            "Turkmenistan",
            "Estonia",
            "Kyrgyzstan",
            "Azerbaijan",
            "Montenegro",
            "Romania",
            "Serbia",
            "Latvia",
            "Macedonia",
            "Albania",
            "Bosnia and Herzegovina",
            "Hungary",
            "Tajikistan",
            "Ukraine",
            "Armenia",
            "Georgia",
            "Bulgaria"
           ],
           "type": "scatter",
           "x": [
            84.483,
            59.772000000000006,
            78.902,
            61.826,
            64.36800000000001,
            87.337,
            73.128,
            73.608,
            77.903,
            78.805,
            66.926,
            63.132,
            53.886,
            77.361,
            65.08800000000001,
            64.045,
            72.521,
            76.89,
            74.836,
            72.437,
            73.545,
            81.325,
            79.081,
            75.905,
            57.37899999999999,
            67.39,
            72.99,
            72.926,
            76.649
           ],
           "y": [
            6505000,
            6002999.999999999,
            5995000,
            5888999.999999998,
            5855000,
            5848000,
            5832999.999999998,
            5813000,
            5791000,
            5759000,
            5716000,
            5589000,
            5547999.999999999,
            5428999.999999998,
            5286000.000000001,
            5212000.000000002,
            5192000,
            5124000,
            5122999.999999998,
            5098000,
            5007000,
            4959000,
            4949000,
            4800000,
            4786000.000000001,
            4681000,
            4350000,
            4297000,
            4218000
           ]
          },
          {
           "marker": {
            "size": [
             6297999.999999999,
             5987000,
             5984000,
             5474000,
             5140000,
             4874000
            ],
            "sizemode": "area",
            "sizeref": 200000
           },
           "mode": "markers",
           "name": "Eastern Asia",
           "text": [
            "Taiwan",
            "Japan",
            "South Korea",
            "Hong Kong",
            "China",
            "Mongolia"
           ],
           "type": "scatter",
           "x": [
            87.53,
            99.111,
            96.538,
            101.328,
            81.658,
            60.268
           ],
           "y": [
            6297999.999999999,
            5987000,
            5984000,
            5474000,
            5140000,
            4874000
           ]
          },
          {
           "marker": {
            "size": [
             5477000,
             5268000,
             5129000,
             5057000,
             4971000,
             4898000,
             4867000,
             4642000,
             4633000,
             4610000,
             4571000.000000002,
             4550000,
             4517000,
             4512000,
             4507000,
             4436000,
             4419000,
             4369000,
             4332000,
             4292000,
             4252000,
             4033000.0000000005,
             3995000,
             3989000,
             3956000,
             3931000,
             3904000,
             3896000,
             3845000,
             3781000,
             3681000,
             3678000,
             3667000,
             3656000,
             3655000,
             3587000,
             3465000,
             3340000,
             2905000,
             2839000
            ],
            "sizemode": "area",
            "sizeref": 200000
           },
           "mode": "markers",
           "name": "Sub-Saharan Africa",
           "text": [
            "Mauritius",
            "Nigeria",
            "Zambia",
            "Somaliland region",
            "Mozambique",
            "Lesotho",
            "Swaziland",
            "South Africa",
            "Ghana",
            "Zimbabwe",
            "Liberia",
            "Sudan",
            "Congo (Kinshasa)",
            "Ethiopia",
            "Sierra Leone",
            "Mauritania",
            "Kenya",
            "Djibouti",
            "Botswana",
            "Malawi",
            "Cameroon",
            "Angola",
            "Mali",
            "Congo (Brazzaville)",
            "Comoros",
            "Uganda",
            "Senegal",
            "Gabon",
            "Niger",
            "Tanzania",
            "Madagascar",
            "Central African Republic",
            "Chad",
            "Guinea",
            "Ivory Coast",
            "Burkina Faso",
            "Rwanda",
            "Benin",
            "Burundi",
            "Togo"
           ],
           "type": "scatter",
           "x": [
            70.95,
            16.007,
            29.924,
            43.873,
            9.131,
            7.612000000000001,
            7.566000000000001,
            27.688000000000002,
            40.132,
            33.475,
            34.201,
            36.878,
            9.806,
            44.055,
            0,
            35.874,
            41.435,
            36.291000000000004,
            4.776,
            22.561999999999998,
            23.402,
            16.683,
            20.583000000000002,
            31.051000000000002,
            36.315,
            33.861000000000004,
            43.54,
            43.372,
            29.707,
            38.214999999999996,
            46.721000000000004,
            6.699,
            15.010000000000002,
            24.009,
            15.185,
            27.125,
            42.864000000000004,
            31.91,
            22.396,
            28.443
           ],
           "y": [
            5477000,
            5268000,
            5129000,
            5057000,
            4971000,
            4898000,
            4867000,
            4642000,
            4633000,
            4610000,
            4571000.000000002,
            4550000,
            4517000,
            4512000,
            4507000,
            4436000,
            4419000,
            4369000,
            4332000,
            4292000,
            4252000,
            4033000.0000000005,
            3995000,
            3989000,
            3956000,
            3931000,
            3904000,
            3896000,
            3845000,
            3781000,
            3681000,
            3678000,
            3667000,
            3656000,
            3655000,
            3587000,
            3465000,
            3340000,
            2905000,
            2839000
           ]
          },
          {
           "marker": {
            "size": [
             5252999.999999999,
             5194000,
             4694000,
             4565000,
             4513999.999999998,
             4271000,
             3575000
            ],
            "sizemode": "area",
            "sizeref": 200000
           },
           "mode": "markers",
           "name": "Southern Asia",
           "text": [
            "Bhutan",
            "Pakistan",
            "Bangladesh",
            "India",
            "Nepal",
            "Sri Lanka",
            "Afghanistan"
           ],
           "type": "scatter",
           "x": [
            57.407,
            51.466,
            60.163999999999994,
            51.52899999999999,
            56.87399999999999,
            70.806,
            30.335
           ],
           "y": [
            5252999.999999999,
            5194000,
            4694000,
            4565000,
            4513999.999999998,
            4271000,
            3575000
           ]
          }
         ],
         "name": "2015"
        },
        {
         "data": [
          {
           "marker": {
            "size": [
             7526000,
             7508999.999999998,
             7501000,
             7497999.999999998,
             7412999.999999998,
             7338999.999999999,
             7291000,
             7119000,
             6994000,
             6928999.999999998,
             6907000,
             6871000,
             6725000,
             6488000,
             6478000,
             6361000.000000002,
             5977000,
             5771000,
             5546000,
             5122999.999999998,
             5033000
            ],
            "sizemode": "area",
            "sizeref": 200000
           },
           "mode": "markers",
           "name": "Western Europe",
           "text": [
            "Denmark",
            "Switzerland",
            "Iceland",
            "Norway",
            "Finland",
            "Netherlands",
            "Sweden",
            "Austria",
            "Germany",
            "Belgium",
            "Ireland",
            "Luxembourg",
            "United Kingdom",
            "Malta",
            "France",
            "Spain",
            "Italy",
            "North Cyprus",
            "Cyprus",
            "Portugal",
            "Greece"
           ],
           "type": "scatter",
           "x": [
            79.50399999999999,
            86.303,
            86.73299999999999,
            79.579,
            81.09100000000001,
            81.23100000000001,
            83.121,
            80.565,
            81.487,
            81.95899999999999,
            81.455,
            84.542,
            80.991,
            80.315,
            83.795,
            87.896,
            85.102,
            84.14200000000001,
            84.88,
            79.363,
            80.029
           ],
           "y": [
            7526000,
            7508999.999999998,
            7501000,
            7497999.999999998,
            7412999.999999998,
            7338999.999999999,
            7291000,
            7119000,
            6994000,
            6928999.999999998,
            6907000,
            6871000,
            6725000,
            6488000,
            6478000,
            6361000.000000002,
            5977000,
            5771000,
            5546000,
            5122999.999999998,
            5033000
           ]
          },
          {
           "marker": {
            "size": [
             7404000,
             7104000
            ],
            "sizemode": "area",
            "sizeref": 200000
           },
           "mode": "markers",
           "name": "North America",
           "text": [
            "Canada",
            "United States"
           ],
           "type": "scatter",
           "x": [
            82.76,
            77.9
           ],
           "y": [
            7404000,
            7104000
           ]
          },
          {
           "marker": {
            "size": [
             7334000,
             7313000
            ],
            "sizemode": "area",
            "sizeref": 200000
           },
           "mode": "markers",
           "name": "Australia and New Zealand",
           "text": [
            "New Zealand",
            "Australia"
           ],
           "type": "scatter",
           "x": [
            83.096,
            85.11999999999999
           ],
           "y": [
            7334000,
            7313000
           ]
          },
          {
           "marker": {
            "size": [
             7267000,
             6573000,
             6379000,
             6375000,
             6355000,
             6239000,
             6218000,
             5615000,
             5388999.999999998,
             5303000,
             5151000,
             5129000,
             5045000,
             4813000,
             4754000,
             4575000,
             4362000,
             3724000,
             3069000
            ],
            "sizemode": "area",
            "sizeref": 200000
           },
           "mode": "markers",
           "name": "Middle East and Northern Africa",
           "text": [
            "Israel",
            "United Arab Emirates",
            "Saudi Arabia",
            "Qatar",
            "Algeria",
            "Kuwait",
            "Bahrain",
            "Libya",
            "Turkey",
            "Jordan",
            "Morocco",
            "Lebanon",
            "Tunisia",
            "Iran",
            "Palestinian Territories",
            "Iraq",
            "Egypt",
            "Yemen",
            "Syria"
           ],
           "type": "scatter",
           "x": [
            84.91700000000002,
            72.993,
            59.267,
            71.723,
            61.803999999999995,
            63.568999999999996,
            65.696,
            52.303999999999995,
            64.718,
            60.711999999999996,
            59.471000000000004,
            76.171,
            59.577000000000005,
            64.232,
            56.843999999999994,
            51.076,
            52.11600000000001,
            31.048000000000002,
            62.99399999999999
           ],
           "y": [
            7267000,
            6573000,
            6379000,
            6375000,
            6355000,
            6239000,
            6218000,
            5615000,
            5388999.999999998,
            5303000,
            5151000,
            5129000,
            5045000,
            4813000,
            4754000,
            4575000,
            4362000,
            3724000,
            3069000
           ]
          },
          {
           "marker": {
            "size": [
             7087000.000000002,
             7039000,
             6952000.000000001,
             6778000,
             6705000,
             6701000.000000001,
             6650000,
             6545000,
             6481000,
             6324000,
             6269000,
             6167999.999999998,
             6084000,
             6068000,
             5992000.000000001,
             5976000,
             5956000,
             5822000,
             5742999.999999998,
             5537999.999999998,
             5510000,
             5155000,
             4871000,
             4028000.0000000005
            ],
            "sizemode": "area",
            "sizeref": 200000
           },
           "mode": "markers",
           "name": "Latin America and Caribbean",
           "text": [
            "Costa Rica",
            "Puerto Rico",
            "Brazil",
            "Mexico",
            "Chile",
            "Panama",
            "Argentina",
            "Uruguay",
            "Colombia",
            "Guatemala",
            "Suriname",
            "Trinidad and Tobago",
            "Venezuela",
            "El Salvador",
            "Nicaragua",
            "Ecuador",
            "Belize",
            "Bolivia",
            "Peru",
            "Paraguay",
            "Jamaica",
            "Dominican Republic",
            "Honduras",
            "Haiti"
           ],
           "type": "scatter",
           "x": [
            76.146,
            77.75800000000001,
            61.415,
            71.143,
            81.88300000000001,
            70.83500000000001,
            69.711,
            72.18299999999999,
            59.65899999999999,
            54.038999999999994,
            50.93300000000001,
            52.608,
            61.90399999999999,
            59.599999999999994,
            65.213,
            68.613,
            45.568999999999996,
            46.97,
            62.99399999999999,
            58.294999999999995,
            59.468999999999994,
            57.66899999999999,
            58.38300000000001,
            27.494000000000003
           ],
           "y": [
            7087000.000000002,
            7039000,
            6952000.000000001,
            6778000,
            6705000,
            6701000.000000001,
            6650000,
            6545000,
            6481000,
            6324000,
            6269000,
            6167999.999999998,
            6084000,
            6068000,
            5992000.000000001,
            5976000,
            5956000,
            5822000,
            5742999.999999998,
            5537999.999999998,
            5510000,
            5155000,
            4871000,
            4028000.0000000005
           ]
          },
          {
           "marker": {
            "size": [
             6739000,
             6474000,
             6005000,
             5314000,
             5279000,
             5061000,
             4876000,
             4395000,
             3907000
            ],
            "sizemode": "area",
            "sizeref": 200000
           },
           "mode": "markers",
           "name": "Southeastern Asia",
           "text": [
            "Singapore",
            "Thailand",
            "Malaysia",
            "Indonesia",
            "Philippines",
            "Vietnam",
            "Laos",
            "Myanmar",
            "Cambodia"
           ],
           "type": "scatter",
           "x": [
            94.719,
            64.915,
            62.366,
            49.374,
            47.03600000000001,
            66.157,
            38.291,
            39.879999999999995,
            42.494
           ],
           "y": [
            6739000,
            6474000,
            6005000,
            5314000,
            5279000,
            5061000,
            4876000,
            4395000,
            3907000
           ]
          },
          {
           "marker": {
            "size": [
             6596000,
             6077999.999999998,
             5987000,
             5919000,
             5897000,
             5856000,
             5835000,
             5813000,
             5802000.000000001,
             5768000,
             5658000,
             5560000,
             5528000,
             5517000,
             5488000,
             5401000,
             5291000,
             5185000,
             5177000.000000001,
             5162999.999999998,
             5161000.000000001,
             5145000,
             5121000,
             4996000,
             4655000,
             4360000,
             4324000,
             4252000,
             4217000
            ],
            "sizemode": "area",
            "sizeref": 200000
           },
           "mode": "markers",
           "name": "Central and Eastern Europe",
           "text": [
            "Czech Republic",
            "Slovakia",
            "Uzbekistan",
            "Kazakhstan",
            "Moldova",
            "Russia",
            "Poland",
            "Lithuania",
            "Belarus",
            "Slovenia",
            "Turkmenistan",
            "Latvia",
            "Romania",
            "Estonia",
            "Croatia",
            "Kosovo",
            "Azerbaijan",
            "Kyrgyzstan",
            "Serbia",
            "Bosnia and Herzegovina",
            "Montenegro",
            "Hungary",
            "Macedonia",
            "Tajikistan",
            "Albania",
            "Armenia",
            "Ukraine",
            "Georgia",
            "Bulgaria"
           ],
           "type": "scatter",
           "x": [
            76.376,
            70.367,
            50.163000000000004,
            57.386,
            52.309,
            58.99100000000001,
            69.05799999999999,
            64.67399999999999,
            63.10399999999999,
            79.15100000000001,
            44.006000000000014,
            63.952,
            67.60199999999999,
            68.098,
            70.524,
            54,
            54.504,
            55.44899999999999,
            64.58,
            70.766,
            63.53300000000001,
            67.608,
            64.738,
            53.11899999999999,
            73.007,
            64.083,
            58.628,
            64.035,
            67.806
           ],
           "y": [
            6596000,
            6077999.999999998,
            5987000,
            5919000,
            5897000,
            5856000,
            5835000,
            5813000,
            5802000.000000001,
            5768000,
            5658000,
            5560000,
            5528000,
            5517000,
            5488000,
            5401000,
            5291000,
            5185000,
            5177000.000000001,
            5162999.999999998,
            5161000.000000001,
            5145000,
            5121000,
            4996000,
            4655000,
            4360000,
            4324000,
            4252000,
            4217000
           ]
          },
          {
           "marker": {
            "size": [
             6379000,
             5921000,
             5835000,
             5457999.999999998,
             5245000,
             4907000
            ],
            "sizemode": "area",
            "sizeref": 200000
           },
           "mode": "markers",
           "name": "Eastern Asia",
           "text": [
            "Taiwan",
            "Japan",
            "South Korea",
            "Hong Kong",
            "China",
            "Mongolia"
           ],
           "type": "scatter",
           "x": [
            79.565,
            91.491,
            88.645,
            95.277,
            73.56099999999999,
            55.469
           ],
           "y": [
            6379000,
            5921000,
            5835000,
            5457999.999999998,
            5245000,
            4907000
           ]
          },
          {
           "marker": {
            "size": [
             5648000,
             5440000,
             5057000,
             4875000,
             4795000,
             4635000,
             4574000,
             4513000,
             4508000,
             4459000,
             4356000,
             4276000,
             4272000,
             4236000.000000002,
             4218999.999999998,
             4201000.000000001,
             4193000.0000000005,
             4156000.0000000014,
             4138999.9999999986,
             4121000.0000000005,
             4073000.0000000005,
             3974000,
             3956000,
             3916000,
             3866000,
             3856000,
             3832000,
             3763000,
             3739000,
             3739000,
             3695000,
             3666000,
             3622000,
             3607000,
             3515000,
             3484000,
             3303000,
             2905000
            ],
            "sizemode": "area",
            "sizeref": 200000
           },
           "mode": "markers",
           "name": "Sub-Saharan Africa",
           "text": [
            "Mauritius",
            "Somalia",
            "Somaliland Region",
            "Nigeria",
            "Zambia",
            "Sierra Leone",
            "Namibia",
            "Cameroon",
            "Ethiopia",
            "South Africa",
            "Kenya",
            "Ghana",
            "Congo (Kinshasa)",
            "Congo (Brazzaville)",
            "Senegal",
            "Mauritania",
            "Zimbabwe",
            "Malawi",
            "Sudan",
            "Gabon",
            "Mali",
            "Botswana",
            "Comoros",
            "Ivory Coast",
            "Angola",
            "Niger",
            "South Sudan",
            "Chad",
            "Burkina Faso",
            "Uganda",
            "Madagascar",
            "Tanzania",
            "Liberia",
            "Guinea",
            "Rwanda",
            "Benin",
            "Togo",
            "Burundi"
           ],
           "type": "scatter",
           "x": [
            66.189,
            11.465999999999998,
            33.108000000000004,
            5.108,
            23.573,
            0,
            34.745,
            12.697999999999999,
            34.578,
            18.611,
            30.147000000000002,
            29.681,
            18.8,
            28.212,
            40.457,
            28.639000000000003,
            15.950000000000001,
            29.364,
            29.759,
            34.94,
            16.347,
            34.752,
            29.981,
            4.476,
            4.9910000000000005,
            26.162000000000003,
            15.780999999999997,
            3.8240000000000003,
            21.297,
            19.625,
            37.108999999999995,
            35.7,
            23.165,
            18.829,
            31.865,
            21.028,
            24.811,
            15.747
           ],
           "y": [
            5648000,
            5440000,
            5057000,
            4875000,
            4795000,
            4635000,
            4574000,
            4513000,
            4508000,
            4459000,
            4356000,
            4276000,
            4272000,
            4236000.000000002,
            4218999.999999998,
            4201000.000000001,
            4193000.0000000005,
            4156000.0000000014,
            4138999.9999999986,
            4121000.0000000005,
            4073000.0000000005,
            3974000,
            3956000,
            3916000,
            3866000,
            3856000,
            3832000,
            3763000,
            3739000,
            3739000,
            3695000,
            3666000,
            3622000,
            3607000,
            3515000,
            3484000,
            3303000,
            2905000
           ]
          },
          {
           "marker": {
            "size": [
             5196000.000000002,
             5132000.000000002,
             4793000,
             4643000,
             4415000,
             4404000,
             3360000
            ],
            "sizemode": "area",
            "sizeref": 200000
           },
           "mode": "markers",
           "name": "Southern Asia",
           "text": [
            "Bhutan",
            "Pakistan",
            "Nepal",
            "Bangladesh",
            "Sri Lanka",
            "India",
            "Afghanistan"
           ],
           "type": "scatter",
           "x": [
            49.759,
            40.306,
            50.073,
            52.989,
            62.007,
            45.091,
            17.344
           ],
           "y": [
            5196000.000000002,
            5132000.000000002,
            4793000,
            4643000,
            4415000,
            4404000,
            3360000
           ]
          }
         ],
         "name": "2016"
        }
       ],
       "layout": {
        "hovermode": "closest",
        "sliders": [
         {
          "active": 0,
          "currentvalue": {
           "font": {
            "size": 20
           },
           "prefix": "Year:",
           "visible": true,
           "xanchor": "right"
          },
          "len": 0.9,
          "pad": {
           "b": 10,
           "t": 50
          },
          "steps": [
           {
            "args": [
             [
              "2015"
             ],
             {
              "frame": {
               "duration": 300,
               "redraw": false
              },
              "mode": "immediate",
              "transition": {
               "duration": 300
              }
             }
            ],
            "label": "2015",
            "method": "animate"
           },
           {
            "args": [
             [
              "2016"
             ],
             {
              "frame": {
               "duration": 300,
               "redraw": false
              },
              "mode": "immediate",
              "transition": {
               "duration": 300
              }
             }
            ],
            "label": "2016",
            "method": "animate"
           }
          ],
          "transition": {
           "duration": 300,
           "easing": "cubic-in-out"
          },
          "x": 0.1,
          "xanchor": "left",
          "y": 0,
          "yanchor": "top"
         }
        ],
        "title": {
         "text": "Does Happiness make people healthier?"
        },
        "updatemenus": [
         {
          "buttons": [
           {
            "args": [
             null,
             {
              "frame": {
               "duration": 500,
               "redraw": false
              },
              "fromcurrent": true,
              "transition": {
               "duration": 300,
               "easing": "quadratic-in-out"
              }
             }
            ],
            "label": "Play",
            "method": "animate"
           },
           {
            "args": [
             [
              null
             ],
             {
              "frame": {
               "duration": 0,
               "redraw": false
              },
              "mode": "immediate",
              "transition": {
               "duration": 0
              }
             }
            ],
            "label": "Pause",
            "method": "animate"
           }
          ],
          "direction": "left",
          "pad": {
           "r": 10,
           "t": 87
          },
          "showactive": false,
          "type": "buttons",
          "x": 0.1,
          "xanchor": "right",
          "y": 0,
          "yanchor": "top"
         }
        ],
        "xaxis": {
         "range": [
          30,
          85
         ],
         "title": {
          "text": "Health"
         }
        },
        "yaxis": {
         "title": {
          "text": "Happiness Score"
         },
         "type": "log"
        }
       }
      },
      "text/html": [
       "<div id=\"775873d3-340c-46b3-814a-5be28cadda4c\" style=\"height: 525px; width: 100%;\" class=\"plotly-graph-div\"></div><script type=\"text/javascript\">require([\"plotly\"], function(Plotly) { window.PLOTLYENV=window.PLOTLYENV || {};window.PLOTLYENV.BASE_URL=\"https://plot.ly\";\n",
       "    if (document.getElementById(\"775873d3-340c-46b3-814a-5be28cadda4c\")) {\n",
       "        Plotly.plot(\n",
       "            '775873d3-340c-46b3-814a-5be28cadda4c',\n",
       "            [{\"marker\": {\"size\": [], \"sizemode\": \"area\", \"sizeref\": 200000}, \"mode\": \"markers\", \"name\": \"Western Europe\", \"text\": [], \"x\": [], \"y\": [], \"type\": \"scatter\", \"uid\": \"66aab5d3-02ae-4dd6-8094-d79f57bc9df7\"}, {\"marker\": {\"size\": [], \"sizemode\": \"area\", \"sizeref\": 200000}, \"mode\": \"markers\", \"name\": \"North America\", \"text\": [], \"x\": [], \"y\": [], \"type\": \"scatter\", \"uid\": \"a53fdc65-e6e7-4d80-aa27-1042104ddc96\"}, {\"marker\": {\"size\": [], \"sizemode\": \"area\", \"sizeref\": 200000}, \"mode\": \"markers\", \"name\": \"Australia and New Zealand\", \"text\": [], \"x\": [], \"y\": [], \"type\": \"scatter\", \"uid\": \"f6e61bec-f219-4ad8-94a5-f3bb2ef41865\"}, {\"marker\": {\"size\": [], \"sizemode\": \"area\", \"sizeref\": 200000}, \"mode\": \"markers\", \"name\": \"Middle East and Northern Africa\", \"text\": [], \"x\": [], \"y\": [], \"type\": \"scatter\", \"uid\": \"713ac303-b088-4f0b-affc-0ceb81ce7a3c\"}, {\"marker\": {\"size\": [], \"sizemode\": \"area\", \"sizeref\": 200000}, \"mode\": \"markers\", \"name\": \"Latin America and Caribbean\", \"text\": [], \"x\": [], \"y\": [], \"type\": \"scatter\", \"uid\": \"462a28a7-9995-4d16-86c3-e61d650adb2f\"}, {\"marker\": {\"size\": [], \"sizemode\": \"area\", \"sizeref\": 200000}, \"mode\": \"markers\", \"name\": \"Southeastern Asia\", \"text\": [], \"x\": [], \"y\": [], \"type\": \"scatter\", \"uid\": \"51d4e9f5-143e-47e6-8e41-49b3a3d764b1\"}, {\"marker\": {\"size\": [], \"sizemode\": \"area\", \"sizeref\": 200000}, \"mode\": \"markers\", \"name\": \"Central and Eastern Europe\", \"text\": [], \"x\": [], \"y\": [], \"type\": \"scatter\", \"uid\": \"86992905-7b84-45e8-82c6-9e4664d5bf4d\"}, {\"marker\": {\"size\": [], \"sizemode\": \"area\", \"sizeref\": 200000}, \"mode\": \"markers\", \"name\": \"Eastern Asia\", \"text\": [], \"x\": [], \"y\": [], \"type\": \"scatter\", \"uid\": \"0a00c34e-dc24-4e3b-8ced-052fe01acba2\"}, {\"marker\": {\"size\": [], \"sizemode\": \"area\", \"sizeref\": 200000}, \"mode\": \"markers\", \"name\": \"Sub-Saharan Africa\", \"text\": [], \"x\": [], \"y\": [], \"type\": \"scatter\", \"uid\": \"643be1ef-c899-44d0-ac86-1db921cccfc6\"}, {\"marker\": {\"size\": [], \"sizemode\": \"area\", \"sizeref\": 200000}, \"mode\": \"markers\", \"name\": \"Southern Asia\", \"text\": [], \"x\": [], \"y\": [], \"type\": \"scatter\", \"uid\": \"bbde49d1-774f-4b5d-b526-b5acfdcfe4ae\"}],\n",
       "            {\"hovermode\": \"closest\", \"sliders\": [{\"active\": 0, \"currentvalue\": {\"font\": {\"size\": 20}, \"prefix\": \"Year:\", \"visible\": true, \"xanchor\": \"right\"}, \"len\": 0.9, \"pad\": {\"b\": 10, \"t\": 50}, \"steps\": [{\"args\": [[\"2015\"], {\"frame\": {\"duration\": 300, \"redraw\": false}, \"mode\": \"immediate\", \"transition\": {\"duration\": 300}}], \"label\": \"2015\", \"method\": \"animate\"}, {\"args\": [[\"2016\"], {\"frame\": {\"duration\": 300, \"redraw\": false}, \"mode\": \"immediate\", \"transition\": {\"duration\": 300}}], \"label\": \"2016\", \"method\": \"animate\"}], \"transition\": {\"duration\": 300, \"easing\": \"cubic-in-out\"}, \"x\": 0.1, \"xanchor\": \"left\", \"y\": 0, \"yanchor\": \"top\"}], \"title\": {\"text\": \"Does Happiness make people healthier?\"}, \"updatemenus\": [{\"buttons\": [{\"args\": [null, {\"frame\": {\"duration\": 500, \"redraw\": false}, \"fromcurrent\": true, \"transition\": {\"duration\": 300, \"easing\": \"quadratic-in-out\"}}], \"label\": \"Play\", \"method\": \"animate\"}, {\"args\": [[null], {\"frame\": {\"duration\": 0, \"redraw\": false}, \"mode\": \"immediate\", \"transition\": {\"duration\": 0}}], \"label\": \"Pause\", \"method\": \"animate\"}], \"direction\": \"left\", \"pad\": {\"r\": 10, \"t\": 87}, \"showactive\": false, \"type\": \"buttons\", \"x\": 0.1, \"xanchor\": \"right\", \"y\": 0, \"yanchor\": \"top\"}], \"xaxis\": {\"range\": [30, 85], \"title\": {\"text\": \"Health\"}}, \"yaxis\": {\"title\": {\"text\": \"Happiness Score\"}, \"type\": \"log\"}},\n",
       "            {\"showLink\": false, \"linkText\": \"Export to plot.ly\", \"plotlyServerURL\": \"https://plot.ly\"}\n",
       "        ).then(function () {return Plotly.addFrames('775873d3-340c-46b3-814a-5be28cadda4c',[{\"data\": [{\"marker\": {\"size\": [7587000.000000002, 7561000.0, 7527000.0, 7522000.0, 7406000.000000002, 7377999.999999999, 7364000.0, 7200000.0, 6946000.000000002, 6940000.0, 6937000.0, 6867000.000000001, 6750000.0, 6575000.0, 6329000.0, 6302000.000000001, 5948000.0, 5695000.0, 5689000.0, 5102000.0, 4857000.0], \"sizemode\": \"area\", \"sizeref\": 200000}, \"mode\": \"markers\", \"name\": \"Western Europe\", \"text\": [\"Switzerland\", \"Iceland\", \"Denmark\", \"Norway\", \"Finland\", \"Netherlands\", \"Sweden\", \"Austria\", \"Luxembourg\", \"Ireland\", \"Belgium\", \"United Kingdom\", \"Germany\", \"France\", \"Spain\", \"Malta\", \"Italy\", \"North Cyprus\", \"Cyprus\", \"Portugal\", \"Greece\"], \"x\": [94.143, 94.784, 87.464, 88.521, 88.911, 89.28399999999999, 91.08699999999999, 89.04200000000002, 91.89399999999999, 89.533, 89.667, 90.943, 89.18599999999999, 94.57900000000001, 95.562, 88.721, 95.446, 92.35600000000001, 92.35600000000001, 87.51899999999999, 88.213], \"y\": [7587000.000000002, 7561000.0, 7527000.0, 7522000.0, 7406000.000000002, 7377999.999999999, 7364000.0, 7200000.0, 6946000.000000002, 6940000.0, 6937000.0, 6867000.000000001, 6750000.0, 6575000.0, 6329000.0, 6302000.000000001, 5948000.0, 5695000.0, 5689000.0, 5102000.0, 4857000.0], \"type\": \"scatter\"}, {\"marker\": {\"size\": [7427000.0, 7119000.0], \"sizemode\": \"area\", \"sizeref\": 200000}, \"mode\": \"markers\", \"name\": \"North America\", \"text\": [\"Canada\", \"United States\"], \"x\": [90.563, 86.17899999999999], \"y\": [7427000.0, 7119000.0], \"type\": \"scatter\"}, {\"marker\": {\"size\": [7286000.0, 7284000.0], \"sizemode\": \"area\", \"sizeref\": 200000}, \"mode\": \"markers\", \"name\": \"Australia and New Zealand\", \"text\": [\"New Zealand\", \"Australia\"], \"x\": [90.837, 93.156], \"y\": [7286000.0, 7284000.0], \"type\": \"scatter\"}, {\"marker\": {\"size\": [7278000.0, 6901000.0, 6853000.0, 6611000.000000002, 6411000.000000001, 6295000.0, 5960000.0, 5754000.0, 5605000.0, 5332000.000000002, 5192000.0, 5013000.0, 4839000.0, 4739000.0, 4715000.0, 4686000.0, 4677000.0, 4194000.0, 4077000.0, 3006000.0], \"sizemode\": \"area\", \"sizeref\": 200000}, \"mode\": \"markers\", \"name\": \"Middle East and Northern Africa\", \"text\": [\"Israel\", \"United Arab Emirates\", \"Oman\", \"Qatar\", \"Saudi Arabia\", \"Kuwait\", \"Bahrain\", \"Libya\", \"Algeria\", \"Turkey\", \"Jordan\", \"Morocco\", \"Lebanon\", \"Tunisia\", \"Palestinian Territories\", \"Iran\", \"Iraq\", \"Egypt\", \"Yemen\", \"Syria\"], \"x\": [91.387, 80.925, 76.276, 79.733, 72.02499999999999, 72.492, 74.71600000000001, 70.38, 61.766, 73.172, 69.639, 60.95399999999999, 83.947, 73.79299999999999, 66.015, 69.80499999999999, 60.236999999999995, 61.712, 40.064, 72.19300000000001], \"y\": [7278000.0, 6901000.0, 6853000.0, 6611000.000000002, 6411000.000000001, 6295000.0, 5960000.0, 5754000.0, 5605000.0, 5332000.000000002, 5192000.0, 5013000.0, 4839000.0, 4739000.0, 4715000.0, 4686000.0, 4677000.0, 4194000.0, 4077000.0, 3006000.0], \"type\": \"scatter\"}, {\"marker\": {\"size\": [7226000.0, 7187000.0, 6983000.0, 6810000.0, 6786000.000000001, 6670000.0, 6574000.0, 6485000.0, 6477000.0, 6269000.0, 6167999.999999998, 6130000.0, 6122999.999999998, 5975000.0, 5890000.0, 5877999.999999999, 5827999.999999998, 5824000.0, 5709000.0, 4885000.0, 4788000.0, 4518000.0], \"sizemode\": \"area\", \"sizeref\": 200000}, \"mode\": \"markers\", \"name\": \"Latin America and Caribbean\", \"text\": [\"Costa Rica\", \"Mexico\", \"Brazil\", \"Venezuela\", \"Panama\", \"Chile\", \"Argentina\", \"Uruguay\", \"Colombia\", \"Suriname\", \"Trinidad and Tobago\", \"El Salvador\", \"Guatemala\", \"Ecuador\", \"Bolivia\", \"Paraguay\", \"Nicaragua\", \"Peru\", \"Jamaica\", \"Dominican Republic\", \"Honduras\", \"Haiti\"], \"x\": [86.02700000000002, 81.44399999999999, 69.702, 72.05199999999999, 79.661, 85.857, 78.723, 81.16, 69.077, 60.81999999999999, 61.483, 67.73700000000001, 64.425, 79.07499999999999, 53.92, 66.098, 74.314, 73.017, 68.74100000000001, 66.825, 69.51, 38.847], \"y\": [7226000.0, 7187000.0, 6983000.0, 6810000.0, 6786000.000000001, 6670000.0, 6574000.0, 6485000.0, 6477000.0, 6269000.0, 6167999.999999998, 6130000.0, 6122999.999999998, 5975000.0, 5890000.0, 5877999.999999999, 5827999.999999998, 5824000.0, 5709000.0, 4885000.0, 4788000.0, 4518000.0], \"type\": \"scatter\"}, {\"marker\": {\"size\": [6797999.999999999, 6455000.0, 5770000.0, 5399000.0, 5360000.0, 5073000.0, 4876000.0, 4307000.0, 3819000.0], \"sizemode\": \"area\", \"sizeref\": 200000}, \"mode\": \"markers\", \"name\": \"Southeastern Asia\", \"text\": [\"Singapore\", \"Thailand\", \"Malaysia\", \"Indonesia\", \"Vietnam\", \"Philippines\", \"Laos\", \"Myanmar\", \"Cambodia\"], \"x\": [102.525, 73.85000000000001, 72.39399999999999, 63.793, 74.67600000000002, 58.114, 54.909, 48.24600000000001, 61.114000000000004], \"y\": [6797999.999999999, 6455000.0, 5770000.0, 5399000.0, 5360000.0, 5073000.0, 4876000.0, 4307000.0, 3819000.0], \"type\": \"scatter\"}, {\"marker\": {\"size\": [6505000.0, 6002999.999999999, 5995000.0, 5888999.999999998, 5855000.0, 5848000.0, 5832999.999999998, 5813000.0, 5791000.0, 5759000.0, 5716000.0, 5589000.0, 5547999.999999999, 5428999.999999998, 5286000.000000001, 5212000.000000002, 5192000.0, 5124000.0, 5122999.999999998, 5098000.0, 5007000.0, 4959000.0, 4949000.0, 4800000.0, 4786000.000000001, 4681000.0, 4350000.0, 4297000.0, 4218000.0], \"sizemode\": \"area\", \"sizeref\": 200000}, \"mode\": \"markers\", \"name\": \"Central and Eastern Europe\", \"text\": [\"Czech Republic\", \"Uzbekistan\", \"Slovakia\", \"Moldova\", \"Kazakhstan\", \"Slovenia\", \"Lithuania\", \"Belarus\", \"Poland\", \"Croatia\", \"Russia\", \"Kosovo\", \"Turkmenistan\", \"Estonia\", \"Kyrgyzstan\", \"Azerbaijan\", \"Montenegro\", \"Romania\", \"Serbia\", \"Latvia\", \"Macedonia\", \"Albania\", \"Bosnia and Herzegovina\", \"Hungary\", \"Tajikistan\", \"Ukraine\", \"Armenia\", \"Georgia\", \"Bulgaria\"], \"x\": [84.483, 59.772000000000006, 78.902, 61.826, 64.36800000000001, 87.337, 73.128, 73.608, 77.903, 78.805, 66.926, 63.132, 53.886, 77.361, 65.08800000000001, 64.045, 72.521, 76.89, 74.836, 72.437, 73.545, 81.325, 79.081, 75.905, 57.37899999999999, 67.39, 72.99, 72.926, 76.649], \"y\": [6505000.0, 6002999.999999999, 5995000.0, 5888999.999999998, 5855000.0, 5848000.0, 5832999.999999998, 5813000.0, 5791000.0, 5759000.0, 5716000.0, 5589000.0, 5547999.999999999, 5428999.999999998, 5286000.000000001, 5212000.000000002, 5192000.0, 5124000.0, 5122999.999999998, 5098000.0, 5007000.0, 4959000.0, 4949000.0, 4800000.0, 4786000.000000001, 4681000.0, 4350000.0, 4297000.0, 4218000.0], \"type\": \"scatter\"}, {\"marker\": {\"size\": [6297999.999999999, 5987000.0, 5984000.0, 5474000.0, 5140000.0, 4874000.0], \"sizemode\": \"area\", \"sizeref\": 200000}, \"mode\": \"markers\", \"name\": \"Eastern Asia\", \"text\": [\"Taiwan\", \"Japan\", \"South Korea\", \"Hong Kong\", \"China\", \"Mongolia\"], \"x\": [87.53, 99.111, 96.538, 101.328, 81.658, 60.268], \"y\": [6297999.999999999, 5987000.0, 5984000.0, 5474000.0, 5140000.0, 4874000.0], \"type\": \"scatter\"}, {\"marker\": {\"size\": [5477000.0, 5268000.0, 5129000.0, 5057000.0, 4971000.0, 4898000.0, 4867000.0, 4642000.0, 4633000.0, 4610000.0, 4571000.000000002, 4550000.0, 4517000.0, 4512000.0, 4507000.0, 4436000.0, 4419000.0, 4369000.0, 4332000.0, 4292000.0, 4252000.0, 4033000.0000000005, 3995000.0, 3989000.0, 3956000.0, 3931000.0, 3904000.0, 3896000.0, 3845000.0, 3781000.0, 3681000.0, 3678000.0, 3667000.0, 3656000.0, 3655000.0, 3587000.0, 3465000.0, 3340000.0, 2905000.0, 2839000.0], \"sizemode\": \"area\", \"sizeref\": 200000}, \"mode\": \"markers\", \"name\": \"Sub-Saharan Africa\", \"text\": [\"Mauritius\", \"Nigeria\", \"Zambia\", \"Somaliland region\", \"Mozambique\", \"Lesotho\", \"Swaziland\", \"South Africa\", \"Ghana\", \"Zimbabwe\", \"Liberia\", \"Sudan\", \"Congo (Kinshasa)\", \"Ethiopia\", \"Sierra Leone\", \"Mauritania\", \"Kenya\", \"Djibouti\", \"Botswana\", \"Malawi\", \"Cameroon\", \"Angola\", \"Mali\", \"Congo (Brazzaville)\", \"Comoros\", \"Uganda\", \"Senegal\", \"Gabon\", \"Niger\", \"Tanzania\", \"Madagascar\", \"Central African Republic\", \"Chad\", \"Guinea\", \"Ivory Coast\", \"Burkina Faso\", \"Rwanda\", \"Benin\", \"Burundi\", \"Togo\"], \"x\": [70.95, 16.007, 29.924, 43.873, 9.131, 7.612000000000001, 7.566000000000001, 27.688000000000002, 40.132, 33.475, 34.201, 36.878, 9.806, 44.055, 0.0, 35.874, 41.435, 36.291000000000004, 4.776, 22.561999999999998, 23.402, 16.683, 20.583000000000002, 31.051000000000002, 36.315, 33.861000000000004, 43.54, 43.372, 29.707, 38.214999999999996, 46.721000000000004, 6.699, 15.010000000000002, 24.009, 15.185, 27.125, 42.864000000000004, 31.91, 22.396, 28.443], \"y\": [5477000.0, 5268000.0, 5129000.0, 5057000.0, 4971000.0, 4898000.0, 4867000.0, 4642000.0, 4633000.0, 4610000.0, 4571000.000000002, 4550000.0, 4517000.0, 4512000.0, 4507000.0, 4436000.0, 4419000.0, 4369000.0, 4332000.0, 4292000.0, 4252000.0, 4033000.0000000005, 3995000.0, 3989000.0, 3956000.0, 3931000.0, 3904000.0, 3896000.0, 3845000.0, 3781000.0, 3681000.0, 3678000.0, 3667000.0, 3656000.0, 3655000.0, 3587000.0, 3465000.0, 3340000.0, 2905000.0, 2839000.0], \"type\": \"scatter\"}, {\"marker\": {\"size\": [5252999.999999999, 5194000.0, 4694000.0, 4565000.0, 4513999.999999998, 4271000.0, 3575000.0], \"sizemode\": \"area\", \"sizeref\": 200000}, \"mode\": \"markers\", \"name\": \"Southern Asia\", \"text\": [\"Bhutan\", \"Pakistan\", \"Bangladesh\", \"India\", \"Nepal\", \"Sri Lanka\", \"Afghanistan\"], \"x\": [57.407, 51.466, 60.163999999999994, 51.52899999999999, 56.87399999999999, 70.806, 30.335], \"y\": [5252999.999999999, 5194000.0, 4694000.0, 4565000.0, 4513999.999999998, 4271000.0, 3575000.0], \"type\": \"scatter\"}], \"name\": \"2015\"}, {\"data\": [{\"marker\": {\"size\": [7526000.0, 7508999.999999998, 7501000.0, 7497999.999999998, 7412999.999999998, 7338999.999999999, 7291000.0, 7119000.0, 6994000.0, 6928999.999999998, 6907000.0, 6871000.0, 6725000.0, 6488000.0, 6478000.0, 6361000.000000002, 5977000.0, 5771000.0, 5546000.0, 5122999.999999998, 5033000.0], \"sizemode\": \"area\", \"sizeref\": 200000}, \"mode\": \"markers\", \"name\": \"Western Europe\", \"text\": [\"Denmark\", \"Switzerland\", \"Iceland\", \"Norway\", \"Finland\", \"Netherlands\", \"Sweden\", \"Austria\", \"Germany\", \"Belgium\", \"Ireland\", \"Luxembourg\", \"United Kingdom\", \"Malta\", \"France\", \"Spain\", \"Italy\", \"North Cyprus\", \"Cyprus\", \"Portugal\", \"Greece\"], \"x\": [79.50399999999999, 86.303, 86.73299999999999, 79.579, 81.09100000000001, 81.23100000000001, 83.121, 80.565, 81.487, 81.95899999999999, 81.455, 84.542, 80.991, 80.315, 83.795, 87.896, 85.102, 84.14200000000001, 84.88, 79.363, 80.029], \"y\": [7526000.0, 7508999.999999998, 7501000.0, 7497999.999999998, 7412999.999999998, 7338999.999999999, 7291000.0, 7119000.0, 6994000.0, 6928999.999999998, 6907000.0, 6871000.0, 6725000.0, 6488000.0, 6478000.0, 6361000.000000002, 5977000.0, 5771000.0, 5546000.0, 5122999.999999998, 5033000.0], \"type\": \"scatter\"}, {\"marker\": {\"size\": [7404000.0, 7104000.0], \"sizemode\": \"area\", \"sizeref\": 200000}, \"mode\": \"markers\", \"name\": \"North America\", \"text\": [\"Canada\", \"United States\"], \"x\": [82.76, 77.9], \"y\": [7404000.0, 7104000.0], \"type\": \"scatter\"}, {\"marker\": {\"size\": [7334000.0, 7313000.0], \"sizemode\": \"area\", \"sizeref\": 200000}, \"mode\": \"markers\", \"name\": \"Australia and New Zealand\", \"text\": [\"New Zealand\", \"Australia\"], \"x\": [83.096, 85.11999999999999], \"y\": [7334000.0, 7313000.0], \"type\": \"scatter\"}, {\"marker\": {\"size\": [7267000.0, 6573000.0, 6379000.0, 6375000.0, 6355000.0, 6239000.0, 6218000.0, 5615000.0, 5388999.999999998, 5303000.0, 5151000.0, 5129000.0, 5045000.0, 4813000.0, 4754000.0, 4575000.0, 4362000.0, 3724000.0, 3069000.0], \"sizemode\": \"area\", \"sizeref\": 200000}, \"mode\": \"markers\", \"name\": \"Middle East and Northern Africa\", \"text\": [\"Israel\", \"United Arab Emirates\", \"Saudi Arabia\", \"Qatar\", \"Algeria\", \"Kuwait\", \"Bahrain\", \"Libya\", \"Turkey\", \"Jordan\", \"Morocco\", \"Lebanon\", \"Tunisia\", \"Iran\", \"Palestinian Territories\", \"Iraq\", \"Egypt\", \"Yemen\", \"Syria\"], \"x\": [84.91700000000002, 72.993, 59.267, 71.723, 61.803999999999995, 63.568999999999996, 65.696, 52.303999999999995, 64.718, 60.711999999999996, 59.471000000000004, 76.171, 59.577000000000005, 64.232, 56.843999999999994, 51.076, 52.11600000000001, 31.048000000000002, 62.99399999999999], \"y\": [7267000.0, 6573000.0, 6379000.0, 6375000.0, 6355000.0, 6239000.0, 6218000.0, 5615000.0, 5388999.999999998, 5303000.0, 5151000.0, 5129000.0, 5045000.0, 4813000.0, 4754000.0, 4575000.0, 4362000.0, 3724000.0, 3069000.0], \"type\": \"scatter\"}, {\"marker\": {\"size\": [7087000.000000002, 7039000.0, 6952000.000000001, 6778000.0, 6705000.0, 6701000.000000001, 6650000.0, 6545000.0, 6481000.0, 6324000.0, 6269000.0, 6167999.999999998, 6084000.0, 6068000.0, 5992000.000000001, 5976000.0, 5956000.0, 5822000.0, 5742999.999999998, 5537999.999999998, 5510000.0, 5155000.0, 4871000.0, 4028000.0000000005], \"sizemode\": \"area\", \"sizeref\": 200000}, \"mode\": \"markers\", \"name\": \"Latin America and Caribbean\", \"text\": [\"Costa Rica\", \"Puerto Rico\", \"Brazil\", \"Mexico\", \"Chile\", \"Panama\", \"Argentina\", \"Uruguay\", \"Colombia\", \"Guatemala\", \"Suriname\", \"Trinidad and Tobago\", \"Venezuela\", \"El Salvador\", \"Nicaragua\", \"Ecuador\", \"Belize\", \"Bolivia\", \"Peru\", \"Paraguay\", \"Jamaica\", \"Dominican Republic\", \"Honduras\", \"Haiti\"], \"x\": [76.146, 77.75800000000001, 61.415, 71.143, 81.88300000000001, 70.83500000000001, 69.711, 72.18299999999999, 59.65899999999999, 54.038999999999994, 50.93300000000001, 52.608, 61.90399999999999, 59.599999999999994, 65.213, 68.613, 45.568999999999996, 46.97, 62.99399999999999, 58.294999999999995, 59.468999999999994, 57.66899999999999, 58.38300000000001, 27.494000000000003], \"y\": [7087000.000000002, 7039000.0, 6952000.000000001, 6778000.0, 6705000.0, 6701000.000000001, 6650000.0, 6545000.0, 6481000.0, 6324000.0, 6269000.0, 6167999.999999998, 6084000.0, 6068000.0, 5992000.000000001, 5976000.0, 5956000.0, 5822000.0, 5742999.999999998, 5537999.999999998, 5510000.0, 5155000.0, 4871000.0, 4028000.0000000005], \"type\": \"scatter\"}, {\"marker\": {\"size\": [6739000.0, 6474000.0, 6005000.0, 5314000.0, 5279000.0, 5061000.0, 4876000.0, 4395000.0, 3907000.0], \"sizemode\": \"area\", \"sizeref\": 200000}, \"mode\": \"markers\", \"name\": \"Southeastern Asia\", \"text\": [\"Singapore\", \"Thailand\", \"Malaysia\", \"Indonesia\", \"Philippines\", \"Vietnam\", \"Laos\", \"Myanmar\", \"Cambodia\"], \"x\": [94.719, 64.915, 62.366, 49.374, 47.03600000000001, 66.157, 38.291, 39.879999999999995, 42.494], \"y\": [6739000.0, 6474000.0, 6005000.0, 5314000.0, 5279000.0, 5061000.0, 4876000.0, 4395000.0, 3907000.0], \"type\": \"scatter\"}, {\"marker\": {\"size\": [6596000.0, 6077999.999999998, 5987000.0, 5919000.0, 5897000.0, 5856000.0, 5835000.0, 5813000.0, 5802000.000000001, 5768000.0, 5658000.0, 5560000.0, 5528000.0, 5517000.0, 5488000.0, 5401000.0, 5291000.0, 5185000.0, 5177000.000000001, 5162999.999999998, 5161000.000000001, 5145000.0, 5121000.0, 4996000.0, 4655000.0, 4360000.0, 4324000.0, 4252000.0, 4217000.0], \"sizemode\": \"area\", \"sizeref\": 200000}, \"mode\": \"markers\", \"name\": \"Central and Eastern Europe\", \"text\": [\"Czech Republic\", \"Slovakia\", \"Uzbekistan\", \"Kazakhstan\", \"Moldova\", \"Russia\", \"Poland\", \"Lithuania\", \"Belarus\", \"Slovenia\", \"Turkmenistan\", \"Latvia\", \"Romania\", \"Estonia\", \"Croatia\", \"Kosovo\", \"Azerbaijan\", \"Kyrgyzstan\", \"Serbia\", \"Bosnia and Herzegovina\", \"Montenegro\", \"Hungary\", \"Macedonia\", \"Tajikistan\", \"Albania\", \"Armenia\", \"Ukraine\", \"Georgia\", \"Bulgaria\"], \"x\": [76.376, 70.367, 50.163000000000004, 57.386, 52.309, 58.99100000000001, 69.05799999999999, 64.67399999999999, 63.10399999999999, 79.15100000000001, 44.006000000000014, 63.952, 67.60199999999999, 68.098, 70.524, 54.0, 54.504, 55.44899999999999, 64.58, 70.766, 63.53300000000001, 67.608, 64.738, 53.11899999999999, 73.007, 64.083, 58.628, 64.035, 67.806], \"y\": [6596000.0, 6077999.999999998, 5987000.0, 5919000.0, 5897000.0, 5856000.0, 5835000.0, 5813000.0, 5802000.000000001, 5768000.0, 5658000.0, 5560000.0, 5528000.0, 5517000.0, 5488000.0, 5401000.0, 5291000.0, 5185000.0, 5177000.000000001, 5162999.999999998, 5161000.000000001, 5145000.0, 5121000.0, 4996000.0, 4655000.0, 4360000.0, 4324000.0, 4252000.0, 4217000.0], \"type\": \"scatter\"}, {\"marker\": {\"size\": [6379000.0, 5921000.0, 5835000.0, 5457999.999999998, 5245000.0, 4907000.0], \"sizemode\": \"area\", \"sizeref\": 200000}, \"mode\": \"markers\", \"name\": \"Eastern Asia\", \"text\": [\"Taiwan\", \"Japan\", \"South Korea\", \"Hong Kong\", \"China\", \"Mongolia\"], \"x\": [79.565, 91.491, 88.645, 95.277, 73.56099999999999, 55.469], \"y\": [6379000.0, 5921000.0, 5835000.0, 5457999.999999998, 5245000.0, 4907000.0], \"type\": \"scatter\"}, {\"marker\": {\"size\": [5648000.0, 5440000.0, 5057000.0, 4875000.0, 4795000.0, 4635000.0, 4574000.0, 4513000.0, 4508000.0, 4459000.0, 4356000.0, 4276000.0, 4272000.0, 4236000.000000002, 4218999.999999998, 4201000.000000001, 4193000.0000000005, 4156000.0000000014, 4138999.9999999986, 4121000.0000000005, 4073000.0000000005, 3974000.0, 3956000.0, 3916000.0, 3866000.0, 3856000.0, 3832000.0, 3763000.0, 3739000.0, 3739000.0, 3695000.0, 3666000.0, 3622000.0, 3607000.0, 3515000.0, 3484000.0, 3303000.0, 2905000.0], \"sizemode\": \"area\", \"sizeref\": 200000}, \"mode\": \"markers\", \"name\": \"Sub-Saharan Africa\", \"text\": [\"Mauritius\", \"Somalia\", \"Somaliland Region\", \"Nigeria\", \"Zambia\", \"Sierra Leone\", \"Namibia\", \"Cameroon\", \"Ethiopia\", \"South Africa\", \"Kenya\", \"Ghana\", \"Congo (Kinshasa)\", \"Congo (Brazzaville)\", \"Senegal\", \"Mauritania\", \"Zimbabwe\", \"Malawi\", \"Sudan\", \"Gabon\", \"Mali\", \"Botswana\", \"Comoros\", \"Ivory Coast\", \"Angola\", \"Niger\", \"South Sudan\", \"Chad\", \"Burkina Faso\", \"Uganda\", \"Madagascar\", \"Tanzania\", \"Liberia\", \"Guinea\", \"Rwanda\", \"Benin\", \"Togo\", \"Burundi\"], \"x\": [66.189, 11.465999999999998, 33.108000000000004, 5.108, 23.573, 0.0, 34.745, 12.697999999999999, 34.578, 18.611, 30.147000000000002, 29.681, 18.8, 28.212, 40.457, 28.639000000000003, 15.950000000000001, 29.364, 29.759, 34.94, 16.347, 34.752, 29.981, 4.476, 4.9910000000000005, 26.162000000000003, 15.780999999999997, 3.8240000000000003, 21.297, 19.625, 37.108999999999995, 35.7, 23.165, 18.829, 31.865, 21.028, 24.811, 15.747], \"y\": [5648000.0, 5440000.0, 5057000.0, 4875000.0, 4795000.0, 4635000.0, 4574000.0, 4513000.0, 4508000.0, 4459000.0, 4356000.0, 4276000.0, 4272000.0, 4236000.000000002, 4218999.999999998, 4201000.000000001, 4193000.0000000005, 4156000.0000000014, 4138999.9999999986, 4121000.0000000005, 4073000.0000000005, 3974000.0, 3956000.0, 3916000.0, 3866000.0, 3856000.0, 3832000.0, 3763000.0, 3739000.0, 3739000.0, 3695000.0, 3666000.0, 3622000.0, 3607000.0, 3515000.0, 3484000.0, 3303000.0, 2905000.0], \"type\": \"scatter\"}, {\"marker\": {\"size\": [5196000.000000002, 5132000.000000002, 4793000.0, 4643000.0, 4415000.0, 4404000.0, 3360000.0], \"sizemode\": \"area\", \"sizeref\": 200000}, \"mode\": \"markers\", \"name\": \"Southern Asia\", \"text\": [\"Bhutan\", \"Pakistan\", \"Nepal\", \"Bangladesh\", \"Sri Lanka\", \"India\", \"Afghanistan\"], \"x\": [49.759, 40.306, 50.073, 52.989, 62.007, 45.091, 17.344], \"y\": [5196000.000000002, 5132000.000000002, 4793000.0, 4643000.0, 4415000.0, 4404000.0, 3360000.0], \"type\": \"scatter\"}], \"name\": \"2016\"}]);}).then(function(){Plotly.animate('775873d3-340c-46b3-814a-5be28cadda4c');})\n",
       "    }\n",
       "        });</script><script type=\"text/javascript\">window.addEventListener(\"resize\", function(){if (document.getElementById(\"775873d3-340c-46b3-814a-5be28cadda4c\")) {window._Plotly.Plots.resize(document.getElementById(\"775873d3-340c-46b3-814a-5be28cadda4c\"));};})</script>"
      ],
      "text/vnd.plotly.v1+html": [
       "<div id=\"775873d3-340c-46b3-814a-5be28cadda4c\" style=\"height: 525px; width: 100%;\" class=\"plotly-graph-div\"></div><script type=\"text/javascript\">require([\"plotly\"], function(Plotly) { window.PLOTLYENV=window.PLOTLYENV || {};window.PLOTLYENV.BASE_URL=\"https://plot.ly\";\n",
       "    if (document.getElementById(\"775873d3-340c-46b3-814a-5be28cadda4c\")) {\n",
       "        Plotly.plot(\n",
       "            '775873d3-340c-46b3-814a-5be28cadda4c',\n",
       "            [{\"marker\": {\"size\": [], \"sizemode\": \"area\", \"sizeref\": 200000}, \"mode\": \"markers\", \"name\": \"Western Europe\", \"text\": [], \"x\": [], \"y\": [], \"type\": \"scatter\", \"uid\": \"66aab5d3-02ae-4dd6-8094-d79f57bc9df7\"}, {\"marker\": {\"size\": [], \"sizemode\": \"area\", \"sizeref\": 200000}, \"mode\": \"markers\", \"name\": \"North America\", \"text\": [], \"x\": [], \"y\": [], \"type\": \"scatter\", \"uid\": \"a53fdc65-e6e7-4d80-aa27-1042104ddc96\"}, {\"marker\": {\"size\": [], \"sizemode\": \"area\", \"sizeref\": 200000}, \"mode\": \"markers\", \"name\": \"Australia and New Zealand\", \"text\": [], \"x\": [], \"y\": [], \"type\": \"scatter\", \"uid\": \"f6e61bec-f219-4ad8-94a5-f3bb2ef41865\"}, {\"marker\": {\"size\": [], \"sizemode\": \"area\", \"sizeref\": 200000}, \"mode\": \"markers\", \"name\": \"Middle East and Northern Africa\", \"text\": [], \"x\": [], \"y\": [], \"type\": \"scatter\", \"uid\": \"713ac303-b088-4f0b-affc-0ceb81ce7a3c\"}, {\"marker\": {\"size\": [], \"sizemode\": \"area\", \"sizeref\": 200000}, \"mode\": \"markers\", \"name\": \"Latin America and Caribbean\", \"text\": [], \"x\": [], \"y\": [], \"type\": \"scatter\", \"uid\": \"462a28a7-9995-4d16-86c3-e61d650adb2f\"}, {\"marker\": {\"size\": [], \"sizemode\": \"area\", \"sizeref\": 200000}, \"mode\": \"markers\", \"name\": \"Southeastern Asia\", \"text\": [], \"x\": [], \"y\": [], \"type\": \"scatter\", \"uid\": \"51d4e9f5-143e-47e6-8e41-49b3a3d764b1\"}, {\"marker\": {\"size\": [], \"sizemode\": \"area\", \"sizeref\": 200000}, \"mode\": \"markers\", \"name\": \"Central and Eastern Europe\", \"text\": [], \"x\": [], \"y\": [], \"type\": \"scatter\", \"uid\": \"86992905-7b84-45e8-82c6-9e4664d5bf4d\"}, {\"marker\": {\"size\": [], \"sizemode\": \"area\", \"sizeref\": 200000}, \"mode\": \"markers\", \"name\": \"Eastern Asia\", \"text\": [], \"x\": [], \"y\": [], \"type\": \"scatter\", \"uid\": \"0a00c34e-dc24-4e3b-8ced-052fe01acba2\"}, {\"marker\": {\"size\": [], \"sizemode\": \"area\", \"sizeref\": 200000}, \"mode\": \"markers\", \"name\": \"Sub-Saharan Africa\", \"text\": [], \"x\": [], \"y\": [], \"type\": \"scatter\", \"uid\": \"643be1ef-c899-44d0-ac86-1db921cccfc6\"}, {\"marker\": {\"size\": [], \"sizemode\": \"area\", \"sizeref\": 200000}, \"mode\": \"markers\", \"name\": \"Southern Asia\", \"text\": [], \"x\": [], \"y\": [], \"type\": \"scatter\", \"uid\": \"bbde49d1-774f-4b5d-b526-b5acfdcfe4ae\"}],\n",
       "            {\"hovermode\": \"closest\", \"sliders\": [{\"active\": 0, \"currentvalue\": {\"font\": {\"size\": 20}, \"prefix\": \"Year:\", \"visible\": true, \"xanchor\": \"right\"}, \"len\": 0.9, \"pad\": {\"b\": 10, \"t\": 50}, \"steps\": [{\"args\": [[\"2015\"], {\"frame\": {\"duration\": 300, \"redraw\": false}, \"mode\": \"immediate\", \"transition\": {\"duration\": 300}}], \"label\": \"2015\", \"method\": \"animate\"}, {\"args\": [[\"2016\"], {\"frame\": {\"duration\": 300, \"redraw\": false}, \"mode\": \"immediate\", \"transition\": {\"duration\": 300}}], \"label\": \"2016\", \"method\": \"animate\"}], \"transition\": {\"duration\": 300, \"easing\": \"cubic-in-out\"}, \"x\": 0.1, \"xanchor\": \"left\", \"y\": 0, \"yanchor\": \"top\"}], \"title\": {\"text\": \"Does Happiness make people healthier?\"}, \"updatemenus\": [{\"buttons\": [{\"args\": [null, {\"frame\": {\"duration\": 500, \"redraw\": false}, \"fromcurrent\": true, \"transition\": {\"duration\": 300, \"easing\": \"quadratic-in-out\"}}], \"label\": \"Play\", \"method\": \"animate\"}, {\"args\": [[null], {\"frame\": {\"duration\": 0, \"redraw\": false}, \"mode\": \"immediate\", \"transition\": {\"duration\": 0}}], \"label\": \"Pause\", \"method\": \"animate\"}], \"direction\": \"left\", \"pad\": {\"r\": 10, \"t\": 87}, \"showactive\": false, \"type\": \"buttons\", \"x\": 0.1, \"xanchor\": \"right\", \"y\": 0, \"yanchor\": \"top\"}], \"xaxis\": {\"range\": [30, 85], \"title\": {\"text\": \"Health\"}}, \"yaxis\": {\"title\": {\"text\": \"Happiness Score\"}, \"type\": \"log\"}},\n",
       "            {\"showLink\": false, \"linkText\": \"Export to plot.ly\", \"plotlyServerURL\": \"https://plot.ly\"}\n",
       "        ).then(function () {return Plotly.addFrames('775873d3-340c-46b3-814a-5be28cadda4c',[{\"data\": [{\"marker\": {\"size\": [7587000.000000002, 7561000.0, 7527000.0, 7522000.0, 7406000.000000002, 7377999.999999999, 7364000.0, 7200000.0, 6946000.000000002, 6940000.0, 6937000.0, 6867000.000000001, 6750000.0, 6575000.0, 6329000.0, 6302000.000000001, 5948000.0, 5695000.0, 5689000.0, 5102000.0, 4857000.0], \"sizemode\": \"area\", \"sizeref\": 200000}, \"mode\": \"markers\", \"name\": \"Western Europe\", \"text\": [\"Switzerland\", \"Iceland\", \"Denmark\", \"Norway\", \"Finland\", \"Netherlands\", \"Sweden\", \"Austria\", \"Luxembourg\", \"Ireland\", \"Belgium\", \"United Kingdom\", \"Germany\", \"France\", \"Spain\", \"Malta\", \"Italy\", \"North Cyprus\", \"Cyprus\", \"Portugal\", \"Greece\"], \"x\": [94.143, 94.784, 87.464, 88.521, 88.911, 89.28399999999999, 91.08699999999999, 89.04200000000002, 91.89399999999999, 89.533, 89.667, 90.943, 89.18599999999999, 94.57900000000001, 95.562, 88.721, 95.446, 92.35600000000001, 92.35600000000001, 87.51899999999999, 88.213], \"y\": [7587000.000000002, 7561000.0, 7527000.0, 7522000.0, 7406000.000000002, 7377999.999999999, 7364000.0, 7200000.0, 6946000.000000002, 6940000.0, 6937000.0, 6867000.000000001, 6750000.0, 6575000.0, 6329000.0, 6302000.000000001, 5948000.0, 5695000.0, 5689000.0, 5102000.0, 4857000.0], \"type\": \"scatter\"}, {\"marker\": {\"size\": [7427000.0, 7119000.0], \"sizemode\": \"area\", \"sizeref\": 200000}, \"mode\": \"markers\", \"name\": \"North America\", \"text\": [\"Canada\", \"United States\"], \"x\": [90.563, 86.17899999999999], \"y\": [7427000.0, 7119000.0], \"type\": \"scatter\"}, {\"marker\": {\"size\": [7286000.0, 7284000.0], \"sizemode\": \"area\", \"sizeref\": 200000}, \"mode\": \"markers\", \"name\": \"Australia and New Zealand\", \"text\": [\"New Zealand\", \"Australia\"], \"x\": [90.837, 93.156], \"y\": [7286000.0, 7284000.0], \"type\": \"scatter\"}, {\"marker\": {\"size\": [7278000.0, 6901000.0, 6853000.0, 6611000.000000002, 6411000.000000001, 6295000.0, 5960000.0, 5754000.0, 5605000.0, 5332000.000000002, 5192000.0, 5013000.0, 4839000.0, 4739000.0, 4715000.0, 4686000.0, 4677000.0, 4194000.0, 4077000.0, 3006000.0], \"sizemode\": \"area\", \"sizeref\": 200000}, \"mode\": \"markers\", \"name\": \"Middle East and Northern Africa\", \"text\": [\"Israel\", \"United Arab Emirates\", \"Oman\", \"Qatar\", \"Saudi Arabia\", \"Kuwait\", \"Bahrain\", \"Libya\", \"Algeria\", \"Turkey\", \"Jordan\", \"Morocco\", \"Lebanon\", \"Tunisia\", \"Palestinian Territories\", \"Iran\", \"Iraq\", \"Egypt\", \"Yemen\", \"Syria\"], \"x\": [91.387, 80.925, 76.276, 79.733, 72.02499999999999, 72.492, 74.71600000000001, 70.38, 61.766, 73.172, 69.639, 60.95399999999999, 83.947, 73.79299999999999, 66.015, 69.80499999999999, 60.236999999999995, 61.712, 40.064, 72.19300000000001], \"y\": [7278000.0, 6901000.0, 6853000.0, 6611000.000000002, 6411000.000000001, 6295000.0, 5960000.0, 5754000.0, 5605000.0, 5332000.000000002, 5192000.0, 5013000.0, 4839000.0, 4739000.0, 4715000.0, 4686000.0, 4677000.0, 4194000.0, 4077000.0, 3006000.0], \"type\": \"scatter\"}, {\"marker\": {\"size\": [7226000.0, 7187000.0, 6983000.0, 6810000.0, 6786000.000000001, 6670000.0, 6574000.0, 6485000.0, 6477000.0, 6269000.0, 6167999.999999998, 6130000.0, 6122999.999999998, 5975000.0, 5890000.0, 5877999.999999999, 5827999.999999998, 5824000.0, 5709000.0, 4885000.0, 4788000.0, 4518000.0], \"sizemode\": \"area\", \"sizeref\": 200000}, \"mode\": \"markers\", \"name\": \"Latin America and Caribbean\", \"text\": [\"Costa Rica\", \"Mexico\", \"Brazil\", \"Venezuela\", \"Panama\", \"Chile\", \"Argentina\", \"Uruguay\", \"Colombia\", \"Suriname\", \"Trinidad and Tobago\", \"El Salvador\", \"Guatemala\", \"Ecuador\", \"Bolivia\", \"Paraguay\", \"Nicaragua\", \"Peru\", \"Jamaica\", \"Dominican Republic\", \"Honduras\", \"Haiti\"], \"x\": [86.02700000000002, 81.44399999999999, 69.702, 72.05199999999999, 79.661, 85.857, 78.723, 81.16, 69.077, 60.81999999999999, 61.483, 67.73700000000001, 64.425, 79.07499999999999, 53.92, 66.098, 74.314, 73.017, 68.74100000000001, 66.825, 69.51, 38.847], \"y\": [7226000.0, 7187000.0, 6983000.0, 6810000.0, 6786000.000000001, 6670000.0, 6574000.0, 6485000.0, 6477000.0, 6269000.0, 6167999.999999998, 6130000.0, 6122999.999999998, 5975000.0, 5890000.0, 5877999.999999999, 5827999.999999998, 5824000.0, 5709000.0, 4885000.0, 4788000.0, 4518000.0], \"type\": \"scatter\"}, {\"marker\": {\"size\": [6797999.999999999, 6455000.0, 5770000.0, 5399000.0, 5360000.0, 5073000.0, 4876000.0, 4307000.0, 3819000.0], \"sizemode\": \"area\", \"sizeref\": 200000}, \"mode\": \"markers\", \"name\": \"Southeastern Asia\", \"text\": [\"Singapore\", \"Thailand\", \"Malaysia\", \"Indonesia\", \"Vietnam\", \"Philippines\", \"Laos\", \"Myanmar\", \"Cambodia\"], \"x\": [102.525, 73.85000000000001, 72.39399999999999, 63.793, 74.67600000000002, 58.114, 54.909, 48.24600000000001, 61.114000000000004], \"y\": [6797999.999999999, 6455000.0, 5770000.0, 5399000.0, 5360000.0, 5073000.0, 4876000.0, 4307000.0, 3819000.0], \"type\": \"scatter\"}, {\"marker\": {\"size\": [6505000.0, 6002999.999999999, 5995000.0, 5888999.999999998, 5855000.0, 5848000.0, 5832999.999999998, 5813000.0, 5791000.0, 5759000.0, 5716000.0, 5589000.0, 5547999.999999999, 5428999.999999998, 5286000.000000001, 5212000.000000002, 5192000.0, 5124000.0, 5122999.999999998, 5098000.0, 5007000.0, 4959000.0, 4949000.0, 4800000.0, 4786000.000000001, 4681000.0, 4350000.0, 4297000.0, 4218000.0], \"sizemode\": \"area\", \"sizeref\": 200000}, \"mode\": \"markers\", \"name\": \"Central and Eastern Europe\", \"text\": [\"Czech Republic\", \"Uzbekistan\", \"Slovakia\", \"Moldova\", \"Kazakhstan\", \"Slovenia\", \"Lithuania\", \"Belarus\", \"Poland\", \"Croatia\", \"Russia\", \"Kosovo\", \"Turkmenistan\", \"Estonia\", \"Kyrgyzstan\", \"Azerbaijan\", \"Montenegro\", \"Romania\", \"Serbia\", \"Latvia\", \"Macedonia\", \"Albania\", \"Bosnia and Herzegovina\", \"Hungary\", \"Tajikistan\", \"Ukraine\", \"Armenia\", \"Georgia\", \"Bulgaria\"], \"x\": [84.483, 59.772000000000006, 78.902, 61.826, 64.36800000000001, 87.337, 73.128, 73.608, 77.903, 78.805, 66.926, 63.132, 53.886, 77.361, 65.08800000000001, 64.045, 72.521, 76.89, 74.836, 72.437, 73.545, 81.325, 79.081, 75.905, 57.37899999999999, 67.39, 72.99, 72.926, 76.649], \"y\": [6505000.0, 6002999.999999999, 5995000.0, 5888999.999999998, 5855000.0, 5848000.0, 5832999.999999998, 5813000.0, 5791000.0, 5759000.0, 5716000.0, 5589000.0, 5547999.999999999, 5428999.999999998, 5286000.000000001, 5212000.000000002, 5192000.0, 5124000.0, 5122999.999999998, 5098000.0, 5007000.0, 4959000.0, 4949000.0, 4800000.0, 4786000.000000001, 4681000.0, 4350000.0, 4297000.0, 4218000.0], \"type\": \"scatter\"}, {\"marker\": {\"size\": [6297999.999999999, 5987000.0, 5984000.0, 5474000.0, 5140000.0, 4874000.0], \"sizemode\": \"area\", \"sizeref\": 200000}, \"mode\": \"markers\", \"name\": \"Eastern Asia\", \"text\": [\"Taiwan\", \"Japan\", \"South Korea\", \"Hong Kong\", \"China\", \"Mongolia\"], \"x\": [87.53, 99.111, 96.538, 101.328, 81.658, 60.268], \"y\": [6297999.999999999, 5987000.0, 5984000.0, 5474000.0, 5140000.0, 4874000.0], \"type\": \"scatter\"}, {\"marker\": {\"size\": [5477000.0, 5268000.0, 5129000.0, 5057000.0, 4971000.0, 4898000.0, 4867000.0, 4642000.0, 4633000.0, 4610000.0, 4571000.000000002, 4550000.0, 4517000.0, 4512000.0, 4507000.0, 4436000.0, 4419000.0, 4369000.0, 4332000.0, 4292000.0, 4252000.0, 4033000.0000000005, 3995000.0, 3989000.0, 3956000.0, 3931000.0, 3904000.0, 3896000.0, 3845000.0, 3781000.0, 3681000.0, 3678000.0, 3667000.0, 3656000.0, 3655000.0, 3587000.0, 3465000.0, 3340000.0, 2905000.0, 2839000.0], \"sizemode\": \"area\", \"sizeref\": 200000}, \"mode\": \"markers\", \"name\": \"Sub-Saharan Africa\", \"text\": [\"Mauritius\", \"Nigeria\", \"Zambia\", \"Somaliland region\", \"Mozambique\", \"Lesotho\", \"Swaziland\", \"South Africa\", \"Ghana\", \"Zimbabwe\", \"Liberia\", \"Sudan\", \"Congo (Kinshasa)\", \"Ethiopia\", \"Sierra Leone\", \"Mauritania\", \"Kenya\", \"Djibouti\", \"Botswana\", \"Malawi\", \"Cameroon\", \"Angola\", \"Mali\", \"Congo (Brazzaville)\", \"Comoros\", \"Uganda\", \"Senegal\", \"Gabon\", \"Niger\", \"Tanzania\", \"Madagascar\", \"Central African Republic\", \"Chad\", \"Guinea\", \"Ivory Coast\", \"Burkina Faso\", \"Rwanda\", \"Benin\", \"Burundi\", \"Togo\"], \"x\": [70.95, 16.007, 29.924, 43.873, 9.131, 7.612000000000001, 7.566000000000001, 27.688000000000002, 40.132, 33.475, 34.201, 36.878, 9.806, 44.055, 0.0, 35.874, 41.435, 36.291000000000004, 4.776, 22.561999999999998, 23.402, 16.683, 20.583000000000002, 31.051000000000002, 36.315, 33.861000000000004, 43.54, 43.372, 29.707, 38.214999999999996, 46.721000000000004, 6.699, 15.010000000000002, 24.009, 15.185, 27.125, 42.864000000000004, 31.91, 22.396, 28.443], \"y\": [5477000.0, 5268000.0, 5129000.0, 5057000.0, 4971000.0, 4898000.0, 4867000.0, 4642000.0, 4633000.0, 4610000.0, 4571000.000000002, 4550000.0, 4517000.0, 4512000.0, 4507000.0, 4436000.0, 4419000.0, 4369000.0, 4332000.0, 4292000.0, 4252000.0, 4033000.0000000005, 3995000.0, 3989000.0, 3956000.0, 3931000.0, 3904000.0, 3896000.0, 3845000.0, 3781000.0, 3681000.0, 3678000.0, 3667000.0, 3656000.0, 3655000.0, 3587000.0, 3465000.0, 3340000.0, 2905000.0, 2839000.0], \"type\": \"scatter\"}, {\"marker\": {\"size\": [5252999.999999999, 5194000.0, 4694000.0, 4565000.0, 4513999.999999998, 4271000.0, 3575000.0], \"sizemode\": \"area\", \"sizeref\": 200000}, \"mode\": \"markers\", \"name\": \"Southern Asia\", \"text\": [\"Bhutan\", \"Pakistan\", \"Bangladesh\", \"India\", \"Nepal\", \"Sri Lanka\", \"Afghanistan\"], \"x\": [57.407, 51.466, 60.163999999999994, 51.52899999999999, 56.87399999999999, 70.806, 30.335], \"y\": [5252999.999999999, 5194000.0, 4694000.0, 4565000.0, 4513999.999999998, 4271000.0, 3575000.0], \"type\": \"scatter\"}], \"name\": \"2015\"}, {\"data\": [{\"marker\": {\"size\": [7526000.0, 7508999.999999998, 7501000.0, 7497999.999999998, 7412999.999999998, 7338999.999999999, 7291000.0, 7119000.0, 6994000.0, 6928999.999999998, 6907000.0, 6871000.0, 6725000.0, 6488000.0, 6478000.0, 6361000.000000002, 5977000.0, 5771000.0, 5546000.0, 5122999.999999998, 5033000.0], \"sizemode\": \"area\", \"sizeref\": 200000}, \"mode\": \"markers\", \"name\": \"Western Europe\", \"text\": [\"Denmark\", \"Switzerland\", \"Iceland\", \"Norway\", \"Finland\", \"Netherlands\", \"Sweden\", \"Austria\", \"Germany\", \"Belgium\", \"Ireland\", \"Luxembourg\", \"United Kingdom\", \"Malta\", \"France\", \"Spain\", \"Italy\", \"North Cyprus\", \"Cyprus\", \"Portugal\", \"Greece\"], \"x\": [79.50399999999999, 86.303, 86.73299999999999, 79.579, 81.09100000000001, 81.23100000000001, 83.121, 80.565, 81.487, 81.95899999999999, 81.455, 84.542, 80.991, 80.315, 83.795, 87.896, 85.102, 84.14200000000001, 84.88, 79.363, 80.029], \"y\": [7526000.0, 7508999.999999998, 7501000.0, 7497999.999999998, 7412999.999999998, 7338999.999999999, 7291000.0, 7119000.0, 6994000.0, 6928999.999999998, 6907000.0, 6871000.0, 6725000.0, 6488000.0, 6478000.0, 6361000.000000002, 5977000.0, 5771000.0, 5546000.0, 5122999.999999998, 5033000.0], \"type\": \"scatter\"}, {\"marker\": {\"size\": [7404000.0, 7104000.0], \"sizemode\": \"area\", \"sizeref\": 200000}, \"mode\": \"markers\", \"name\": \"North America\", \"text\": [\"Canada\", \"United States\"], \"x\": [82.76, 77.9], \"y\": [7404000.0, 7104000.0], \"type\": \"scatter\"}, {\"marker\": {\"size\": [7334000.0, 7313000.0], \"sizemode\": \"area\", \"sizeref\": 200000}, \"mode\": \"markers\", \"name\": \"Australia and New Zealand\", \"text\": [\"New Zealand\", \"Australia\"], \"x\": [83.096, 85.11999999999999], \"y\": [7334000.0, 7313000.0], \"type\": \"scatter\"}, {\"marker\": {\"size\": [7267000.0, 6573000.0, 6379000.0, 6375000.0, 6355000.0, 6239000.0, 6218000.0, 5615000.0, 5388999.999999998, 5303000.0, 5151000.0, 5129000.0, 5045000.0, 4813000.0, 4754000.0, 4575000.0, 4362000.0, 3724000.0, 3069000.0], \"sizemode\": \"area\", \"sizeref\": 200000}, \"mode\": \"markers\", \"name\": \"Middle East and Northern Africa\", \"text\": [\"Israel\", \"United Arab Emirates\", \"Saudi Arabia\", \"Qatar\", \"Algeria\", \"Kuwait\", \"Bahrain\", \"Libya\", \"Turkey\", \"Jordan\", \"Morocco\", \"Lebanon\", \"Tunisia\", \"Iran\", \"Palestinian Territories\", \"Iraq\", \"Egypt\", \"Yemen\", \"Syria\"], \"x\": [84.91700000000002, 72.993, 59.267, 71.723, 61.803999999999995, 63.568999999999996, 65.696, 52.303999999999995, 64.718, 60.711999999999996, 59.471000000000004, 76.171, 59.577000000000005, 64.232, 56.843999999999994, 51.076, 52.11600000000001, 31.048000000000002, 62.99399999999999], \"y\": [7267000.0, 6573000.0, 6379000.0, 6375000.0, 6355000.0, 6239000.0, 6218000.0, 5615000.0, 5388999.999999998, 5303000.0, 5151000.0, 5129000.0, 5045000.0, 4813000.0, 4754000.0, 4575000.0, 4362000.0, 3724000.0, 3069000.0], \"type\": \"scatter\"}, {\"marker\": {\"size\": [7087000.000000002, 7039000.0, 6952000.000000001, 6778000.0, 6705000.0, 6701000.000000001, 6650000.0, 6545000.0, 6481000.0, 6324000.0, 6269000.0, 6167999.999999998, 6084000.0, 6068000.0, 5992000.000000001, 5976000.0, 5956000.0, 5822000.0, 5742999.999999998, 5537999.999999998, 5510000.0, 5155000.0, 4871000.0, 4028000.0000000005], \"sizemode\": \"area\", \"sizeref\": 200000}, \"mode\": \"markers\", \"name\": \"Latin America and Caribbean\", \"text\": [\"Costa Rica\", \"Puerto Rico\", \"Brazil\", \"Mexico\", \"Chile\", \"Panama\", \"Argentina\", \"Uruguay\", \"Colombia\", \"Guatemala\", \"Suriname\", \"Trinidad and Tobago\", \"Venezuela\", \"El Salvador\", \"Nicaragua\", \"Ecuador\", \"Belize\", \"Bolivia\", \"Peru\", \"Paraguay\", \"Jamaica\", \"Dominican Republic\", \"Honduras\", \"Haiti\"], \"x\": [76.146, 77.75800000000001, 61.415, 71.143, 81.88300000000001, 70.83500000000001, 69.711, 72.18299999999999, 59.65899999999999, 54.038999999999994, 50.93300000000001, 52.608, 61.90399999999999, 59.599999999999994, 65.213, 68.613, 45.568999999999996, 46.97, 62.99399999999999, 58.294999999999995, 59.468999999999994, 57.66899999999999, 58.38300000000001, 27.494000000000003], \"y\": [7087000.000000002, 7039000.0, 6952000.000000001, 6778000.0, 6705000.0, 6701000.000000001, 6650000.0, 6545000.0, 6481000.0, 6324000.0, 6269000.0, 6167999.999999998, 6084000.0, 6068000.0, 5992000.000000001, 5976000.0, 5956000.0, 5822000.0, 5742999.999999998, 5537999.999999998, 5510000.0, 5155000.0, 4871000.0, 4028000.0000000005], \"type\": \"scatter\"}, {\"marker\": {\"size\": [6739000.0, 6474000.0, 6005000.0, 5314000.0, 5279000.0, 5061000.0, 4876000.0, 4395000.0, 3907000.0], \"sizemode\": \"area\", \"sizeref\": 200000}, \"mode\": \"markers\", \"name\": \"Southeastern Asia\", \"text\": [\"Singapore\", \"Thailand\", \"Malaysia\", \"Indonesia\", \"Philippines\", \"Vietnam\", \"Laos\", \"Myanmar\", \"Cambodia\"], \"x\": [94.719, 64.915, 62.366, 49.374, 47.03600000000001, 66.157, 38.291, 39.879999999999995, 42.494], \"y\": [6739000.0, 6474000.0, 6005000.0, 5314000.0, 5279000.0, 5061000.0, 4876000.0, 4395000.0, 3907000.0], \"type\": \"scatter\"}, {\"marker\": {\"size\": [6596000.0, 6077999.999999998, 5987000.0, 5919000.0, 5897000.0, 5856000.0, 5835000.0, 5813000.0, 5802000.000000001, 5768000.0, 5658000.0, 5560000.0, 5528000.0, 5517000.0, 5488000.0, 5401000.0, 5291000.0, 5185000.0, 5177000.000000001, 5162999.999999998, 5161000.000000001, 5145000.0, 5121000.0, 4996000.0, 4655000.0, 4360000.0, 4324000.0, 4252000.0, 4217000.0], \"sizemode\": \"area\", \"sizeref\": 200000}, \"mode\": \"markers\", \"name\": \"Central and Eastern Europe\", \"text\": [\"Czech Republic\", \"Slovakia\", \"Uzbekistan\", \"Kazakhstan\", \"Moldova\", \"Russia\", \"Poland\", \"Lithuania\", \"Belarus\", \"Slovenia\", \"Turkmenistan\", \"Latvia\", \"Romania\", \"Estonia\", \"Croatia\", \"Kosovo\", \"Azerbaijan\", \"Kyrgyzstan\", \"Serbia\", \"Bosnia and Herzegovina\", \"Montenegro\", \"Hungary\", \"Macedonia\", \"Tajikistan\", \"Albania\", \"Armenia\", \"Ukraine\", \"Georgia\", \"Bulgaria\"], \"x\": [76.376, 70.367, 50.163000000000004, 57.386, 52.309, 58.99100000000001, 69.05799999999999, 64.67399999999999, 63.10399999999999, 79.15100000000001, 44.006000000000014, 63.952, 67.60199999999999, 68.098, 70.524, 54.0, 54.504, 55.44899999999999, 64.58, 70.766, 63.53300000000001, 67.608, 64.738, 53.11899999999999, 73.007, 64.083, 58.628, 64.035, 67.806], \"y\": [6596000.0, 6077999.999999998, 5987000.0, 5919000.0, 5897000.0, 5856000.0, 5835000.0, 5813000.0, 5802000.000000001, 5768000.0, 5658000.0, 5560000.0, 5528000.0, 5517000.0, 5488000.0, 5401000.0, 5291000.0, 5185000.0, 5177000.000000001, 5162999.999999998, 5161000.000000001, 5145000.0, 5121000.0, 4996000.0, 4655000.0, 4360000.0, 4324000.0, 4252000.0, 4217000.0], \"type\": \"scatter\"}, {\"marker\": {\"size\": [6379000.0, 5921000.0, 5835000.0, 5457999.999999998, 5245000.0, 4907000.0], \"sizemode\": \"area\", \"sizeref\": 200000}, \"mode\": \"markers\", \"name\": \"Eastern Asia\", \"text\": [\"Taiwan\", \"Japan\", \"South Korea\", \"Hong Kong\", \"China\", \"Mongolia\"], \"x\": [79.565, 91.491, 88.645, 95.277, 73.56099999999999, 55.469], \"y\": [6379000.0, 5921000.0, 5835000.0, 5457999.999999998, 5245000.0, 4907000.0], \"type\": \"scatter\"}, {\"marker\": {\"size\": [5648000.0, 5440000.0, 5057000.0, 4875000.0, 4795000.0, 4635000.0, 4574000.0, 4513000.0, 4508000.0, 4459000.0, 4356000.0, 4276000.0, 4272000.0, 4236000.000000002, 4218999.999999998, 4201000.000000001, 4193000.0000000005, 4156000.0000000014, 4138999.9999999986, 4121000.0000000005, 4073000.0000000005, 3974000.0, 3956000.0, 3916000.0, 3866000.0, 3856000.0, 3832000.0, 3763000.0, 3739000.0, 3739000.0, 3695000.0, 3666000.0, 3622000.0, 3607000.0, 3515000.0, 3484000.0, 3303000.0, 2905000.0], \"sizemode\": \"area\", \"sizeref\": 200000}, \"mode\": \"markers\", \"name\": \"Sub-Saharan Africa\", \"text\": [\"Mauritius\", \"Somalia\", \"Somaliland Region\", \"Nigeria\", \"Zambia\", \"Sierra Leone\", \"Namibia\", \"Cameroon\", \"Ethiopia\", \"South Africa\", \"Kenya\", \"Ghana\", \"Congo (Kinshasa)\", \"Congo (Brazzaville)\", \"Senegal\", \"Mauritania\", \"Zimbabwe\", \"Malawi\", \"Sudan\", \"Gabon\", \"Mali\", \"Botswana\", \"Comoros\", \"Ivory Coast\", \"Angola\", \"Niger\", \"South Sudan\", \"Chad\", \"Burkina Faso\", \"Uganda\", \"Madagascar\", \"Tanzania\", \"Liberia\", \"Guinea\", \"Rwanda\", \"Benin\", \"Togo\", \"Burundi\"], \"x\": [66.189, 11.465999999999998, 33.108000000000004, 5.108, 23.573, 0.0, 34.745, 12.697999999999999, 34.578, 18.611, 30.147000000000002, 29.681, 18.8, 28.212, 40.457, 28.639000000000003, 15.950000000000001, 29.364, 29.759, 34.94, 16.347, 34.752, 29.981, 4.476, 4.9910000000000005, 26.162000000000003, 15.780999999999997, 3.8240000000000003, 21.297, 19.625, 37.108999999999995, 35.7, 23.165, 18.829, 31.865, 21.028, 24.811, 15.747], \"y\": [5648000.0, 5440000.0, 5057000.0, 4875000.0, 4795000.0, 4635000.0, 4574000.0, 4513000.0, 4508000.0, 4459000.0, 4356000.0, 4276000.0, 4272000.0, 4236000.000000002, 4218999.999999998, 4201000.000000001, 4193000.0000000005, 4156000.0000000014, 4138999.9999999986, 4121000.0000000005, 4073000.0000000005, 3974000.0, 3956000.0, 3916000.0, 3866000.0, 3856000.0, 3832000.0, 3763000.0, 3739000.0, 3739000.0, 3695000.0, 3666000.0, 3622000.0, 3607000.0, 3515000.0, 3484000.0, 3303000.0, 2905000.0], \"type\": \"scatter\"}, {\"marker\": {\"size\": [5196000.000000002, 5132000.000000002, 4793000.0, 4643000.0, 4415000.0, 4404000.0, 3360000.0], \"sizemode\": \"area\", \"sizeref\": 200000}, \"mode\": \"markers\", \"name\": \"Southern Asia\", \"text\": [\"Bhutan\", \"Pakistan\", \"Nepal\", \"Bangladesh\", \"Sri Lanka\", \"India\", \"Afghanistan\"], \"x\": [49.759, 40.306, 50.073, 52.989, 62.007, 45.091, 17.344], \"y\": [5196000.000000002, 5132000.000000002, 4793000.0, 4643000.0, 4415000.0, 4404000.0, 3360000.0], \"type\": \"scatter\"}], \"name\": \"2016\"}]);}).then(function(){Plotly.animate('775873d3-340c-46b3-814a-5be28cadda4c');})\n",
       "    }\n",
       "        });</script><script type=\"text/javascript\">window.addEventListener(\"resize\", function(){if (document.getElementById(\"775873d3-340c-46b3-814a-5be28cadda4c\")) {window._Plotly.Plots.resize(document.getElementById(\"775873d3-340c-46b3-814a-5be28cadda4c\"));};})</script>"
      ]
     },
     "metadata": {},
     "output_type": "display_data"
    }
   ],
   "source": [
    "from plotly.offline import init_notebook_mode, iplot\n",
    "from IPython.display import display, HTML\n",
    "init_notebook_mode(connected=True)\n",
    "\n",
    "\n",
    "years = ['2015','2016']\n",
    "# make list of Regions\n",
    "Regions = []\n",
    "for Region in dataset['Region']:\n",
    "    if Region not in Regions:\n",
    "        Regions.append(Region)\n",
    "# make figure\n",
    "figure = {\n",
    "    'data': [],\n",
    "    'layout': {},\n",
    "    'frames': []\n",
    "}\n",
    "\n",
    "# fill in most of layout\n",
    "figure['layout']['title'] = 'Does Happiness make people healthier?'\n",
    "figure['layout']['xaxis'] = {'range': [30, 85], 'title': 'Health'}\n",
    "figure['layout']['yaxis'] = {'title': 'Happiness Score', 'type': 'log'}\n",
    "figure['layout']['hovermode'] = 'closest'\n",
    "figure['layout']['sliders'] = {\n",
    "    'args': [\n",
    "        'transition', {\n",
    "            'duration': 500,\n",
    "            'easing': 'cubic-in-out'\n",
    "        }\n",
    "    ],\n",
    "    'initialValue': '2002',\n",
    "    'plotlycommand': 'animate',\n",
    "    'values': years,\n",
    "    'visible': True\n",
    "}\n",
    "figure['layout']['updatemenus'] = [\n",
    "    {\n",
    "        'buttons': [\n",
    "            {\n",
    "                'args': [None, {'frame': {'duration': 500, 'redraw': False},\n",
    "                         'fromcurrent': True, 'transition': {'duration': 300, 'easing': 'quadratic-in-out'}}],\n",
    "                'label': 'Play',\n",
    "                'method': 'animate'\n",
    "            },\n",
    "            {\n",
    "                'args': [[None], {'frame': {'duration': 0, 'redraw': False}, 'mode': 'immediate',\n",
    "                'transition': {'duration': 0}}],\n",
    "                'label': 'Pause',\n",
    "                'method': 'animate'\n",
    "            }\n",
    "        ],\n",
    "        'direction': 'left',\n",
    "        'pad': {'r': 10, 't': 87},\n",
    "        'showactive': False,\n",
    "        'type': 'buttons',\n",
    "        'x': 0.1,\n",
    "        'xanchor': 'right',\n",
    "        'y': 0,\n",
    "        'yanchor': 'top'\n",
    "    }\n",
    "]\n",
    "\n",
    "sliders_dict = {\n",
    "    'active': 0,\n",
    "    'yanchor': 'top',\n",
    "    'xanchor': 'left',\n",
    "    'currentvalue': {\n",
    "        'font': {'size': 20},\n",
    "        'prefix': 'Year:',\n",
    "        'visible': True,\n",
    "        'xanchor': 'right'\n",
    "    },\n",
    "    'transition': {'duration': 300, 'easing': 'cubic-in-out'},\n",
    "    'pad': {'b': 10, 't': 50},\n",
    "    'len': 0.9,\n",
    "    'x': 0.1,\n",
    "    'y': 0,\n",
    "    'steps': []\n",
    "}\n",
    "\n",
    "# make data\n",
    "year = 1952\n",
    "for Region in Regions:\n",
    "    dataset_by_year = dataset[dataset['year'] == year]\n",
    "    dataset_by_year_and_cont = dataset_by_year[dataset_by_year['Region'] == Region]\n",
    "\n",
    "    data_dict = {\n",
    "        'x': list(dataset_by_year_and_cont['health']),\n",
    "        'y': list(dataset_by_year_and_cont['HappinessScore']),\n",
    "        'mode': 'markers',\n",
    "        'text': list(dataset_by_year_and_cont['Country']),\n",
    "        'marker': {\n",
    "            'sizemode': 'area',\n",
    "            'sizeref': 200000,\n",
    "            'size': list(dataset_by_year_and_cont['HappinessScore'])\n",
    "        },\n",
    "        'name': Region\n",
    "    }\n",
    "    figure['data'].append(data_dict)\n",
    "    \n",
    "# make frames\n",
    "for year in years:\n",
    "    frame = {'data': [], 'name': str(year)}\n",
    "    for Region in Regions:\n",
    "        dataset_by_year = dataset[dataset['year'] == int(year)]\n",
    "        dataset_by_year_and_cont = dataset_by_year[dataset_by_year['Region'] == Region]\n",
    "\n",
    "        data_dict = {\n",
    "            'x': list(dataset_by_year_and_cont['health']),\n",
    "            'y': list(dataset_by_year_and_cont['HappinessScore']),\n",
    "            'mode': 'markers',\n",
    "            'text': list(dataset_by_year_and_cont['Country']),\n",
    "            'marker': {\n",
    "                'sizemode': 'area',\n",
    "                'sizeref': 200000,\n",
    "                'size': list(dataset_by_year_and_cont['HappinessScore'])\n",
    "            },\n",
    "            'name': Region\n",
    "        }\n",
    "        frame['data'].append(data_dict)\n",
    "\n",
    "    figure['frames'].append(frame)\n",
    "    slider_step = {'args': [\n",
    "        [year],\n",
    "        {'frame': {'duration': 300, 'redraw': False},\n",
    "         'mode': 'immediate',\n",
    "       'transition': {'duration': 300}}\n",
    "     ],\n",
    "     'label': year,\n",
    "     'method': 'animate'}\n",
    "    sliders_dict['steps'].append(slider_step)\n",
    "\n",
    "    \n",
    "figure['layout']['sliders'] = [sliders_dict]\n",
    "\n",
    "iplot(figure)\n"
   ]
  },
  {
   "cell_type": "markdown",
   "metadata": {
    "slideshow": {
     "slide_type": "slide"
    }
   },
   "source": [
    "## Merge 2 datasets"
   ]
  },
  {
   "cell_type": "code",
   "execution_count": 54,
   "metadata": {
    "slideshow": {
     "slide_type": "slide"
    }
   },
   "outputs": [
    {
     "data": {
      "text/html": [
       "<div>\n",
       "<table border=\"1\" class=\"dataframe\">\n",
       "  <thead>\n",
       "    <tr style=\"text-align: right;\">\n",
       "      <th></th>\n",
       "      <th>year_x</th>\n",
       "      <th>ISO_Code</th>\n",
       "      <th>Country</th>\n",
       "      <th>pf_score</th>\n",
       "      <th>ef_score</th>\n",
       "      <th>hf_score</th>\n",
       "      <th>hf_rank</th>\n",
       "      <th>HF_quartile</th>\n",
       "      <th>HF_class</th>\n",
       "      <th>Region</th>\n",
       "      <th>...</th>\n",
       "      <th>HappinessScore</th>\n",
       "      <th>Economy</th>\n",
       "      <th>Family</th>\n",
       "      <th>health</th>\n",
       "      <th>Freedom</th>\n",
       "      <th>Trust</th>\n",
       "      <th>Generosity</th>\n",
       "      <th>Dystopia Residual</th>\n",
       "      <th>year_y</th>\n",
       "      <th>WH_class</th>\n",
       "    </tr>\n",
       "  </thead>\n",
       "  <tbody>\n",
       "    <tr>\n",
       "      <th>0</th>\n",
       "      <td>2015</td>\n",
       "      <td>ALB</td>\n",
       "      <td>Albania</td>\n",
       "      <td>7.78</td>\n",
       "      <td>7.54</td>\n",
       "      <td>7.66</td>\n",
       "      <td>47.0</td>\n",
       "      <td>2.0</td>\n",
       "      <td>High</td>\n",
       "      <td>Central and Eastern Europe</td>\n",
       "      <td>...</td>\n",
       "      <td>4959000.0</td>\n",
       "      <td>0.87867</td>\n",
       "      <td>0.80434</td>\n",
       "      <td>81.325</td>\n",
       "      <td>0.35733</td>\n",
       "      <td>0.06413</td>\n",
       "      <td>0.14272</td>\n",
       "      <td>1.89894</td>\n",
       "      <td>2015</td>\n",
       "      <td>Low</td>\n",
       "    </tr>\n",
       "    <tr>\n",
       "      <th>1</th>\n",
       "      <td>2015</td>\n",
       "      <td>ALB</td>\n",
       "      <td>Albania</td>\n",
       "      <td>7.78</td>\n",
       "      <td>7.54</td>\n",
       "      <td>7.66</td>\n",
       "      <td>47.0</td>\n",
       "      <td>2.0</td>\n",
       "      <td>High</td>\n",
       "      <td>Central and Eastern Europe</td>\n",
       "      <td>...</td>\n",
       "      <td>4655000.0</td>\n",
       "      <td>0.95530</td>\n",
       "      <td>0.50163</td>\n",
       "      <td>73.007</td>\n",
       "      <td>0.31866</td>\n",
       "      <td>0.05301</td>\n",
       "      <td>0.16840</td>\n",
       "      <td>1.92816</td>\n",
       "      <td>2016</td>\n",
       "      <td>Low</td>\n",
       "    </tr>\n",
       "    <tr>\n",
       "      <th>2</th>\n",
       "      <td>2014</td>\n",
       "      <td>ALB</td>\n",
       "      <td>Albania</td>\n",
       "      <td>7.61</td>\n",
       "      <td>7.48</td>\n",
       "      <td>7.54</td>\n",
       "      <td>50.0</td>\n",
       "      <td>2.0</td>\n",
       "      <td>High</td>\n",
       "      <td>Central and Eastern Europe</td>\n",
       "      <td>...</td>\n",
       "      <td>4959000.0</td>\n",
       "      <td>0.87867</td>\n",
       "      <td>0.80434</td>\n",
       "      <td>81.325</td>\n",
       "      <td>0.35733</td>\n",
       "      <td>0.06413</td>\n",
       "      <td>0.14272</td>\n",
       "      <td>1.89894</td>\n",
       "      <td>2015</td>\n",
       "      <td>Low</td>\n",
       "    </tr>\n",
       "    <tr>\n",
       "      <th>3</th>\n",
       "      <td>2014</td>\n",
       "      <td>ALB</td>\n",
       "      <td>Albania</td>\n",
       "      <td>7.61</td>\n",
       "      <td>7.48</td>\n",
       "      <td>7.54</td>\n",
       "      <td>50.0</td>\n",
       "      <td>2.0</td>\n",
       "      <td>High</td>\n",
       "      <td>Central and Eastern Europe</td>\n",
       "      <td>...</td>\n",
       "      <td>4655000.0</td>\n",
       "      <td>0.95530</td>\n",
       "      <td>0.50163</td>\n",
       "      <td>73.007</td>\n",
       "      <td>0.31866</td>\n",
       "      <td>0.05301</td>\n",
       "      <td>0.16840</td>\n",
       "      <td>1.92816</td>\n",
       "      <td>2016</td>\n",
       "      <td>Low</td>\n",
       "    </tr>\n",
       "    <tr>\n",
       "      <th>4</th>\n",
       "      <td>2013</td>\n",
       "      <td>ALB</td>\n",
       "      <td>Albania</td>\n",
       "      <td>7.43</td>\n",
       "      <td>7.24</td>\n",
       "      <td>7.34</td>\n",
       "      <td>55.0</td>\n",
       "      <td>2.0</td>\n",
       "      <td>High</td>\n",
       "      <td>Central and Eastern Europe</td>\n",
       "      <td>...</td>\n",
       "      <td>4959000.0</td>\n",
       "      <td>0.87867</td>\n",
       "      <td>0.80434</td>\n",
       "      <td>81.325</td>\n",
       "      <td>0.35733</td>\n",
       "      <td>0.06413</td>\n",
       "      <td>0.14272</td>\n",
       "      <td>1.89894</td>\n",
       "      <td>2015</td>\n",
       "      <td>Low</td>\n",
       "    </tr>\n",
       "  </tbody>\n",
       "</table>\n",
       "<p>5 rows × 21 columns</p>\n",
       "</div>"
      ],
      "text/plain": [
       "   year_x ISO_Code  Country  pf_score  ef_score  hf_score  hf_rank  \\\n",
       "0    2015      ALB  Albania      7.78      7.54      7.66     47.0   \n",
       "1    2015      ALB  Albania      7.78      7.54      7.66     47.0   \n",
       "2    2014      ALB  Albania      7.61      7.48      7.54     50.0   \n",
       "3    2014      ALB  Albania      7.61      7.48      7.54     50.0   \n",
       "4    2013      ALB  Albania      7.43      7.24      7.34     55.0   \n",
       "\n",
       "   HF_quartile HF_class                      Region    ...     HappinessScore  \\\n",
       "0          2.0     High  Central and Eastern Europe    ...          4959000.0   \n",
       "1          2.0     High  Central and Eastern Europe    ...          4655000.0   \n",
       "2          2.0     High  Central and Eastern Europe    ...          4959000.0   \n",
       "3          2.0     High  Central and Eastern Europe    ...          4655000.0   \n",
       "4          2.0     High  Central and Eastern Europe    ...          4959000.0   \n",
       "\n",
       "   Economy   Family  health  Freedom    Trust  Generosity  Dystopia Residual  \\\n",
       "0  0.87867  0.80434  81.325  0.35733  0.06413     0.14272            1.89894   \n",
       "1  0.95530  0.50163  73.007  0.31866  0.05301     0.16840            1.92816   \n",
       "2  0.87867  0.80434  81.325  0.35733  0.06413     0.14272            1.89894   \n",
       "3  0.95530  0.50163  73.007  0.31866  0.05301     0.16840            1.92816   \n",
       "4  0.87867  0.80434  81.325  0.35733  0.06413     0.14272            1.89894   \n",
       "\n",
       "   year_y  WH_class  \n",
       "0    2015       Low  \n",
       "1    2016       Low  \n",
       "2    2015       Low  \n",
       "3    2016       Low  \n",
       "4    2015       Low  \n",
       "\n",
       "[5 rows x 21 columns]"
      ]
     },
     "execution_count": 54,
     "metadata": {},
     "output_type": "execute_result"
    }
   ],
   "source": [
    "#merged_dataset= pd.merge(hf_df_new,wh_df_new, on='Country')\n",
    "\n",
    "merged_dataset = pd.merge(hf_df_new,wh_df_new, on=['Country'])\n",
    "\n",
    "\n",
    "merged_dataset.head()"
   ]
  },
  {
   "cell_type": "code",
   "execution_count": 55,
   "metadata": {
    "slideshow": {
     "slide_type": "skip"
    }
   },
   "outputs": [
    {
     "data": {
      "text/plain": [
       "Index(['year_x', 'ISO_Code', 'Country', 'pf_score', 'ef_score', 'hf_score',\n",
       "       'hf_rank', 'HF_quartile', 'HF_class', 'Region', 'HappinessRank',\n",
       "       'HappinessScore', 'Economy', 'Family', 'health', 'Freedom', 'Trust',\n",
       "       'Generosity', 'Dystopia Residual', 'year_y', 'WH_class'],\n",
       "      dtype='object')"
      ]
     },
     "execution_count": 55,
     "metadata": {},
     "output_type": "execute_result"
    }
   ],
   "source": [
    "merged_dataset.head()\n",
    "merged_dataset.columns"
   ]
  },
  {
   "cell_type": "code",
   "execution_count": 56,
   "metadata": {
    "slideshow": {
     "slide_type": "skip"
    }
   },
   "outputs": [],
   "source": [
    "#Here I will try to check how happy countries differs than less happier countries in hf, pf expression and ef score\n",
    "#extract total sum of the scores for viz purposes \n",
    "#High\n",
    "High_hf_score_total = int(merged_dataset[merged_dataset['WH_class']==\"High\"]['hf_score'].sum())\n",
    "High_pf_expression_total = int(merged_dataset[merged_dataset['WH_class']==\"High\"]['pf_score'].sum())\n",
    "High_ef_score_total = int(merged_dataset[merged_dataset['WH_class']==\"High\"]['ef_score'].sum())\n",
    "#Med\n",
    "Med_hf_score_total = merged_dataset[merged_dataset['WH_class']==\"Med\"]['hf_score'].sum()\n",
    "Med_pf_expression_total = merged_dataset[merged_dataset['WH_class']==\"Med\"]['pf_score'].sum()\n",
    "Med_ef_score_total = merged_dataset[merged_dataset['WH_class']==\"Med\"]['ef_score'].sum()\n",
    "#Low\n",
    "Low_hf_score_total = merged_dataset[merged_dataset['WH_class']==\"Low\"]['hf_score'].sum()\n",
    "Low_pf_expression_total = merged_dataset[merged_dataset['WH_class']==\"Low\"]['pf_score'].sum()\n",
    "Low_ef_score_total = merged_dataset[merged_dataset['WH_class']==\"Low\"]['ef_score'].sum()"
   ]
  },
  {
   "cell_type": "code",
   "execution_count": 57,
   "metadata": {
    "slideshow": {
     "slide_type": "skip"
    }
   },
   "outputs": [
    {
     "data": {
      "text/plain": [
       "3767"
      ]
     },
     "execution_count": 57,
     "metadata": {},
     "output_type": "execute_result"
    }
   ],
   "source": [
    "High_hf_score_total"
   ]
  },
  {
   "cell_type": "code",
   "execution_count": 58,
   "metadata": {
    "slideshow": {
     "slide_type": "notes"
    }
   },
   "outputs": [
    {
     "data": {
      "text/html": [
       "<script type=\"text/javascript\">window.PlotlyConfig = {MathJaxConfig: 'local'};</script><script type=\"text/javascript\">if (window.MathJax) {MathJax.Hub.Config({SVG: {font: \"STIX-Web\"}});}</script><script>requirejs.config({paths: { 'plotly': ['https://cdn.plot.ly/plotly-latest.min']},});if(!window._Plotly) {require(['plotly'],function(plotly) {window._Plotly=plotly;});}</script>"
      ],
      "text/vnd.plotly.v1+html": [
       "<script type=\"text/javascript\">window.PlotlyConfig = {MathJaxConfig: 'local'};</script><script type=\"text/javascript\">if (window.MathJax) {MathJax.Hub.Config({SVG: {font: \"STIX-Web\"}});}</script><script>requirejs.config({paths: { 'plotly': ['https://cdn.plot.ly/plotly-latest.min']},});if(!window._Plotly) {require(['plotly'],function(plotly) {window._Plotly=plotly;});}</script>"
      ]
     },
     "metadata": {},
     "output_type": "display_data"
    },
    {
     "data": {
      "application/vnd.plotly.v1+json": {
       "config": {
        "linkText": "Export to plot.ly",
        "plotlyServerURL": "https://plot.ly",
        "showLink": false
       },
       "data": [
        {
         "fill": "toself",
         "name": "Med Level of Happiness",
         "r": [
          6569.873848684209,
          6754.388848684215,
          6385.334769736847
         ],
         "theta": [
          "Human Freedom Score",
          "Personal Freedom Score",
          "Economic Freedom Score"
         ],
         "type": "scatterpolar",
         "uid": "377ce220-9536-4280-94a0-8124c3e39c08"
        },
        {
         "fill": "toself",
         "name": "Low Level of Happiness",
         "r": [
          5287.4399013157845,
          5357.18490131578,
          5218.083980263154
         ],
         "theta": [
          "Human Freedom Score",
          "Personal Freedom Score",
          "Economic Freedom Score"
         ],
         "type": "scatterpolar",
         "uid": "a604bc48-68c3-4c26-9f75-2a15aa8e051b"
        },
        {
         "fill": "toself",
         "name": "High Level of Happiness",
         "r": [
          3767,
          4015,
          3519
         ],
         "theta": [
          "Human Freedom Score",
          "Personal Freedom Score",
          "Economic Freedom Score"
         ],
         "type": "scatterpolar",
         "uid": "d989e3ca-dc19-425e-b7bb-b385a4534f8d"
        }
       ],
       "layout": {
        "polar": {
         "radialaxis": {
          "range": [
           0,
           10000
          ],
          "visible": true
         }
        },
        "showlegend": true,
        "title": {
         "text": "How different scores of freedoms affects world happiness?"
        }
       }
      },
      "text/html": [
       "<div id=\"fe112f5e-d51a-4417-916d-f3f5ba52a025\" style=\"height: 525px; width: 100%;\" class=\"plotly-graph-div\"></div><script type=\"text/javascript\">require([\"plotly\"], function(Plotly) { window.PLOTLYENV=window.PLOTLYENV || {};window.PLOTLYENV.BASE_URL=\"https://plot.ly\";\n",
       "if (document.getElementById(\"fe112f5e-d51a-4417-916d-f3f5ba52a025\")) {\n",
       "    Plotly.newPlot(\"fe112f5e-d51a-4417-916d-f3f5ba52a025\", [{\"fill\": \"toself\", \"name\": \"Med Level of Happiness\", \"r\": [6569.873848684209, 6754.388848684215, 6385.334769736847], \"theta\": [\"Human Freedom Score\", \"Personal Freedom Score\", \"Economic Freedom Score\"], \"type\": \"scatterpolar\", \"uid\": \"377ce220-9536-4280-94a0-8124c3e39c08\"}, {\"fill\": \"toself\", \"name\": \"Low Level of Happiness\", \"r\": [5287.4399013157845, 5357.18490131578, 5218.083980263154], \"theta\": [\"Human Freedom Score\", \"Personal Freedom Score\", \"Economic Freedom Score\"], \"type\": \"scatterpolar\", \"uid\": \"a604bc48-68c3-4c26-9f75-2a15aa8e051b\"}, {\"fill\": \"toself\", \"name\": \"High Level of Happiness\", \"r\": [3767, 4015, 3519], \"theta\": [\"Human Freedom Score\", \"Personal Freedom Score\", \"Economic Freedom Score\"], \"type\": \"scatterpolar\", \"uid\": \"d989e3ca-dc19-425e-b7bb-b385a4534f8d\"}], {\"polar\": {\"radialaxis\": {\"range\": [0, 10000], \"visible\": true}}, \"showlegend\": true, \"title\": {\"text\": \"How different scores of freedoms affects world happiness?\"}}, {\"showLink\": false, \"linkText\": \"Export to plot.ly\", \"plotlyServerURL\": \"https://plot.ly\"}); \n",
       "}\n",
       "});</script><script type=\"text/javascript\">window.addEventListener(\"resize\", function(){if (document.getElementById(\"fe112f5e-d51a-4417-916d-f3f5ba52a025\")) {window._Plotly.Plots.resize(document.getElementById(\"fe112f5e-d51a-4417-916d-f3f5ba52a025\"));};})</script>"
      ],
      "text/vnd.plotly.v1+html": [
       "<div id=\"fe112f5e-d51a-4417-916d-f3f5ba52a025\" style=\"height: 525px; width: 100%;\" class=\"plotly-graph-div\"></div><script type=\"text/javascript\">require([\"plotly\"], function(Plotly) { window.PLOTLYENV=window.PLOTLYENV || {};window.PLOTLYENV.BASE_URL=\"https://plot.ly\";\n",
       "if (document.getElementById(\"fe112f5e-d51a-4417-916d-f3f5ba52a025\")) {\n",
       "    Plotly.newPlot(\"fe112f5e-d51a-4417-916d-f3f5ba52a025\", [{\"fill\": \"toself\", \"name\": \"Med Level of Happiness\", \"r\": [6569.873848684209, 6754.388848684215, 6385.334769736847], \"theta\": [\"Human Freedom Score\", \"Personal Freedom Score\", \"Economic Freedom Score\"], \"type\": \"scatterpolar\", \"uid\": \"377ce220-9536-4280-94a0-8124c3e39c08\"}, {\"fill\": \"toself\", \"name\": \"Low Level of Happiness\", \"r\": [5287.4399013157845, 5357.18490131578, 5218.083980263154], \"theta\": [\"Human Freedom Score\", \"Personal Freedom Score\", \"Economic Freedom Score\"], \"type\": \"scatterpolar\", \"uid\": \"a604bc48-68c3-4c26-9f75-2a15aa8e051b\"}, {\"fill\": \"toself\", \"name\": \"High Level of Happiness\", \"r\": [3767, 4015, 3519], \"theta\": [\"Human Freedom Score\", \"Personal Freedom Score\", \"Economic Freedom Score\"], \"type\": \"scatterpolar\", \"uid\": \"d989e3ca-dc19-425e-b7bb-b385a4534f8d\"}], {\"polar\": {\"radialaxis\": {\"range\": [0, 10000], \"visible\": true}}, \"showlegend\": true, \"title\": {\"text\": \"How different scores of freedoms affects world happiness?\"}}, {\"showLink\": false, \"linkText\": \"Export to plot.ly\", \"plotlyServerURL\": \"https://plot.ly\"}); \n",
       "}\n",
       "});</script><script type=\"text/javascript\">window.addEventListener(\"resize\", function(){if (document.getElementById(\"fe112f5e-d51a-4417-916d-f3f5ba52a025\")) {window._Plotly.Plots.resize(document.getElementById(\"fe112f5e-d51a-4417-916d-f3f5ba52a025\"));};})</script>"
      ]
     },
     "metadata": {},
     "output_type": "display_data"
    }
   ],
   "source": [
    "from plotly.offline import init_notebook_mode, iplot\n",
    "from IPython.display import display, HTML\n",
    "init_notebook_mode(connected=True)\n",
    "import plotly.graph_objs as go\n",
    "\n",
    "data = [\n",
    "    go.Scatterpolar(\n",
    "      r = [Med_hf_score_total,Med_pf_expression_total,Med_ef_score_total],\n",
    "  theta = ['Human Freedom Score','Personal Freedom Score','Economic Freedom Score'],\n",
    "      fill = 'toself',\n",
    "      name = 'Med Level of Happiness'\n",
    "    ),\n",
    "     go.Scatterpolar(\n",
    "      r = [Low_hf_score_total,Low_pf_expression_total,Low_ef_score_total],\n",
    "  theta = ['Human Freedom Score','Personal Freedom Score','Economic Freedom Score'],\n",
    "      fill = 'toself',\n",
    "      name = 'Low Level of Happiness'\n",
    "    ),\n",
    "    go.Scatterpolar(\n",
    "  r = [High_hf_score_total,High_pf_expression_total,High_ef_score_total],\n",
    "  theta = ['Human Freedom Score','Personal Freedom Score','Economic Freedom Score'],\n",
    "  fill = 'toself' ,\n",
    "              name = 'High Level of Happiness'\n",
    "\n",
    ")\n",
    "\n",
    "\n",
    "]\n",
    "layout = go.Layout(\n",
    "            title='How different scores of freedoms affects world happiness?',\n",
    "  polar = dict(\n",
    "    radialaxis = dict(\n",
    "      visible = True,\n",
    "              range = [0, 10000],\n",
    "\n",
    "    )\n",
    "  ),\n",
    "  showlegend = True\n",
    ")\n",
    "\n",
    "\n",
    "fig = go.Figure(data=data, layout=layout)\n",
    "iplot(fig, filename = \"radar/multiple\")"
   ]
  },
  {
   "cell_type": "code",
   "execution_count": 59,
   "metadata": {
    "slideshow": {
     "slide_type": "notes"
    }
   },
   "outputs": [
    {
     "data": {
      "application/vnd.plotly.v1+json": {
       "config": {
        "linkText": "Export to plot.ly",
        "plotlyServerURL": "https://plot.ly",
        "showLink": false
       },
       "data": [
        {
         "colorscale": "Viridis",
         "text": [
          [
           1,
           -0.07,
           0.03,
           -0.03,
           0.06,
           0,
           0,
           0,
           0,
           0,
           0,
           0,
           0,
           0,
           0,
           0
          ],
          [
           -0.07,
           1,
           0.64,
           0.94,
           -0.94,
           -0.91,
           -0.54,
           0.56,
           0.51,
           0.51,
           0.59,
           0.34,
           0.19,
           0.11,
           0.11,
           0.02
          ],
          [
           0.03,
           0.64,
           1,
           0.86,
           -0.83,
           -0.79,
           -0.51,
           0.51,
           0.57,
           0.43,
           0.6,
           0.44,
           0.37,
           0.17,
           -0.05,
           0.01
          ],
          [
           -0.03,
           0.94,
           0.86,
           1,
           -0.99,
           -0.94,
           -0.58,
           0.59,
           0.59,
           0.52,
           0.65,
           0.42,
           0.28,
           0.15,
           0.05,
           0.02
          ],
          [
           0.06,
           -0.94,
           -0.83,
           -0.99,
           1,
           0.97,
           0.59,
           -0.6,
           -0.59,
           -0.52,
           -0.66,
           -0.4,
           -0.27,
           -0.17,
           -0.06,
           -0.02
          ],
          [
           0,
           -0.91,
           -0.79,
           -0.94,
           0.97,
           1,
           0.58,
           -0.58,
           -0.58,
           -0.51,
           -0.65,
           -0.37,
           -0.22,
           -0.16,
           -0.06,
           -0.02
          ],
          [
           0,
           -0.54,
           -0.51,
           -0.58,
           0.59,
           0.58,
           1,
           -0.99,
           -0.79,
           -0.68,
           -0.73,
           -0.54,
           -0.41,
           -0.15,
           -0.55,
           -0.01
          ],
          [
           0,
           0.56,
           0.51,
           0.59,
           -0.6,
           -0.58,
           -0.99,
           1,
           0.79,
           0.69,
           0.73,
           0.55,
           0.43,
           0.17,
           0.55,
           0
          ],
          [
           0,
           0.51,
           0.57,
           0.59,
           -0.59,
           -0.58,
           -0.79,
           0.79,
           1,
           0.58,
           0.78,
           0.33,
           0.36,
           0.01,
           0.11,
           0.14
          ],
          [
           0,
           0.51,
           0.43,
           0.52,
           -0.52,
           -0.51,
           -0.68,
           0.69,
           0.58,
           1,
           0.56,
           0.48,
           0.21,
           0.08,
           0.07,
           -0.34
          ],
          [
           0,
           0.59,
           0.6,
           0.65,
           -0.66,
           -0.65,
           -0.73,
           0.73,
           0.78,
           0.56,
           1,
           0.37,
           0.31,
           0.1,
           0.04,
           -0.15
          ],
          [
           0,
           0.34,
           0.44,
           0.42,
           -0.4,
           -0.37,
           -0.54,
           0.55,
           0.33,
           0.48,
           0.37,
           1,
           0.51,
           0.37,
           0.04,
           -0.2
          ],
          [
           0,
           0.19,
           0.37,
           0.28,
           -0.27,
           -0.22,
           -0.41,
           0.43,
           0.36,
           0.21,
           0.31,
           0.51,
           1,
           0.29,
           -0.03,
           -0.02
          ],
          [
           0,
           0.11,
           0.17,
           0.15,
           -0.17,
           -0.16,
           -0.15,
           0.17,
           0.01,
           0.08,
           0.1,
           0.37,
           0.29,
           1,
           -0.14,
           0.01
          ],
          [
           0,
           0.11,
           -0.05,
           0.05,
           -0.06,
           -0.06,
           -0.55,
           0.55,
           0.11,
           0.07,
           0.04,
           0.04,
           -0.03,
           -0.14,
           1,
           0.19
          ],
          [
           0,
           0.02,
           0.01,
           0.02,
           -0.02,
           -0.02,
           -0.01,
           0,
           0.14,
           -0.34,
           -0.15,
           -0.2,
           -0.02,
           0.01,
           0.19,
           1
          ]
         ],
         "type": "heatmap",
         "uid": "abe7d9b5-8548-44cb-befb-b7f999ef7726",
         "x": [
          "year_x",
          "pf_score",
          "ef_score",
          "hf_score",
          "hf_rank",
          "HF_quartile",
          "HappinessRank",
          "HappinessScore",
          "Economy",
          "Family",
          "health",
          "Freedom",
          "Trust",
          "Generosity",
          "Dystopia Residual",
          "year_y"
         ],
         "xgap": 4,
         "y": [
          "year_x",
          "pf_score",
          "ef_score",
          "hf_score",
          "hf_rank",
          "HF_quartile",
          "HappinessRank",
          "HappinessScore",
          "Economy",
          "Family",
          "health",
          "Freedom",
          "Trust",
          "Generosity",
          "Dystopia Residual",
          "year_y"
         ],
         "ygap": 4,
         "z": [
          [
           1,
           -0.06856292913803123,
           0.02678976939567997,
           -0.034478023491328884,
           0.061118380169821886,
           -0.0031344540050181505,
           -0.0012651861872435112,
           0.0011325916241752706,
           0.0017476956428618556,
           0.0002933917503553191,
           0.0002603284047980398,
           -0.0006190978900287964,
           0.0020488073551449106,
           -0.0009911149323853065,
           0.0007658213558045663,
           1.4967939909256727e-05
          ],
          [
           -0.06856292913803123,
           1,
           0.6395603353456821,
           0.9442309860820979,
           -0.9428874471303744,
           -0.9080227106411923,
           -0.5430123327110956,
           0.5566123746778555,
           0.5135043785243162,
           0.5071735035470557,
           0.5921817132345609,
           0.3427028911721378,
           0.18960097964809497,
           0.11380708982683053,
           0.11187830486076585,
           0.0163318507302665
          ],
          [
           0.02678976939567997,
           0.6395603353456821,
           1,
           0.8570123202144951,
           -0.8278961642018771,
           -0.7853077474525301,
           -0.5060774722428534,
           0.5138201553805211,
           0.5727081235008428,
           0.4276199595628437,
           0.5970114973794015,
           0.44304275946267563,
           0.36753486013693376,
           0.1719878225931047,
           -0.05436456437272256,
           0.014128151623020016
          ],
          [
           -0.034478023491328884,
           0.9442309860820979,
           0.8570123202144951,
           1,
           -0.9866358287200695,
           -0.9449919194038632,
           -0.5807370370174384,
           0.5931644451399426,
           0.5894625025934727,
           0.5230810745089798,
           0.6526587520594179,
           0.41950641011351614,
           0.2844047859327352,
           0.15003544807977826,
           0.051720839473943285,
           0.01699387934763019
          ],
          [
           0.061118380169821886,
           -0.9428874471303744,
           -0.8278961642018771,
           -0.9866358287200695,
           1,
           0.9653920559140133,
           0.5856937164094659,
           -0.5974303389965641,
           -0.5926442422077537,
           -0.5210098620986972,
           -0.6624533961156767,
           -0.39625578130979844,
           -0.2678665110356629,
           -0.16822021476875745,
           -0.060182364692286626,
           -0.018793098565203777
          ],
          [
           -0.0031344540050181505,
           -0.9080227106411923,
           -0.7853077474525301,
           -0.9449919194038632,
           0.9653920559140133,
           1,
           0.5758066148007727,
           -0.5810371750329796,
           -0.581882301351373,
           -0.5137884963586181,
           -0.6527125271283132,
           -0.37101662189213624,
           -0.22335383516301965,
           -0.1628091297430784,
           -0.05917866744096097,
           -0.020220204104311197
          ],
          [
           -0.0012651861872435112,
           -0.5430123327110956,
           -0.5060774722428534,
           -0.5807370370174384,
           0.5856937164094659,
           0.5758066148007727,
           1,
           -0.9937569244255078,
           -0.7932325452116001,
           -0.6827316163661257,
           -0.7321332015804671,
           -0.5392725160078998,
           -0.40713990838360037,
           -0.14945882699201582,
           -0.5474361794588107,
           -0.005885413074320422
          ],
          [
           0.0011325916241752706,
           0.5566123746778555,
           0.5138201553805211,
           0.5931644451399426,
           -0.5974303389965641,
           -0.5810371750329796,
           -0.9937569244255078,
           1,
           0.7885198010179502,
           0.6909136692528475,
           0.7263161403228962,
           0.5544722340485425,
           0.4265734093905661,
           0.16757015818844997,
           0.5495715012552983,
           0.0034482307827855265
          ],
          [
           0.0017476956428618556,
           0.5135043785243162,
           0.5727081235008428,
           0.5894625025934727,
           -0.5926442422077537,
           -0.581882301351373,
           -0.7932325452116001,
           0.7885198010179502,
           1,
           0.5831173016708094,
           0.7785728179432038,
           0.3338625740144726,
           0.36049853593856046,
           0.005530276591163263,
           0.11438778293228083,
           0.1440136945069196
          ],
          [
           0.0002933917503553191,
           0.5071735035470557,
           0.4276199595628437,
           0.5230810745089798,
           -0.5210098620986972,
           -0.5137884963586181,
           -0.6827316163661257,
           0.6909136692528475,
           0.5831173016708094,
           1,
           0.5611619857854631,
           0.4813859315813309,
           0.21008289303630667,
           0.08175929703695295,
           0.06987482578443915,
           -0.342453863864983
          ],
          [
           0.0002603284047980398,
           0.5921817132345609,
           0.5970114973794015,
           0.6526587520594179,
           -0.6624533961156767,
           -0.6527125271283132,
           -0.7321332015804671,
           0.7263161403228962,
           0.7785728179432038,
           0.5611619857854631,
           1,
           0.3716882909023505,
           0.3076253917573142,
           0.1010577543112942,
           0.04417493901002976,
           -0.14646942072544797
          ],
          [
           -0.0006190978900287964,
           0.3427028911721378,
           0.44304275946267563,
           0.41950641011351614,
           -0.39625578130979844,
           -0.37101662189213624,
           -0.5392725160078998,
           0.5544722340485425,
           0.3338625740144726,
           0.4813859315813309,
           0.3716882909023505,
           1,
           0.5128470530538526,
           0.37271682721281657,
           0.042563086579536405,
           -0.19902348399074807
          ],
          [
           0.0020488073551449106,
           0.18960097964809497,
           0.36753486013693376,
           0.2844047859327352,
           -0.2678665110356629,
           -0.22335383516301965,
           -0.40713990838360037,
           0.4265734093905661,
           0.36049853593856046,
           0.21008289303630667,
           0.3076253917573142,
           0.5128470530538526,
           1,
           0.2890220285591318,
           -0.02899243616344596,
           -0.0208510684759403
          ],
          [
           -0.0009911149323853065,
           0.11380708982683053,
           0.1719878225931047,
           0.15003544807977826,
           -0.16822021476875745,
           -0.1628091297430784,
           -0.14945882699201582,
           0.16757015818844997,
           0.005530276591163263,
           0.08175929703695295,
           0.1010577543112942,
           0.37271682721281657,
           0.2890220285591318,
           1,
           -0.13607206860041715,
           0.013032235875238002
          ],
          [
           0.0007658213558045663,
           0.11187830486076585,
           -0.05436456437272256,
           0.051720839473943285,
           -0.060182364692286626,
           -0.05917866744096097,
           -0.5474361794588107,
           0.5495715012552983,
           0.11438778293228083,
           0.06987482578443915,
           0.04417493901002976,
           0.042563086579536405,
           -0.02899243616344596,
           -0.13607206860041715,
           1,
           0.18713436197010758
          ],
          [
           1.4967939909256727e-05,
           0.0163318507302665,
           0.014128151623020016,
           0.01699387934763019,
           -0.018793098565203777,
           -0.020220204104311197,
           -0.005885413074320422,
           0.0034482307827855265,
           0.1440136945069196,
           -0.342453863864983,
           -0.14646942072544797,
           -0.19902348399074807,
           -0.0208510684759403,
           0.013032235875238002,
           0.18713436197010758,
           1
          ]
         ]
        }
       ],
       "layout": {
        "autosize": true,
        "margin": {
         "b": 120,
         "l": 170
        },
        "title": {
         "text": "How world happiness factors and human freedom factors correlate?"
        },
        "xaxis": {
         "tickmode": "linear"
        }
       }
      },
      "text/html": [
       "<div id=\"fa18e53d-64a5-44c8-ada0-9ec3ced0a75d\" style=\"height: 525px; width: 100%;\" class=\"plotly-graph-div\"></div><script type=\"text/javascript\">require([\"plotly\"], function(Plotly) { window.PLOTLYENV=window.PLOTLYENV || {};window.PLOTLYENV.BASE_URL=\"https://plot.ly\";\n",
       "if (document.getElementById(\"fa18e53d-64a5-44c8-ada0-9ec3ced0a75d\")) {\n",
       "    Plotly.newPlot(\"fa18e53d-64a5-44c8-ada0-9ec3ced0a75d\", [{\"colorscale\": \"Viridis\", \"text\": [[1.0, -0.07, 0.03, -0.03, 0.06, -0.0, -0.0, 0.0, 0.0, 0.0, 0.0, -0.0, 0.0, -0.0, 0.0, 0.0], [-0.07, 1.0, 0.64, 0.94, -0.94, -0.91, -0.54, 0.56, 0.51, 0.51, 0.59, 0.34, 0.19, 0.11, 0.11, 0.02], [0.03, 0.64, 1.0, 0.86, -0.83, -0.79, -0.51, 0.51, 0.57, 0.43, 0.6, 0.44, 0.37, 0.17, -0.05, 0.01], [-0.03, 0.94, 0.86, 1.0, -0.99, -0.94, -0.58, 0.59, 0.59, 0.52, 0.65, 0.42, 0.28, 0.15, 0.05, 0.02], [0.06, -0.94, -0.83, -0.99, 1.0, 0.97, 0.59, -0.6, -0.59, -0.52, -0.66, -0.4, -0.27, -0.17, -0.06, -0.02], [-0.0, -0.91, -0.79, -0.94, 0.97, 1.0, 0.58, -0.58, -0.58, -0.51, -0.65, -0.37, -0.22, -0.16, -0.06, -0.02], [-0.0, -0.54, -0.51, -0.58, 0.59, 0.58, 1.0, -0.99, -0.79, -0.68, -0.73, -0.54, -0.41, -0.15, -0.55, -0.01], [0.0, 0.56, 0.51, 0.59, -0.6, -0.58, -0.99, 1.0, 0.79, 0.69, 0.73, 0.55, 0.43, 0.17, 0.55, 0.0], [0.0, 0.51, 0.57, 0.59, -0.59, -0.58, -0.79, 0.79, 1.0, 0.58, 0.78, 0.33, 0.36, 0.01, 0.11, 0.14], [0.0, 0.51, 0.43, 0.52, -0.52, -0.51, -0.68, 0.69, 0.58, 1.0, 0.56, 0.48, 0.21, 0.08, 0.07, -0.34], [0.0, 0.59, 0.6, 0.65, -0.66, -0.65, -0.73, 0.73, 0.78, 0.56, 1.0, 0.37, 0.31, 0.1, 0.04, -0.15], [-0.0, 0.34, 0.44, 0.42, -0.4, -0.37, -0.54, 0.55, 0.33, 0.48, 0.37, 1.0, 0.51, 0.37, 0.04, -0.2], [0.0, 0.19, 0.37, 0.28, -0.27, -0.22, -0.41, 0.43, 0.36, 0.21, 0.31, 0.51, 1.0, 0.29, -0.03, -0.02], [-0.0, 0.11, 0.17, 0.15, -0.17, -0.16, -0.15, 0.17, 0.01, 0.08, 0.1, 0.37, 0.29, 1.0, -0.14, 0.01], [0.0, 0.11, -0.05, 0.05, -0.06, -0.06, -0.55, 0.55, 0.11, 0.07, 0.04, 0.04, -0.03, -0.14, 1.0, 0.19], [0.0, 0.02, 0.01, 0.02, -0.02, -0.02, -0.01, 0.0, 0.14, -0.34, -0.15, -0.2, -0.02, 0.01, 0.19, 1.0]], \"x\": [\"year_x\", \"pf_score\", \"ef_score\", \"hf_score\", \"hf_rank\", \"HF_quartile\", \"HappinessRank\", \"HappinessScore\", \"Economy\", \"Family\", \"health\", \"Freedom\", \"Trust\", \"Generosity\", \"Dystopia Residual\", \"year_y\"], \"xgap\": 4, \"y\": [\"year_x\", \"pf_score\", \"ef_score\", \"hf_score\", \"hf_rank\", \"HF_quartile\", \"HappinessRank\", \"HappinessScore\", \"Economy\", \"Family\", \"health\", \"Freedom\", \"Trust\", \"Generosity\", \"Dystopia Residual\", \"year_y\"], \"ygap\": 4, \"z\": [[1.0, -0.06856292913803123, 0.02678976939567997, -0.034478023491328884, 0.061118380169821886, -0.0031344540050181505, -0.0012651861872435112, 0.0011325916241752706, 0.0017476956428618556, 0.0002933917503553191, 0.0002603284047980398, -0.0006190978900287964, 0.0020488073551449106, -0.0009911149323853065, 0.0007658213558045663, 1.4967939909256727e-05], [-0.06856292913803123, 1.0, 0.6395603353456821, 0.9442309860820979, -0.9428874471303744, -0.9080227106411923, -0.5430123327110956, 0.5566123746778555, 0.5135043785243162, 0.5071735035470557, 0.5921817132345609, 0.3427028911721378, 0.18960097964809497, 0.11380708982683053, 0.11187830486076585, 0.0163318507302665], [0.02678976939567997, 0.6395603353456821, 1.0, 0.8570123202144951, -0.8278961642018771, -0.7853077474525301, -0.5060774722428534, 0.5138201553805211, 0.5727081235008428, 0.4276199595628437, 0.5970114973794015, 0.44304275946267563, 0.36753486013693376, 0.1719878225931047, -0.05436456437272256, 0.014128151623020016], [-0.034478023491328884, 0.9442309860820979, 0.8570123202144951, 1.0, -0.9866358287200695, -0.9449919194038632, -0.5807370370174384, 0.5931644451399426, 0.5894625025934727, 0.5230810745089798, 0.6526587520594179, 0.41950641011351614, 0.2844047859327352, 0.15003544807977826, 0.051720839473943285, 0.01699387934763019], [0.061118380169821886, -0.9428874471303744, -0.8278961642018771, -0.9866358287200695, 1.0, 0.9653920559140133, 0.5856937164094659, -0.5974303389965641, -0.5926442422077537, -0.5210098620986972, -0.6624533961156767, -0.39625578130979844, -0.2678665110356629, -0.16822021476875745, -0.060182364692286626, -0.018793098565203777], [-0.0031344540050181505, -0.9080227106411923, -0.7853077474525301, -0.9449919194038632, 0.9653920559140133, 1.0, 0.5758066148007727, -0.5810371750329796, -0.581882301351373, -0.5137884963586181, -0.6527125271283132, -0.37101662189213624, -0.22335383516301965, -0.1628091297430784, -0.05917866744096097, -0.020220204104311197], [-0.0012651861872435112, -0.5430123327110956, -0.5060774722428534, -0.5807370370174384, 0.5856937164094659, 0.5758066148007727, 1.0, -0.9937569244255078, -0.7932325452116001, -0.6827316163661257, -0.7321332015804671, -0.5392725160078998, -0.40713990838360037, -0.14945882699201582, -0.5474361794588107, -0.005885413074320422], [0.0011325916241752706, 0.5566123746778555, 0.5138201553805211, 0.5931644451399426, -0.5974303389965641, -0.5810371750329796, -0.9937569244255078, 1.0, 0.7885198010179502, 0.6909136692528475, 0.7263161403228962, 0.5544722340485425, 0.4265734093905661, 0.16757015818844997, 0.5495715012552983, 0.0034482307827855265], [0.0017476956428618556, 0.5135043785243162, 0.5727081235008428, 0.5894625025934727, -0.5926442422077537, -0.581882301351373, -0.7932325452116001, 0.7885198010179502, 1.0, 0.5831173016708094, 0.7785728179432038, 0.3338625740144726, 0.36049853593856046, 0.005530276591163263, 0.11438778293228083, 0.1440136945069196], [0.0002933917503553191, 0.5071735035470557, 0.4276199595628437, 0.5230810745089798, -0.5210098620986972, -0.5137884963586181, -0.6827316163661257, 0.6909136692528475, 0.5831173016708094, 1.0, 0.5611619857854631, 0.4813859315813309, 0.21008289303630667, 0.08175929703695295, 0.06987482578443915, -0.342453863864983], [0.0002603284047980398, 0.5921817132345609, 0.5970114973794015, 0.6526587520594179, -0.6624533961156767, -0.6527125271283132, -0.7321332015804671, 0.7263161403228962, 0.7785728179432038, 0.5611619857854631, 1.0, 0.3716882909023505, 0.3076253917573142, 0.1010577543112942, 0.04417493901002976, -0.14646942072544797], [-0.0006190978900287964, 0.3427028911721378, 0.44304275946267563, 0.41950641011351614, -0.39625578130979844, -0.37101662189213624, -0.5392725160078998, 0.5544722340485425, 0.3338625740144726, 0.4813859315813309, 0.3716882909023505, 1.0, 0.5128470530538526, 0.37271682721281657, 0.042563086579536405, -0.19902348399074807], [0.0020488073551449106, 0.18960097964809497, 0.36753486013693376, 0.2844047859327352, -0.2678665110356629, -0.22335383516301965, -0.40713990838360037, 0.4265734093905661, 0.36049853593856046, 0.21008289303630667, 0.3076253917573142, 0.5128470530538526, 1.0, 0.2890220285591318, -0.02899243616344596, -0.0208510684759403], [-0.0009911149323853065, 0.11380708982683053, 0.1719878225931047, 0.15003544807977826, -0.16822021476875745, -0.1628091297430784, -0.14945882699201582, 0.16757015818844997, 0.005530276591163263, 0.08175929703695295, 0.1010577543112942, 0.37271682721281657, 0.2890220285591318, 1.0, -0.13607206860041715, 0.013032235875238002], [0.0007658213558045663, 0.11187830486076585, -0.05436456437272256, 0.051720839473943285, -0.060182364692286626, -0.05917866744096097, -0.5474361794588107, 0.5495715012552983, 0.11438778293228083, 0.06987482578443915, 0.04417493901002976, 0.042563086579536405, -0.02899243616344596, -0.13607206860041715, 1.0, 0.18713436197010758], [1.4967939909256727e-05, 0.0163318507302665, 0.014128151623020016, 0.01699387934763019, -0.018793098565203777, -0.020220204104311197, -0.005885413074320422, 0.0034482307827855265, 0.1440136945069196, -0.342453863864983, -0.14646942072544797, -0.19902348399074807, -0.0208510684759403, 0.013032235875238002, 0.18713436197010758, 1.0]], \"type\": \"heatmap\", \"uid\": \"abe7d9b5-8548-44cb-befb-b7f999ef7726\"}], {\"autosize\": true, \"margin\": {\"b\": 120, \"l\": 170}, \"title\": {\"text\": \"How world happiness factors and human freedom factors correlate?\"}, \"xaxis\": {\"tickmode\": \"linear\"}}, {\"showLink\": false, \"linkText\": \"Export to plot.ly\", \"plotlyServerURL\": \"https://plot.ly\"}); \n",
       "}\n",
       "});</script><script type=\"text/javascript\">window.addEventListener(\"resize\", function(){if (document.getElementById(\"fa18e53d-64a5-44c8-ada0-9ec3ced0a75d\")) {window._Plotly.Plots.resize(document.getElementById(\"fa18e53d-64a5-44c8-ada0-9ec3ced0a75d\"));};})</script>"
      ],
      "text/vnd.plotly.v1+html": [
       "<div id=\"fa18e53d-64a5-44c8-ada0-9ec3ced0a75d\" style=\"height: 525px; width: 100%;\" class=\"plotly-graph-div\"></div><script type=\"text/javascript\">require([\"plotly\"], function(Plotly) { window.PLOTLYENV=window.PLOTLYENV || {};window.PLOTLYENV.BASE_URL=\"https://plot.ly\";\n",
       "if (document.getElementById(\"fa18e53d-64a5-44c8-ada0-9ec3ced0a75d\")) {\n",
       "    Plotly.newPlot(\"fa18e53d-64a5-44c8-ada0-9ec3ced0a75d\", [{\"colorscale\": \"Viridis\", \"text\": [[1.0, -0.07, 0.03, -0.03, 0.06, -0.0, -0.0, 0.0, 0.0, 0.0, 0.0, -0.0, 0.0, -0.0, 0.0, 0.0], [-0.07, 1.0, 0.64, 0.94, -0.94, -0.91, -0.54, 0.56, 0.51, 0.51, 0.59, 0.34, 0.19, 0.11, 0.11, 0.02], [0.03, 0.64, 1.0, 0.86, -0.83, -0.79, -0.51, 0.51, 0.57, 0.43, 0.6, 0.44, 0.37, 0.17, -0.05, 0.01], [-0.03, 0.94, 0.86, 1.0, -0.99, -0.94, -0.58, 0.59, 0.59, 0.52, 0.65, 0.42, 0.28, 0.15, 0.05, 0.02], [0.06, -0.94, -0.83, -0.99, 1.0, 0.97, 0.59, -0.6, -0.59, -0.52, -0.66, -0.4, -0.27, -0.17, -0.06, -0.02], [-0.0, -0.91, -0.79, -0.94, 0.97, 1.0, 0.58, -0.58, -0.58, -0.51, -0.65, -0.37, -0.22, -0.16, -0.06, -0.02], [-0.0, -0.54, -0.51, -0.58, 0.59, 0.58, 1.0, -0.99, -0.79, -0.68, -0.73, -0.54, -0.41, -0.15, -0.55, -0.01], [0.0, 0.56, 0.51, 0.59, -0.6, -0.58, -0.99, 1.0, 0.79, 0.69, 0.73, 0.55, 0.43, 0.17, 0.55, 0.0], [0.0, 0.51, 0.57, 0.59, -0.59, -0.58, -0.79, 0.79, 1.0, 0.58, 0.78, 0.33, 0.36, 0.01, 0.11, 0.14], [0.0, 0.51, 0.43, 0.52, -0.52, -0.51, -0.68, 0.69, 0.58, 1.0, 0.56, 0.48, 0.21, 0.08, 0.07, -0.34], [0.0, 0.59, 0.6, 0.65, -0.66, -0.65, -0.73, 0.73, 0.78, 0.56, 1.0, 0.37, 0.31, 0.1, 0.04, -0.15], [-0.0, 0.34, 0.44, 0.42, -0.4, -0.37, -0.54, 0.55, 0.33, 0.48, 0.37, 1.0, 0.51, 0.37, 0.04, -0.2], [0.0, 0.19, 0.37, 0.28, -0.27, -0.22, -0.41, 0.43, 0.36, 0.21, 0.31, 0.51, 1.0, 0.29, -0.03, -0.02], [-0.0, 0.11, 0.17, 0.15, -0.17, -0.16, -0.15, 0.17, 0.01, 0.08, 0.1, 0.37, 0.29, 1.0, -0.14, 0.01], [0.0, 0.11, -0.05, 0.05, -0.06, -0.06, -0.55, 0.55, 0.11, 0.07, 0.04, 0.04, -0.03, -0.14, 1.0, 0.19], [0.0, 0.02, 0.01, 0.02, -0.02, -0.02, -0.01, 0.0, 0.14, -0.34, -0.15, -0.2, -0.02, 0.01, 0.19, 1.0]], \"x\": [\"year_x\", \"pf_score\", \"ef_score\", \"hf_score\", \"hf_rank\", \"HF_quartile\", \"HappinessRank\", \"HappinessScore\", \"Economy\", \"Family\", \"health\", \"Freedom\", \"Trust\", \"Generosity\", \"Dystopia Residual\", \"year_y\"], \"xgap\": 4, \"y\": [\"year_x\", \"pf_score\", \"ef_score\", \"hf_score\", \"hf_rank\", \"HF_quartile\", \"HappinessRank\", \"HappinessScore\", \"Economy\", \"Family\", \"health\", \"Freedom\", \"Trust\", \"Generosity\", \"Dystopia Residual\", \"year_y\"], \"ygap\": 4, \"z\": [[1.0, -0.06856292913803123, 0.02678976939567997, -0.034478023491328884, 0.061118380169821886, -0.0031344540050181505, -0.0012651861872435112, 0.0011325916241752706, 0.0017476956428618556, 0.0002933917503553191, 0.0002603284047980398, -0.0006190978900287964, 0.0020488073551449106, -0.0009911149323853065, 0.0007658213558045663, 1.4967939909256727e-05], [-0.06856292913803123, 1.0, 0.6395603353456821, 0.9442309860820979, -0.9428874471303744, -0.9080227106411923, -0.5430123327110956, 0.5566123746778555, 0.5135043785243162, 0.5071735035470557, 0.5921817132345609, 0.3427028911721378, 0.18960097964809497, 0.11380708982683053, 0.11187830486076585, 0.0163318507302665], [0.02678976939567997, 0.6395603353456821, 1.0, 0.8570123202144951, -0.8278961642018771, -0.7853077474525301, -0.5060774722428534, 0.5138201553805211, 0.5727081235008428, 0.4276199595628437, 0.5970114973794015, 0.44304275946267563, 0.36753486013693376, 0.1719878225931047, -0.05436456437272256, 0.014128151623020016], [-0.034478023491328884, 0.9442309860820979, 0.8570123202144951, 1.0, -0.9866358287200695, -0.9449919194038632, -0.5807370370174384, 0.5931644451399426, 0.5894625025934727, 0.5230810745089798, 0.6526587520594179, 0.41950641011351614, 0.2844047859327352, 0.15003544807977826, 0.051720839473943285, 0.01699387934763019], [0.061118380169821886, -0.9428874471303744, -0.8278961642018771, -0.9866358287200695, 1.0, 0.9653920559140133, 0.5856937164094659, -0.5974303389965641, -0.5926442422077537, -0.5210098620986972, -0.6624533961156767, -0.39625578130979844, -0.2678665110356629, -0.16822021476875745, -0.060182364692286626, -0.018793098565203777], [-0.0031344540050181505, -0.9080227106411923, -0.7853077474525301, -0.9449919194038632, 0.9653920559140133, 1.0, 0.5758066148007727, -0.5810371750329796, -0.581882301351373, -0.5137884963586181, -0.6527125271283132, -0.37101662189213624, -0.22335383516301965, -0.1628091297430784, -0.05917866744096097, -0.020220204104311197], [-0.0012651861872435112, -0.5430123327110956, -0.5060774722428534, -0.5807370370174384, 0.5856937164094659, 0.5758066148007727, 1.0, -0.9937569244255078, -0.7932325452116001, -0.6827316163661257, -0.7321332015804671, -0.5392725160078998, -0.40713990838360037, -0.14945882699201582, -0.5474361794588107, -0.005885413074320422], [0.0011325916241752706, 0.5566123746778555, 0.5138201553805211, 0.5931644451399426, -0.5974303389965641, -0.5810371750329796, -0.9937569244255078, 1.0, 0.7885198010179502, 0.6909136692528475, 0.7263161403228962, 0.5544722340485425, 0.4265734093905661, 0.16757015818844997, 0.5495715012552983, 0.0034482307827855265], [0.0017476956428618556, 0.5135043785243162, 0.5727081235008428, 0.5894625025934727, -0.5926442422077537, -0.581882301351373, -0.7932325452116001, 0.7885198010179502, 1.0, 0.5831173016708094, 0.7785728179432038, 0.3338625740144726, 0.36049853593856046, 0.005530276591163263, 0.11438778293228083, 0.1440136945069196], [0.0002933917503553191, 0.5071735035470557, 0.4276199595628437, 0.5230810745089798, -0.5210098620986972, -0.5137884963586181, -0.6827316163661257, 0.6909136692528475, 0.5831173016708094, 1.0, 0.5611619857854631, 0.4813859315813309, 0.21008289303630667, 0.08175929703695295, 0.06987482578443915, -0.342453863864983], [0.0002603284047980398, 0.5921817132345609, 0.5970114973794015, 0.6526587520594179, -0.6624533961156767, -0.6527125271283132, -0.7321332015804671, 0.7263161403228962, 0.7785728179432038, 0.5611619857854631, 1.0, 0.3716882909023505, 0.3076253917573142, 0.1010577543112942, 0.04417493901002976, -0.14646942072544797], [-0.0006190978900287964, 0.3427028911721378, 0.44304275946267563, 0.41950641011351614, -0.39625578130979844, -0.37101662189213624, -0.5392725160078998, 0.5544722340485425, 0.3338625740144726, 0.4813859315813309, 0.3716882909023505, 1.0, 0.5128470530538526, 0.37271682721281657, 0.042563086579536405, -0.19902348399074807], [0.0020488073551449106, 0.18960097964809497, 0.36753486013693376, 0.2844047859327352, -0.2678665110356629, -0.22335383516301965, -0.40713990838360037, 0.4265734093905661, 0.36049853593856046, 0.21008289303630667, 0.3076253917573142, 0.5128470530538526, 1.0, 0.2890220285591318, -0.02899243616344596, -0.0208510684759403], [-0.0009911149323853065, 0.11380708982683053, 0.1719878225931047, 0.15003544807977826, -0.16822021476875745, -0.1628091297430784, -0.14945882699201582, 0.16757015818844997, 0.005530276591163263, 0.08175929703695295, 0.1010577543112942, 0.37271682721281657, 0.2890220285591318, 1.0, -0.13607206860041715, 0.013032235875238002], [0.0007658213558045663, 0.11187830486076585, -0.05436456437272256, 0.051720839473943285, -0.060182364692286626, -0.05917866744096097, -0.5474361794588107, 0.5495715012552983, 0.11438778293228083, 0.06987482578443915, 0.04417493901002976, 0.042563086579536405, -0.02899243616344596, -0.13607206860041715, 1.0, 0.18713436197010758], [1.4967939909256727e-05, 0.0163318507302665, 0.014128151623020016, 0.01699387934763019, -0.018793098565203777, -0.020220204104311197, -0.005885413074320422, 0.0034482307827855265, 0.1440136945069196, -0.342453863864983, -0.14646942072544797, -0.19902348399074807, -0.0208510684759403, 0.013032235875238002, 0.18713436197010758, 1.0]], \"type\": \"heatmap\", \"uid\": \"abe7d9b5-8548-44cb-befb-b7f999ef7726\"}], {\"autosize\": true, \"margin\": {\"b\": 120, \"l\": 170}, \"title\": {\"text\": \"How world happiness factors and human freedom factors correlate?\"}, \"xaxis\": {\"tickmode\": \"linear\"}}, {\"showLink\": false, \"linkText\": \"Export to plot.ly\", \"plotlyServerURL\": \"https://plot.ly\"}); \n",
       "}\n",
       "});</script><script type=\"text/javascript\">window.addEventListener(\"resize\", function(){if (document.getElementById(\"fa18e53d-64a5-44c8-ada0-9ec3ced0a75d\")) {window._Plotly.Plots.resize(document.getElementById(\"fa18e53d-64a5-44c8-ada0-9ec3ced0a75d\"));};})</script>"
      ]
     },
     "metadata": {},
     "output_type": "display_data"
    }
   ],
   "source": [
    "\n",
    "corrs=merged_dataset.corr()\n",
    "data = [go.Heatmap(\n",
    "  z=corrs.values,\n",
    "    x=list(corrs.columns),\n",
    "    y=list(corrs.index),\n",
    "  xgap = 4,\n",
    "  ygap = 4,\n",
    "  colorscale = 'Viridis',\n",
    "    text=corrs.round(2).values\n",
    ")]\n",
    " \n",
    "layout = go.Layout(\n",
    "  title = 'How world happiness factors and human freedom factors correlate?',\n",
    "  xaxis = dict(\n",
    "    tickmode = 'linear'\n",
    "  ),\n",
    "      autosize=True,\n",
    "    margin=dict(\n",
    "        l=170,\n",
    "        b=120,\n",
    "    )\n",
    "   \n",
    ")\n",
    " \n",
    "fig = go.Figure(data=data, layout=layout)\n",
    "iplot(fig, filename='heatmap-with-padding')\n"
   ]
  },
  {
   "cell_type": "markdown",
   "metadata": {},
   "source": [
    "-"
   ]
  },
  {
   "cell_type": "markdown",
   "metadata": {},
   "source": [
    "-"
   ]
  },
  {
   "cell_type": "markdown",
   "metadata": {
    "slideshow": {
     "slide_type": "slide"
    }
   },
   "source": [
    "# Does this say that the less freedom people have the more likely to be happy? "
   ]
  },
  {
   "cell_type": "markdown",
   "metadata": {
    "slideshow": {
     "slide_type": "slide"
    }
   },
   "source": [
    "-----------\n",
    "\n",
    "-----------\n",
    "\n",
    "-----------\n",
    "\n",
    "-----------\n",
    "Mashael Alzaid\n",
    "\n",
    "delivered as part of Data Viz Course requirements\n",
    "\n",
    "DCU@PNU 2019"
   ]
  }
 ],
 "metadata": {
  "kernelspec": {
   "display_name": "Python 3",
   "language": "python",
   "name": "python3"
  },
  "language_info": {
   "codemirror_mode": {
    "name": "ipython",
    "version": 3
   },
   "file_extension": ".py",
   "mimetype": "text/x-python",
   "name": "python",
   "nbconvert_exporter": "python",
   "pygments_lexer": "ipython3",
   "version": "3.6.3"
  }
 },
 "nbformat": 4,
 "nbformat_minor": 2
}
